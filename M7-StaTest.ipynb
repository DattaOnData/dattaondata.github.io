{
 "cells": [
  {
   "cell_type": "markdown",
   "metadata": {
    "slideshow": {
     "slide_type": "slide"
    }
   },
   "source": [
    "# Some basic statistical concepts and tools \n",
    "<br><br>\n",
    "<div style=\"background-color:rgba(128, 128, 0, 0.1); text-align:left; vertical-align: middle; padding:20px 0;\">\n",
    "<p style=\"font-size:134%;color:Deep Teal;\">SC 4125: Developing Data Products</p>\n",
    "    <p style=\"font-size:100%;color:Olive;\">Module-7: Statistical toolkit</p><br>\n",
    "\n",
    "    \n",
    "<br> \n",
    "by <a href=\"https://personal.ntu.edu.sg/anwitaman/\" style=\"font-size:100%;color:Deep Teal;\">Anwitaman DATTA</a><br>\n",
    "School of Computer Science and Engineering, NTU Singapore.        \n",
    "</div>"
   ]
  },
  {
   "cell_type": "markdown",
   "metadata": {
    "slideshow": {
     "slide_type": "slide"
    }
   },
   "source": [
    "#### Teaching material\n",
    "- <a href=\"M7-StaTest.slides.html\">.html</a> deck of slides\n",
    "- <a href=\"M7-StaTest.ipynb\">.ipynb</a> Jupyter notebook"
   ]
  },
  {
   "cell_type": "markdown",
   "metadata": {
    "slideshow": {
     "slide_type": "slide"
    }
   },
   "source": [
    "### Disclaimer/Caveat emptor\n",
    "\n",
    "- Non-systematic and non-exhaustive review\n",
    "- Illustrative approaches are not necessarily the most efficient or elegant, let alone unique"
   ]
  },
  {
   "cell_type": "markdown",
   "metadata": {
    "slideshow": {
     "slide_type": "slide"
    }
   },
   "source": [
    "### Acknowledgement & Disclaimer\n",
    "\n",
    "> The main narrative of this module is based on the first three chapters of the book <a href=\"https://www.oreilly.com/library/view/practical-statistics-for/9781491952955/\">Practical Statistics for Data Scientists</a> by Bruce et al. \n",
    ">\n",
    ">Data and code in this module are also copied & adapted from the <a href=\"https://github.com/gedeck/practical-statistics-for-data-scientists\">github</a> resources accompanying the book, following *fair use* permission provided by the authors and publisher as per in the book's preface. \n",
    ">\n",
    "> Few other online sources and images have also been used to prepare the material in this module. Original sources have been attributed and acknowledged to the best of my abilities. Should anything in the material need to be changed or redacted, the copyright owners are requested to contact me at anwitaman@ntu.edu.sg\n",
    "<center>\n",
    "<a href=\"https://www.oreilly.com/library/view/practical-statistics-for/9781491952955/\"><img src=\"pics/PracticalStatsCoverPage.jpg\" alt=\"Big picture\" width=\"140\"/></a></center>"
   ]
  },
  {
   "cell_type": "markdown",
   "metadata": {
    "slideshow": {
     "slide_type": "slide"
    }
   },
   "source": [
    "### Module outline\n",
    "\n",
    "> <span style=\"color:olivedrab\">Bare basics</span>\n",
    "\n",
    "> <span style=\"color:olivedrab\">Sampling</span>\n",
    "\n",
    "> <span style=\"color:olivedrab\">Statistical experiments & significance</span>"
   ]
  },
  {
   "cell_type": "code",
   "execution_count": 1,
   "metadata": {
    "slideshow": {
     "slide_type": "slide"
    }
   },
   "outputs": [],
   "source": [
    "# Library imports & data directory path  \n",
    "import pandas as pd\n",
    "import numpy as np\n",
    "from scipy.stats import trim_mean\n",
    "from statsmodels import robust\n",
    "#!pip install wquantiles\n",
    "import wquantiles\n",
    "\n",
    "import seaborn as sns\n",
    "import matplotlib.pylab as plt\n",
    "import random\n",
    "practicalstatspath ='data/practical-stats/' # change this to adjust relative path"
   ]
  },
  {
   "cell_type": "markdown",
   "metadata": {
    "slideshow": {
     "slide_type": "slide"
    }
   },
   "source": [
    "## <span style=\"color:olivedrab\">Bare basics</span>\n",
    "\n",
    "<center><img src=\"pics/correlation.png\" alt=\"Big picture\" width=\"500\"/></center>\n",
    "\n",
    "Image source: <a href=\"https://xkcd.com/552/\">XKCD</a>"
   ]
  },
  {
   "cell_type": "markdown",
   "metadata": {
    "slideshow": {
     "slide_type": "slide"
    }
   },
   "source": [
    "Estimates of <span style=\"color:indianred\"><b>location</b></span>\n",
    "\n",
    "<b>location</b>: Where is the data (in a possibly multi-dimensional space)? Its typical value, i.e., its <span style=\"color:SteelBlue\">central tendency</span> "
   ]
  },
  {
   "cell_type": "markdown",
   "metadata": {
    "slideshow": {
     "slide_type": "fragment"
    }
   },
   "source": [
    "> <b>mean</b>"
   ]
  },
  {
   "cell_type": "markdown",
   "metadata": {
    "slideshow": {
     "slide_type": "fragment"
    }
   },
   "source": [
    "> <b>weighted mean</b>: $\\bar{x_w}=\\frac{\\sum_{i=1}^n{w_i x_i}}{\\sum_{i=1}^n{w_i}}$"
   ]
  },
  {
   "cell_type": "markdown",
   "metadata": {
    "slideshow": {
     "slide_type": "fragment"
    }
   },
   "source": [
    "> <b>trimmed mean</b>: $\\bar{x}=\\frac{\\sum_{i=p+1}^{n-p}{x_{(i)}}}{n-2p}$ where $x_{(i)}$ is the _i_-th largest value, _p_ is the trimming parameter. \n",
    ">> Robust estimate: eliminates influence of extreme values, i.e., <span style=\"color:SteelBlue\">outliers</span>"
   ]
  },
  {
   "cell_type": "markdown",
   "metadata": {
    "slideshow": {
     "slide_type": "fragment"
    }
   },
   "source": [
    "> <b>median</b>"
   ]
  },
  {
   "cell_type": "markdown",
   "metadata": {
    "slideshow": {
     "slide_type": "fragment"
    }
   },
   "source": [
    "> <b>percentile</b>"
   ]
  },
  {
   "cell_type": "markdown",
   "metadata": {
    "slideshow": {
     "slide_type": "slide"
    }
   },
   "source": [
    "#### Example: US states murder rates"
   ]
  },
  {
   "cell_type": "code",
   "execution_count": 2,
   "metadata": {
    "slideshow": {
     "slide_type": "subslide"
    }
   },
   "outputs": [
    {
     "data": {
      "text/html": [
       "<div>\n",
       "<style scoped>\n",
       "    .dataframe tbody tr th:only-of-type {\n",
       "        vertical-align: middle;\n",
       "    }\n",
       "\n",
       "    .dataframe tbody tr th {\n",
       "        vertical-align: top;\n",
       "    }\n",
       "\n",
       "    .dataframe thead th {\n",
       "        text-align: right;\n",
       "    }\n",
       "</style>\n",
       "<table border=\"1\" class=\"dataframe\">\n",
       "  <thead>\n",
       "    <tr style=\"text-align: right;\">\n",
       "      <th></th>\n",
       "      <th>State</th>\n",
       "      <th>Population</th>\n",
       "      <th>Murder.Rate</th>\n",
       "      <th>Abbreviation</th>\n",
       "    </tr>\n",
       "  </thead>\n",
       "  <tbody>\n",
       "    <tr>\n",
       "      <th>0</th>\n",
       "      <td>Alabama</td>\n",
       "      <td>4779736</td>\n",
       "      <td>5.7</td>\n",
       "      <td>AL</td>\n",
       "    </tr>\n",
       "    <tr>\n",
       "      <th>1</th>\n",
       "      <td>Alaska</td>\n",
       "      <td>710231</td>\n",
       "      <td>5.6</td>\n",
       "      <td>AK</td>\n",
       "    </tr>\n",
       "    <tr>\n",
       "      <th>2</th>\n",
       "      <td>Arizona</td>\n",
       "      <td>6392017</td>\n",
       "      <td>4.7</td>\n",
       "      <td>AZ</td>\n",
       "    </tr>\n",
       "    <tr>\n",
       "      <th>3</th>\n",
       "      <td>Arkansas</td>\n",
       "      <td>2915918</td>\n",
       "      <td>5.6</td>\n",
       "      <td>AR</td>\n",
       "    </tr>\n",
       "    <tr>\n",
       "      <th>4</th>\n",
       "      <td>California</td>\n",
       "      <td>37253956</td>\n",
       "      <td>4.4</td>\n",
       "      <td>CA</td>\n",
       "    </tr>\n",
       "  </tbody>\n",
       "</table>\n",
       "</div>"
      ],
      "text/plain": [
       "        State  Population  Murder.Rate Abbreviation\n",
       "0     Alabama     4779736          5.7           AL\n",
       "1      Alaska      710231          5.6           AK\n",
       "2     Arizona     6392017          4.7           AZ\n",
       "3    Arkansas     2915918          5.6           AR\n",
       "4  California    37253956          4.4           CA"
      ]
     },
     "execution_count": 2,
     "metadata": {},
     "output_type": "execute_result"
    }
   ],
   "source": [
    "state_df = pd.read_csv(practicalstatspath+'state.csv')\n",
    "state_df.head()"
   ]
  },
  {
   "cell_type": "code",
   "execution_count": 3,
   "metadata": {
    "slideshow": {
     "slide_type": "subslide"
    }
   },
   "outputs": [
    {
     "name": "stdout",
     "output_type": "stream",
     "text": [
      "Mean: 6162876.3\n",
      "Median: 4436369.5\n",
      "Trimmed Mean: 4783697.125\n"
     ]
    }
   ],
   "source": [
    "print('Mean: '+str(state_df['Population'].mean()))\n",
    "print('Median: '+str(state_df['Population'].median()))\n",
    "print('Trimmed Mean: '+str(trim_mean(state_df['Population'], 0.1))) # from scipy.stats"
   ]
  },
  {
   "cell_type": "markdown",
   "metadata": {
    "slideshow": {
     "slide_type": "subslide"
    }
   },
   "source": [
    "How about national mean and median murder rates? Try to compute that yourselves!"
   ]
  },
  {
   "cell_type": "markdown",
   "metadata": {
    "slideshow": {
     "slide_type": "slide"
    }
   },
   "source": [
    "Estimates of <span style=\"color:indianred\"><b>variability</b></span>\n",
    "\n",
    "<b>variability</b>: Whether and how clustered or dispersed is the data?"
   ]
  },
  {
   "cell_type": "markdown",
   "metadata": {
    "slideshow": {
     "slide_type": "subslide"
    }
   },
   "source": [
    "- <b>variance</b>: $s^2=\\frac{\\sum_i^n(x_i-\\bar{x})^2}{n-1}$ where $\\bar{x}$ is the mean\n",
    "    * division by n-1 to create a unbiased estimate (since there are n-1 degrees of freedom, given $\\bar{x}$)"
   ]
  },
  {
   "cell_type": "markdown",
   "metadata": {
    "slideshow": {
     "slide_type": "fragment"
    }
   },
   "source": [
    "- <b>standard deviation</b>: $s=\\sqrt{\\frac{\\sum_i^n(x_i-\\bar{x})^2}{n-1}}$\n",
    "    * has the same scale as the original data"
   ]
  },
  {
   "cell_type": "markdown",
   "metadata": {
    "slideshow": {
     "slide_type": "fragment"
    }
   },
   "source": [
    "- some other measures:\n",
    "    * <b>mean absolute deviation</b>\n",
    "    * <b>mean absolute deviation from the median (MAD)</b>\n",
    "    * percentiles &  <b>interquartile range (IQR)</b>"
   ]
  },
  {
   "cell_type": "code",
   "execution_count": 4,
   "metadata": {
    "slideshow": {
     "slide_type": "subslide"
    }
   },
   "outputs": [
    {
     "name": "stdout",
     "output_type": "stream",
     "text": [
      "Std. Dev.: 6848235.347401142\n",
      "IQR: 4847308.0\n",
      "MAD: 3849876.1459979336\n"
     ]
    }
   ],
   "source": [
    "print('Std. Dev.: '+str(state_df['Population'].std())) # standard deviation\n",
    "print('IQR: '+str(state_df['Population'].quantile(0.75) - state_df['Population'].quantile(0.25))) # IQR\n",
    "print('MAD: '+str(robust.scale.mad(state_df['Population']))) # MAD computed using a method from statsmodels library"
   ]
  },
  {
   "cell_type": "markdown",
   "metadata": {
    "slideshow": {
     "slide_type": "slide"
    }
   },
   "source": [
    "#### Visualizing the deviation/distribution of data"
   ]
  },
  {
   "cell_type": "code",
   "execution_count": 5,
   "metadata": {
    "slideshow": {
     "slide_type": "subslide"
    }
   },
   "outputs": [
    {
     "data": {
      "image/png": "[encoded data removed]",
      "text/plain": [
       "<Figure size 216x288 with 1 Axes>"
      ]
     },
     "metadata": {
      "needs_background": "light"
     },
     "output_type": "display_data"
    }
   ],
   "source": [
    "ax = (state_df['Population']/1000000).plot.box(figsize=(3, 4))\n",
    "# visualizing the distribution of the quartiles\n",
    "x_axis = ax.axes.get_xaxis()\n",
    "x_axis.set_visible(False)\n",
    "ax.set_ylabel('Population (millions) distribution')\n",
    "plt.tight_layout()\n",
    "plt.show()"
   ]
  },
  {
   "cell_type": "code",
   "execution_count": 6,
   "metadata": {
    "slideshow": {
     "slide_type": "subslide"
    }
   },
   "outputs": [
    {
     "data": {
      "image/png": "[encoded data removed]",
      "text/plain": [
       "<Figure size 288x288 with 1 Axes>"
      ]
     },
     "metadata": {
      "needs_background": "light"
     },
     "output_type": "display_data"
    }
   ],
   "source": [
    "ax = state_df['Murder.Rate'].plot.hist(density=True, xlim=[0, 12], facecolor='gainsboro',\n",
    "                                    bins=range(1,12), figsize=(4, 4))\n",
    "state_df['Murder.Rate'].plot.density(ax=ax)\n",
    "ax.set_xlabel('Murder Rate (per 100,000)')\n",
    "\n",
    "plt.tight_layout()\n",
    "plt.show()"
   ]
  },
  {
   "cell_type": "markdown",
   "metadata": {
    "slideshow": {
     "slide_type": "slide"
    }
   },
   "source": [
    "#### <span style=\"color:indianred\"><b>Correlation</b></span>\n",
    "\n",
    "Pearson's correlation coefficient: $\\frac{\\sum_{i=1}^n (x_i-\\bar{x})(y_i-\\bar{y})}{(n-1)s_xs_y}$"
   ]
  },
  {
   "cell_type": "code",
   "execution_count": 7,
   "metadata": {
    "slideshow": {
     "slide_type": "subslide"
    }
   },
   "outputs": [
    {
     "data": {
      "text/plain": [
       "0.5837062198659806"
      ]
     },
     "execution_count": 7,
     "metadata": {},
     "output_type": "execute_result"
    }
   ],
   "source": [
    "gapminderdatapath ='data/gapminder/' # change this to adjust relative path\n",
    "gap_df = pd.read_csv(gapminderdatapath+'gapminder.tsv', sep='\\t')\n",
    "gap_df['lifeExp'].corr(gap_df['gdpPercap'])"
   ]
  },
  {
   "cell_type": "code",
   "execution_count": 8,
   "metadata": {
    "slideshow": {
     "slide_type": "subslide"
    }
   },
   "outputs": [
    {
     "data": {
      "text/html": [
       "<div>\n",
       "<style scoped>\n",
       "    .dataframe tbody tr th:only-of-type {\n",
       "        vertical-align: middle;\n",
       "    }\n",
       "\n",
       "    .dataframe tbody tr th {\n",
       "        vertical-align: top;\n",
       "    }\n",
       "\n",
       "    .dataframe thead th {\n",
       "        text-align: right;\n",
       "    }\n",
       "</style>\n",
       "<table border=\"1\" class=\"dataframe\">\n",
       "  <thead>\n",
       "    <tr style=\"text-align: right;\">\n",
       "      <th></th>\n",
       "      <th>lifeExp</th>\n",
       "      <th>pop</th>\n",
       "      <th>gdpPercap</th>\n",
       "    </tr>\n",
       "  </thead>\n",
       "  <tbody>\n",
       "    <tr>\n",
       "      <th>lifeExp</th>\n",
       "      <td>1.000000</td>\n",
       "      <td>0.064955</td>\n",
       "      <td>0.583706</td>\n",
       "    </tr>\n",
       "    <tr>\n",
       "      <th>pop</th>\n",
       "      <td>0.064955</td>\n",
       "      <td>1.000000</td>\n",
       "      <td>-0.025600</td>\n",
       "    </tr>\n",
       "    <tr>\n",
       "      <th>gdpPercap</th>\n",
       "      <td>0.583706</td>\n",
       "      <td>-0.025600</td>\n",
       "      <td>1.000000</td>\n",
       "    </tr>\n",
       "  </tbody>\n",
       "</table>\n",
       "</div>"
      ],
      "text/plain": [
       "            lifeExp       pop  gdpPercap\n",
       "lifeExp    1.000000  0.064955   0.583706\n",
       "pop        0.064955  1.000000  -0.025600\n",
       "gdpPercap  0.583706 -0.025600   1.000000"
      ]
     },
     "execution_count": 8,
     "metadata": {},
     "output_type": "execute_result"
    }
   ],
   "source": [
    "gap_df[['lifeExp','pop','gdpPercap']].corr()"
   ]
  },
  {
   "cell_type": "code",
   "execution_count": 9,
   "metadata": {
    "slideshow": {
     "slide_type": "subslide"
    }
   },
   "outputs": [
    {
     "data": {
      "image/png": "[encoded data removed]",
      "text/plain": [
       "<Figure size 360x288 with 2 Axes>"
      ]
     },
     "metadata": {
      "needs_background": "light"
     },
     "output_type": "display_data"
    }
   ],
   "source": [
    "fig, ax = plt.subplots(figsize=(5, 4))\n",
    "ax = sns.heatmap(gap_df[['lifeExp','pop','gdpPercap']].corr(), vmin=-1, vmax=1, \n",
    "                 cmap=sns.diverging_palette(20, 220, as_cmap=True),\n",
    "                 ax=ax)\n",
    "plt.tight_layout()\n",
    "plt.show()"
   ]
  },
  {
   "cell_type": "markdown",
   "metadata": {
    "slideshow": {
     "slide_type": "slide"
    }
   },
   "source": [
    "#### Alternatives\n",
    "\n",
    "- Instead of correlation of the values, if we wanted to work with ranks:\n",
    "    * <a href=\"https://en.wikipedia.org/wiki/Spearman%27s_rank_correlation_coefficient\">Spearman’s $\\rho$</a> \n",
    "    * <a href=\"https://en.wikipedia.org/wiki/Kendall_rank_correlation_coefficient\">Kendall’s $\\tau$</a> \n",
    "    \n",
    "<b>Recall</b>: We earlier encountered the idea of ranking based correlation in Module 2!"
   ]
  },
  {
   "cell_type": "markdown",
   "metadata": {
    "slideshow": {
     "slide_type": "slide"
    }
   },
   "source": [
    "## <span style=\"color:olivedrab\">Sampling<span>\n",
    "\n",
    "<img src=\"pics/catsdogspopulationsample.png\" alt=\"Sampling\" width=\"400\"/><br>\n",
    "\n",
    "- Underlying unknown distribution (left)\n",
    "- Empirical distribution of the available sample (right)"
   ]
  },
  {
   "cell_type": "code",
   "execution_count": 10,
   "metadata": {
    "slideshow": {
     "slide_type": "slide"
    }
   },
   "outputs": [
    {
     "data": {
      "image/png": "[encoded data removed]",
      "text/plain": [
       "<Figure size 432x194.4 with 2 Axes>"
      ]
     },
     "metadata": {
      "needs_background": "light"
     },
     "output_type": "display_data"
    }
   ],
   "source": [
    "from scipy import stats # https://docs.scipy.org/doc/scipy/reference/tutorial/stats.html\n",
    "np.random.seed(seed=5)\n",
    "x = np.linspace(-3, 3, 300) # Return evenly spaced numbers over the specified interval\n",
    "xsample = stats.norm.rvs(size=1000) # generate 1000 random variates for 'norm'al distribution\n",
    "fig, axes = plt.subplots(ncols=2, figsize=(6, 2.7))\n",
    "ax = axes[0]\n",
    "ax.fill(x, stats.norm.pdf(x),'firebrick') # Probability Density Function\n",
    "ax.set_axis_off()\n",
    "ax.set_xlim(-3, 3)\n",
    "ax = axes[1]\n",
    "ax.hist(xsample, bins=100,color='rosybrown') # Histogram of the random variate samples\n",
    "ax.set_axis_off()\n",
    "ax.set_xlim(-3, 3)\n",
    "ax.set_position\n",
    "# plt.subplots_adjust(left=0, bottom=0, right=1, top=1, wspace=0, hspace=0)\n",
    "plt.show()"
   ]
  },
  {
   "cell_type": "markdown",
   "metadata": {
    "slideshow": {
     "slide_type": "slide"
    }
   },
   "source": [
    "#### Big data & sampling\n",
    "\n",
    "- Now that we have scalable Big data processing tools, why bother with samples? "
   ]
  },
  {
   "cell_type": "markdown",
   "metadata": {
    "slideshow": {
     "slide_type": "fragment"
    }
   },
   "source": [
    "* quality of the data collection may vary\n",
    "    - e.g., in an IoT set-up, sensors may have different degrees of defectiveness"
   ]
  },
  {
   "cell_type": "markdown",
   "metadata": {
    "slideshow": {
     "slide_type": "fragment"
    }
   },
   "source": [
    "* the data may not be representative\n",
    "    - e.g., using social media data to gauge the nation's sentiment \n",
    "        * are all sections of the society rightly represented on social media?  "
   ]
  },
  {
   "cell_type": "markdown",
   "metadata": {
    "slideshow": {
     "slide_type": "fragment"
    }
   },
   "source": [
    "* time and effort spent on random sampling may help reduces bias and make it easier to explore\n",
    "    - visualize and manually interpret information (including missing data/outliers) "
   ]
  },
  {
   "cell_type": "markdown",
   "metadata": {
    "slideshow": {
     "slide_type": "slide"
    }
   },
   "source": [
    "#### (Uniform) random sampling\n",
    "\n",
    "- each available member of the population being sampled has <span style=\"color:SteelBlue\">an equal chance of being chosen</span>\n",
    "    * <b>with replacement</b>: observations are put back in the population after each draw \n",
    "        * for possible future reselection\n",
    "    * <b>without replacement</b>\n",
    "        * once selected, unavailable for future draws"
   ]
  },
  {
   "cell_type": "markdown",
   "metadata": {
    "slideshow": {
     "slide_type": "subslide"
    }
   },
   "source": [
    "- <b>Stratified sampling</b>: Dividing the population into strata and randomly sampling from each strata.\n",
    "- Without stratification\n",
    "    * a.k.a. <b>simple random sampling</b>"
   ]
  },
  {
   "cell_type": "markdown",
   "metadata": {
    "slideshow": {
     "slide_type": "subslide"
    }
   },
   "source": [
    "2020 US presidential election |  FiveThirtyEight projection\n",
    ":-------------------------:|:-------------------------:\n",
    "<img src=\"pics/538-1.png\" alt=\"Sampling\" width=\"300\"/>  |  <img src=\"pics/538-2.png\" alt=\"Sampling\" width=\"300\"/>\n",
    "Screenshots from https://projects.fivethirtyeight.com/2020-election-forecast/"
   ]
  },
  {
   "cell_type": "markdown",
   "metadata": {
    "slideshow": {
     "slide_type": "slide"
    }
   },
   "source": [
    "#### Bias \n",
    "\n",
    "- Not always obvious <span style=\"color:SteelBlue\">how to get a good random sample</span>\n",
    "    * e.g., customer behavior: time of the day, day of the week, period of the year\n",
    "    * Anecdotes: <a href=\"https://en.wikipedia.org/wiki/The_Literary_Digest#Presidential_poll\">The literary digest <b>presidential poll of 1936</b></a>\n",
    "         * Polled ten million individuals, of whom 2.27 million responded\n",
    "         * The magnitude of the magazine's error: 39.08% for the popular vote for Roosevelt v Landon\n",
    "         * <b>Gallup</b> correctly predicted the results using a much smaller sample size of just 50,000\n",
    "         * Contemporary claim to fame <a href=\"https://en.wikipedia.org/wiki/FiveThirtyEight\">Nate Silver & FiveThirtyEight</a> \n",
    "             * \"balance out the polls with comparative demographic data\""
   ]
  },
  {
   "cell_type": "markdown",
   "metadata": {
    "slideshow": {
     "slide_type": "subslide"
    }
   },
   "source": [
    "- **Selection bias**: selectively choosing data—consciously or unconsciously—in a way that leads to a conclusion that is misleading or ephemeral \n",
    "    * e.g., <span style=\"color:SteelBlue\">Regression to the mean</span>: Is your coin really 'lucky'?"
   ]
  },
  {
   "cell_type": "markdown",
   "metadata": {
    "slideshow": {
     "slide_type": "subslide"
    }
   },
   "source": [
    "- **Data snooping**: extensive hunting through data in search of something interesting\n",
    "    * e.g., Crowd-sourced coin tossing to find a `lucky coin' \n",
    "- **Vast search effect**: Bias or nonreproducibility resulting from repeated data modeling, or modeling data with large numbers of predictor variables.\n",
    "    * Beware the promise of Big Data: You can run many models and ask many questions. But is it really a needly that you find in the haystack?\n",
    "        * Mitigations: <b>Holdout set</b>, <a href=\"https://www.elderresearch.com/resource/innovations/target-shuffling-process/\"><b>Target shuffling</b></a>"
   ]
  },
  {
   "cell_type": "markdown",
   "metadata": {
    "slideshow": {
     "slide_type": "slide"
    }
   },
   "source": [
    "#### Methodology check-point\n",
    "\n",
    "<img src=\"pics/statistical-inference-pipeline.png\" alt=\"Statistical Inference Pipeline\" width=\"600\"/>\n",
    "\n",
    "- Specify <b><span style=\"color:indianred\">hypothesis first</span></b>, then design experiment and accordingly collect data following randomization principles to <span style=\"color:SteelBlue\">avoid falling into the traps of biases</span>\n",
    "- <b>Traps of biases</b>  resulting from the data collection/analysis process:\n",
    "    * repeated running of models in data mining & data snooping\n",
    "    * after-the-fact selection of interesting events"
   ]
  },
  {
   "cell_type": "markdown",
   "metadata": {
    "slideshow": {
     "slide_type": "slide"
    }
   },
   "source": [
    "#### <span style=\"color:indianred\">Sampling distribution of a statistic</span>\n",
    "\n",
    "**Sampling distribution**: *distribution of some sample statistic* over many samples drawn from the same population.\n",
    "\n",
    "**Standard error**: The variability (standard deviation) of a sample statistic over many samples (not to be confused with standard deviation, which by itself, refers to variability of\n",
    "individual data values)\n",
    "\n",
    "**Central Limit Theorem**: The tendency of the sampling distribution to take on a *normal shape* as the sample size rises."
   ]
  },
  {
   "cell_type": "code",
   "execution_count": 11,
   "metadata": {
    "slideshow": {
     "slide_type": "skip"
    }
   },
   "outputs": [],
   "source": [
    "# Central Limit Theorem in action - an example\n",
    "\n",
    "loans_income = pd.read_csv(practicalstatspath+'loans_income.csv', squeeze=True)\n",
    "\n",
    "sample_data = pd.DataFrame({\n",
    "    'income': loans_income.sample(1000),\n",
    "    'type': 'Data',\n",
    "})\n",
    "\n",
    "sample_mean_05 = pd.DataFrame({\n",
    "    'income': [loans_income.sample(5).mean() for _ in range(1000)],\n",
    "    'type': 'Mean of 5',\n",
    "})\n",
    "\n",
    "sample_mean_10 = pd.DataFrame({\n",
    "    'income': [loans_income.sample(10).mean() for _ in range(1000)],\n",
    "    'type': 'Mean of 10',\n",
    "})\n",
    "\n",
    "sample_mean_20 = pd.DataFrame({\n",
    "    'income': [loans_income.sample(20).mean() for _ in range(1000)],\n",
    "    'type': 'Mean of 20',\n",
    "})\n",
    "\n",
    "results = pd.concat([sample_data, sample_mean_05, sample_mean_10, sample_mean_20])\n",
    "#print(results.sample(10))"
   ]
  },
  {
   "cell_type": "code",
   "execution_count": 12,
   "metadata": {
    "slideshow": {
     "slide_type": "slide"
    }
   },
   "outputs": [
    {
     "data": {
      "image/png": "[encoded data removed]",
      "text/plain": [
       "<Figure size 864x216 with 4 Axes>"
      ]
     },
     "metadata": {
      "needs_background": "light"
     },
     "output_type": "display_data"
    }
   ],
   "source": [
    "g = sns.FacetGrid(results, col='type', col_wrap=4, height=3, aspect=1)\n",
    "g.map(plt.hist, 'income', range=[0, 200000], bins=40, facecolor='gainsboro')\n",
    "g.set_axis_labels('Income', 'Count')\n",
    "g.set_titles('{col_name}')\n",
    "g.fig.suptitle('Visualizing Central Limit Theorem in action')\n",
    "plt.tight_layout()\n",
    "plt.show()"
   ]
  },
  {
   "cell_type": "markdown",
   "metadata": {
    "slideshow": {
     "slide_type": "slide"
    }
   },
   "source": [
    "### Confidence interval\n",
    "\n",
    "- <b><span style=\"color:indianred\">x% confidence interval</span></b>: It is the interval that encloses the central x% of the *bootstrap sampling distribution* of a sample statistic\n",
    "- <span style=\"color:SteelBlue\">Bootstrap sampling</span> based confidence interval computation\n",
    "    1. Draw a random sample of size n with replacement from the data (a resample)\n",
    "    2. Record the statistic of interest for the resample\n",
    "    3. Repeat steps 1–2 many (R) times\n",
    "    4. For an x% confidence interval, trim [(100-x) / 2]% of the R resample results from\n",
    "either end of the distribution\n",
    "    5.  The trim points are the endpoints of an x% bootstrap confidence interval\n"
   ]
  },
  {
   "cell_type": "code",
   "execution_count": 13,
   "metadata": {
    "slideshow": {
     "slide_type": "slide"
    }
   },
   "outputs": [],
   "source": [
    "from sklearn.utils import resample\n",
    "#print('Data Mean: '+str(loans_income.mean()))\n",
    "np.random.seed(seed=3)  \n",
    "# create a sample of 20 loan income data\n",
    "#sample20 = resample(loans_income, n_samples=20, replace=False)\n",
    "#print('Sample Mean: '+str(sample20.mean()))\n",
    "results = []\n",
    "for _ in range(500):\n",
    "    sample = resample(loans_income, n_samples=20, replace=True)\n",
    "    #sample = resample(sample20) # One could also use a small initial sample, to keep re-sampling\n",
    "    results.append(sample.mean())\n",
    "results = pd.Series(results)\n",
    "\n",
    "confidence_interval = list(results.quantile([0.05, 0.95]))"
   ]
  },
  {
   "cell_type": "code",
   "execution_count": 14,
   "metadata": {
    "slideshow": {
     "slide_type": "subslide"
    }
   },
   "outputs": [
    {
     "data": {
      "image/png": "[encoded data removed]",
      "text/plain": [
       "<Figure size 324x252 with 1 Axes>"
      ]
     },
     "metadata": {
      "needs_background": "light"
     },
     "output_type": "display_data"
    }
   ],
   "source": [
    "ax = results.plot.hist(bins=30, facecolor='gainsboro', figsize=(4.5,3.5))\n",
    "ax.plot(confidence_interval, [55, 55], color='black')\n",
    "for x in confidence_interval:\n",
    "    ax.plot([x, x], [0, 65], color='black')\n",
    "    ax.text(x, 70, f'{x:.0f}', horizontalalignment='center', verticalalignment='center')\n",
    "ax.text(sum(confidence_interval) / 2, 60, '90% interval', horizontalalignment='center', verticalalignment='center')\n",
    "meanIncome = results.mean()\n",
    "ax.plot([meanIncome, meanIncome], [0, 50], color='black', linestyle='--')\n",
    "ax.text(meanIncome, 10, f'Mean: {meanIncome:.0f}', bbox=dict(facecolor='white', edgecolor='white', alpha=0.5),\n",
    "        horizontalalignment='center', verticalalignment='center')\n",
    "ax.set_ylim(0, 80)\n",
    "ax.set_ylabel('Counts')\n",
    "plt.tight_layout()\n",
    "plt.show()"
   ]
  },
  {
   "cell_type": "markdown",
   "metadata": {
    "slideshow": {
     "slide_type": "slide"
    }
   },
   "source": [
    "#### Interpreting confidence interval\n",
    "\n",
    "> A note of <b>caution</b>: Confidence interval <span style=\"color:indianred\">DOES NOT</span> answer the question <span style=\"color:SteelBlue\">“What is the probability that the true value lies within a certain interval?”</span> "
   ]
  },
  {
   "cell_type": "markdown",
   "metadata": {
    "slideshow": {
     "slide_type": "slide"
    }
   },
   "source": [
    "## <span style=\"color:olivedrab\">Statistical experiments & significance</span>"
   ]
  },
  {
   "cell_type": "markdown",
   "metadata": {
    "slideshow": {
     "slide_type": "subslide"
    }
   },
   "source": [
    "> In 2012 a Microsoft employee working on Bing had an <span style=\"color:SteelBlue\">idea about changing the way the search engine displayed ad headlines</span>. Developing it wouldn’t require much effort—just a few days of an engineer’s time—but it was one of hundreds of ideas proposed, and the program managers deemed it a low priority. So it languished for more than six months, until an engineer, who saw that the cost of writing the code for it would be small, launched <span style=\"color:SteelBlue\">a simple online controlled experiment</span><span style=\"color:indianred\">—an A/B test—</span>to assess its impact. Within hours the new headline variation was producing abnormally high revenue, triggering a “too good to be true” alert. Usually, such alerts signal a bug, but not in this case. An analysis showed that the change had <span style=\"color:SteelBlue\">increased revenue by an astonishing 12%—which on an annual basis would come to more than $100 million in the United States alone</span>—without hurting key user-experience metrics. It was the best revenue-generating idea in Bing’s history, but until the test its value was underappreciated.\n",
    "\n",
    "Source: https://hbr.org/2017/09/the-surprising-power-of-online-experiments"
   ]
  },
  {
   "cell_type": "markdown",
   "metadata": {
    "slideshow": {
     "slide_type": "slide"
    }
   },
   "source": [
    "### Statistical inference pipeline\n",
    "\n",
    "<img src=\"pics/statistical-inference-pipeline.png\" alt=\"Statistical Inference Pipeline\" width=\"600\"/>\n",
    "\n",
    "<br>Design experiment (typically, an <span style=\"color:indianred\"><b>A/B test</b></span>):\n",
    "An A/B test is an experiment with two groups to establish which of two treatments,\n",
    "products, procedures, or the like is superior. Often one of the two treatments is the\n",
    "standard existing treatment, or no treatment. If a standard (or no) treatment is used,\n",
    "it is called the control. A typical hypothesis is that a new treatment is better than the\n",
    "control."
   ]
  },
  {
   "cell_type": "markdown",
   "metadata": {
    "slideshow": {
     "slide_type": "subslide"
    }
   },
   "source": [
    "<center><img src=\"pics/BingCOlors.png\" alt=\"Bing Color effect as reported in Harvard Business Review\" width=\"370\"/></center>\n",
    "\n",
    "Image source: Harvard Business Review"
   ]
  },
  {
   "cell_type": "markdown",
   "metadata": {
    "slideshow": {
     "slide_type": "slide"
    }
   },
   "source": [
    "<center><img src=\"pics/ABTestKeyTerms.png\" alt=\"Key terms used in A/B testing\" width=\"600\"/></center>"
   ]
  },
  {
   "cell_type": "markdown",
   "metadata": {
    "slideshow": {
     "slide_type": "slide"
    }
   },
   "source": [
    "#### Randomization \n",
    "- Ideally, subjects ought to be assigned randomly to treatments.\n",
    "- Then, any difference between the treatment groups is due to one of two things\n",
    "    - Effect of different treatments\n",
    "    - Luck of the draw\n",
    "        * Ideal randomization may not always be possible"
   ]
  },
  {
   "cell_type": "markdown",
   "metadata": {
    "slideshow": {
     "slide_type": "subslide"
    }
   },
   "source": [
    "#### Control group\n",
    "\n",
    "- Why not just compare with the original baseline? \n",
    "    * Without a control group, there is no assurance that “all other things are equal”"
   ]
  },
  {
   "cell_type": "markdown",
   "metadata": {
    "slideshow": {
     "slide_type": "subslide"
    }
   },
   "source": [
    "#### Blinding\n",
    "\n",
    "- Blind study: A blind study is one in which the subjects are unaware of whether they are getting treatment A or treatment B\n",
    "- Double-blind study: A double-blind study is one in which the investigators and facilitators also are unaware which subjects are getting which treatment\n",
    "    * Blinding maynot always be feasible"
   ]
  },
  {
   "cell_type": "markdown",
   "metadata": {
    "slideshow": {
     "slide_type": "subslide"
    }
   },
   "source": [
    "#### Ethical & legal considerations\n",
    "\n",
    "- In the context of web applications and data products, do you need permission to carry out the study?\n",
    "    * Anecdotes \n",
    "        * Facebook's <a href=\"https://www.pnas.org/content/pnas/111/24/8788.full.pdf\">emotion study </a> on its feeds was <a href=\"https://www.theguardian.com/technology/2014/jun/30/facebook-emotion-study-breached-ethical-guidelines-researchers-say\">hugely controversial</a>\n",
    "        * OKCupid's <a href=\"https://www.theguardian.com/technology/2014/jul/29/okcupid-experiment-human-beings-dating\">study on compatibilty & matches</a>      "
   ]
  },
  {
   "cell_type": "markdown",
   "metadata": {
    "slideshow": {
     "slide_type": "slide"
    }
   },
   "source": [
    "#### Interpreting A/B test results with statistical rigour\n",
    "\n",
    "- Human brain/intuition is (typically) not good at comprehending or interpreting randomness \n",
    "- <b>Hypothesis testing</b>\n",
    "    >  <span style=\"color:indianred\">Assess whether random chance is a reasonable explanation for the observed difference between treatment groups</span>"
   ]
  },
  {
   "cell_type": "markdown",
   "metadata": {
    "slideshow": {
     "slide_type": "slide"
    }
   },
   "source": [
    "#### Hypothesis testing\n",
    "\n",
    "- Null hypothesis $H_{0}$\n",
    "- Alternative hypothesis $H_1$\n",
    "    - Variations:\n",
    "        * one-way/one-tail, e.g. $H_{0} \\leq \\mu $, $H_1 > \\mu$ \n",
    "        * two-way/two-tail, e.g., $H_{0} = \\mu$, $H_1 \\neq \\mu$ \n",
    "- <b>Caution</b>: <span style=\"color:SteelBlue\">One only rejects, or fails to reject the Null hypothesis</span>\n",
    "    - <span style=\"color:indianred\"><b>DOES NOT PROVE</b></span> anything\n",
    "        * May nevertheless be `good enough' for a lot of decisions"
   ]
  },
  {
   "cell_type": "markdown",
   "metadata": {
    "slideshow": {
     "slide_type": "slide"
    }
   },
   "source": [
    "#### Resampling\n",
    "\n",
    "> Resampling in statistics means to repeatedly sample values from observed data, with a\n",
    "general goal of assessing random variability in a statistic\n",
    "\n",
    "> Broadly, two variations:\n",
    "> - Bootstrap\n",
    ">    * We saw this variant earlier, when exposing the idea of Central Limit Theorem\n",
    "> - <span style=\"color:indianred\">Permutation tests</span>\n",
    ">    * Typically, this is what is used for hypothesis testing \n",
    "     * A special case is an <span style=\"color:SteelBlue\">exhaustive permutation test</span> (practical only for small data sets)"
   ]
  },
  {
   "cell_type": "markdown",
   "metadata": {
    "slideshow": {
     "slide_type": "slide"
    }
   },
   "source": [
    "#### Permutation test\n",
    "\n",
    "<img src=\"pics/PermTest.png\" alt=\"Statistical Inference Pipeline\" width=\"600\"/>"
   ]
  },
  {
   "cell_type": "markdown",
   "metadata": {
    "slideshow": {
     "slide_type": "slide"
    }
   },
   "source": [
    "#### Permutation test\n",
    "\n",
    "Compare observed difference between groups and to the set of permuted differences. \n",
    "\n",
    "><b>If</b> the observed difference lies well within the set of permuted differences\n",
    ">- Can <span style=\"color:SteelBlue\">NOT reject Null hypothesis</span>\n",
    ">\n",
    "><b>Else</b>\n",
    ">- The difference is statistically significant, i.e., <span style=\"color:indianred\">reject Null hypothesis</span>"
   ]
  },
  {
   "cell_type": "markdown",
   "metadata": {
    "slideshow": {
     "slide_type": "slide"
    }
   },
   "source": [
    "#### Web stickiness example"
   ]
  },
  {
   "cell_type": "code",
   "execution_count": 15,
   "metadata": {
    "scrolled": true,
    "slideshow": {
     "slide_type": "subslide"
    }
   },
   "outputs": [
    {
     "data": {
      "text/html": [
       "<div>\n",
       "<style scoped>\n",
       "    .dataframe tbody tr th:only-of-type {\n",
       "        vertical-align: middle;\n",
       "    }\n",
       "\n",
       "    .dataframe tbody tr th {\n",
       "        vertical-align: top;\n",
       "    }\n",
       "\n",
       "    .dataframe thead th {\n",
       "        text-align: right;\n",
       "    }\n",
       "</style>\n",
       "<table border=\"1\" class=\"dataframe\">\n",
       "  <thead>\n",
       "    <tr style=\"text-align: right;\">\n",
       "      <th></th>\n",
       "      <th>Page</th>\n",
       "      <th>Time</th>\n",
       "    </tr>\n",
       "  </thead>\n",
       "  <tbody>\n",
       "    <tr>\n",
       "      <th>0</th>\n",
       "      <td>Page A</td>\n",
       "      <td>21.0</td>\n",
       "    </tr>\n",
       "    <tr>\n",
       "      <th>1</th>\n",
       "      <td>Page B</td>\n",
       "      <td>253.0</td>\n",
       "    </tr>\n",
       "    <tr>\n",
       "      <th>2</th>\n",
       "      <td>Page A</td>\n",
       "      <td>35.0</td>\n",
       "    </tr>\n",
       "    <tr>\n",
       "      <th>3</th>\n",
       "      <td>Page B</td>\n",
       "      <td>71.0</td>\n",
       "    </tr>\n",
       "    <tr>\n",
       "      <th>4</th>\n",
       "      <td>Page A</td>\n",
       "      <td>67.0</td>\n",
       "    </tr>\n",
       "  </tbody>\n",
       "</table>\n",
       "</div>"
      ],
      "text/plain": [
       "     Page   Time\n",
       "0  Page A   21.0\n",
       "1  Page B  253.0\n",
       "2  Page A   35.0\n",
       "3  Page B   71.0\n",
       "4  Page A   67.0"
      ]
     },
     "execution_count": 15,
     "metadata": {},
     "output_type": "execute_result"
    }
   ],
   "source": [
    "# Data\n",
    "session_times = pd.read_csv(practicalstatspath+'web_page_data.csv')\n",
    "session_times.Time = 100 * session_times.Time\n",
    "session_times.head()"
   ]
  },
  {
   "cell_type": "code",
   "execution_count": 16,
   "metadata": {
    "slideshow": {
     "slide_type": "subslide"
    }
   },
   "outputs": [
    {
     "data": {
      "image/png": "[encoded data removed]",
      "text/plain": [
       "<Figure size 288x288 with 1 Axes>"
      ]
     },
     "metadata": {
      "needs_background": "light"
     },
     "output_type": "display_data"
    }
   ],
   "source": [
    "# Understanding the data visually\n",
    "ax = session_times.boxplot(by='Page', column='Time', figsize=(4, 4))\n",
    "ax.set_xlabel('')\n",
    "ax.set_ylabel('Time (in seconds)')\n",
    "plt.suptitle('')\n",
    "\n",
    "plt.tight_layout()\n",
    "plt.show()"
   ]
  },
  {
   "cell_type": "code",
   "execution_count": 17,
   "metadata": {
    "slideshow": {
     "slide_type": "subslide"
    }
   },
   "outputs": [
    {
     "name": "stdout",
     "output_type": "stream",
     "text": [
      "35.66666666666667\n"
     ]
    }
   ],
   "source": [
    "# We will use \"mean\" as the statistics\n",
    "mean_a = session_times[session_times.Page == 'Page A'].Time.mean()\n",
    "mean_b = session_times[session_times.Page == 'Page B'].Time.mean()\n",
    "print(mean_b - mean_a)"
   ]
  },
  {
   "cell_type": "code",
   "execution_count": 18,
   "metadata": {
    "slideshow": {
     "slide_type": "subslide"
    }
   },
   "outputs": [
    {
     "name": "stdout",
     "output_type": "stream",
     "text": [
      "-8.790476190476198\n"
     ]
    }
   ],
   "source": [
    "# Permutation test example with stickiness\n",
    "# Creating the permutation functionality\n",
    "def perm_fun(x, nA, nB):\n",
    "    n = nA + nB\n",
    "    idx_B = set(random.sample(range(n), nB))\n",
    "    idx_A = set(range(n)) - idx_B\n",
    "    return x.loc[idx_B].mean() - x.loc[idx_A].mean()\n",
    "    \n",
    "nA = session_times[session_times.Page == 'Page A'].shape[0]\n",
    "nB = session_times[session_times.Page == 'Page B'].shape[0]\n",
    "print(perm_fun(session_times.Time, nA, nB))"
   ]
  },
  {
   "cell_type": "code",
   "execution_count": 19,
   "metadata": {
    "slideshow": {
     "slide_type": "subslide"
    }
   },
   "outputs": [
    {
     "data": {
      "image/png": "[encoded data removed]",
      "text/plain": [
       "<Figure size 360x254.88 with 1 Axes>"
      ]
     },
     "metadata": {
      "needs_background": "light"
     },
     "output_type": "display_data"
    }
   ],
   "source": [
    "# Repeating the permutation experiment R times\n",
    "R=1000\n",
    "random.seed(1) # Using a seed helps make the randomized expeirments deterministic\n",
    "perm_diffs = [perm_fun(session_times.Time, nA, nB) for _ in range(R)]\n",
    "\n",
    "fig, ax = plt.subplots(figsize=(5, 3.54))\n",
    "ax.hist(perm_diffs, bins=21, rwidth=0.9,facecolor='gainsboro')\n",
    "ax.axvline(x = mean_b - mean_a, color='black', lw=1)\n",
    "ax.text(40, 100, 'Observed\\ndifference')\n",
    "ax.set_xlabel('Session time differences (in seconds)')\n",
    "ax.set_ylabel('Frequency')\n",
    "\n",
    "plt.tight_layout()\n",
    "plt.show()"
   ]
  },
  {
   "cell_type": "markdown",
   "metadata": {
    "slideshow": {
     "slide_type": "slide"
    }
   },
   "source": [
    "#### <span style=\"color:SteelBlue\">p-value</span>\n",
    "\n",
    "In what fraction of permutations does the difference in means exceed the observed difference?"
   ]
  },
  {
   "cell_type": "code",
   "execution_count": 20,
   "metadata": {
    "slideshow": {
     "slide_type": "fragment"
    }
   },
   "outputs": [
    {
     "data": {
      "text/plain": [
       "0.121"
      ]
     },
     "execution_count": 20,
     "metadata": {},
     "output_type": "execute_result"
    }
   ],
   "source": [
    "len([x for x in perm_diffs if x > (mean_b - mean_a)])/len(perm_diffs)"
   ]
  },
  {
   "cell_type": "markdown",
   "metadata": {
    "slideshow": {
     "slide_type": "fragment"
    }
   },
   "source": [
    "In what fraction of permutations does the difference in means exceed the observed difference?\n",
    "\n",
    "> A rather large fraction! \n",
    "\n",
    "For the observed difference to be \"meaningful\", it needs to be outside the range of chance variation. Otherwise, it is NOT statistically significant. \n",
    "\n",
    "> Therefore, we <span style=\"color:indianred\">do NOT reject the Null hypothesis</span>"
   ]
  },
  {
   "cell_type": "markdown",
   "metadata": {
    "slideshow": {
     "slide_type": "subslide"
    }
   },
   "source": [
    "> <span style=\"color:indianred\">Smaller the p-value, stronger the evidence to reject the Null hypothesis</span>\n",
    "\n",
    "<img src=\"pics/p-value.webp\" alt=\"Statistical Inference Pipeline\" width=\"600\"/>\n",
    "\n",
    "Image source: https://www.simplypsychology.org/p-value.html"
   ]
  },
  {
   "cell_type": "markdown",
   "metadata": {
    "slideshow": {
     "slide_type": "subslide"
    }
   },
   "source": [
    "#### Level of confidence, singnificance & p-value\n",
    "\n",
    "- Choose the rigour of your statistical test upfront:\n",
    "    - Level of confidence: $C$\n",
    "    - Level of significance $\\alpha=1-C$\n",
    "        > <span style=\"color:indianred\">If p-value is smaller than $\\alpha$ then reject Null hypothesis!</span> "
   ]
  },
  {
   "cell_type": "markdown",
   "metadata": {
    "slideshow": {
     "slide_type": "subslide"
    }
   },
   "source": [
    "What <span style=\"color:SteelBlue\">p-value represents</span>:\n",
    "> The probability that, given a chance model, results as extreme as the observed results\n",
    "could occur.\n",
    "\n",
    "What <span style=\"color:indianred\">p-value does NOT represent</span>:\n",
    "> The probability that the result is due to chance. (which is what, one would ideally like to know!)"
   ]
  },
  {
   "cell_type": "markdown",
   "metadata": {
    "slideshow": {
     "slide_type": "slide"
    }
   },
   "source": [
    "#### Errors\n",
    "\n",
    "> <b>Type-1 error</b>: Mistakenly conclude an effect is real (and thus, reject the Null hypothesis), when it is really just due to chance\n",
    "> - Related to the concept of precision (more nuances apply)\n",
    "    \n",
    "\n",
    "> <b>Type-2 error</b>: Mistakenly conclude that an effect is not real, i.e., due to chance (and thus fail to reject the Null hypothesis), when it actually is real\n",
    "> - In the context of hypothesis testing, generally an issue of inadequate data\n",
    "> - Complement of recall"
   ]
  },
  {
   "cell_type": "markdown",
   "metadata": {
    "slideshow": {
     "slide_type": "slide"
    }
   },
   "source": [
    "### ANOVA: Analysis of Variance \n",
    "\n",
    "Web stickiness example with 4 pages"
   ]
  },
  {
   "cell_type": "code",
   "execution_count": 21,
   "metadata": {
    "slideshow": {
     "slide_type": "subslide"
    }
   },
   "outputs": [
    {
     "data": {
      "image/png": "[encoded data removed]",
      "text/plain": [
       "<Figure size 288x288 with 1 Axes>"
      ]
     },
     "metadata": {
      "needs_background": "light"
     },
     "output_type": "display_data"
    }
   ],
   "source": [
    "four_sessions = pd.read_csv(practicalstatspath+'four_sessions.csv')\n",
    "\n",
    "ax = four_sessions.boxplot(by='Page', column='Time', figsize=(4, 4))\n",
    "ax.set_xlabel('Page')\n",
    "ax.set_ylabel('Time (in seconds)')\n",
    "plt.suptitle('')\n",
    "plt.title('')\n",
    "\n",
    "plt.tight_layout()\n",
    "plt.show()"
   ]
  },
  {
   "cell_type": "markdown",
   "metadata": {
    "slideshow": {
     "slide_type": "subslide"
    }
   },
   "source": [
    "> Could all the pages have the same underlying stickiness, and the differences among them be due to randomness?\n",
    "\n",
    "- Null hypothesis: Pages do not have under distinct stickiness\n",
    "- Alternative hypothesis: Pages do have statistically significant distinct stickiness\n",
    "    * <span style=\"color:SteelBlue\">Target level of confidence: 95%</span>"
   ]
  },
  {
   "cell_type": "code",
   "execution_count": 22,
   "metadata": {
    "slideshow": {
     "slide_type": "subslide"
    }
   },
   "outputs": [
    {
     "name": "stdout",
     "output_type": "stream",
     "text": [
      "Observed means: [172.8 182.6 175.6 164.6]\n",
      "Variance: 55.426666666666655\n",
      "18.94666666666669\n"
     ]
    }
   ],
   "source": [
    "print('Observed means:', four_sessions.groupby('Page').mean().values.ravel())\n",
    "observed_variance = four_sessions.groupby('Page').mean().var()[0]\n",
    "print('Variance:', observed_variance)\n",
    "# Permutation test example with stickiness\n",
    "# Usually you will permute a small subset of each kind, but in this example, the data is small as is\n",
    "def perm_test(df):\n",
    "    df = df.copy()\n",
    "    df['Time'] = np.random.permutation(df['Time'].values)\n",
    "    return df.groupby('Page').mean().var()[0]\n",
    "    \n",
    "print(perm_test(four_sessions))"
   ]
  },
  {
   "cell_type": "code",
   "execution_count": 23,
   "metadata": {
    "slideshow": {
     "slide_type": "subslide"
    }
   },
   "outputs": [
    {
     "name": "stdout",
     "output_type": "stream",
     "text": [
      "p-value:  0.083\n",
      "Null hypothesis CANNOT be rejected\n"
     ]
    }
   ],
   "source": [
    "random.seed(1)\n",
    "perm_variance = [perm_test(four_sessions) for _ in range(1000)]\n",
    "p_val=np.mean([var > observed_variance for var in perm_variance])\n",
    "print('p-value: ', p_val)\n",
    "if p_val<0.05:\n",
    "    print('Null hypothesis rejected')\n",
    "else:\n",
    "    print('Null hypothesis CANNOT be rejected')"
   ]
  },
  {
   "cell_type": "code",
   "execution_count": 24,
   "metadata": {
    "slideshow": {
     "slide_type": "subslide"
    }
   },
   "outputs": [
    {
     "data": {
      "image/png": "[encoded data removed]",
      "text/plain": [
       "<Figure size 360x254.88 with 1 Axes>"
      ]
     },
     "metadata": {
      "needs_background": "light"
     },
     "output_type": "display_data"
    }
   ],
   "source": [
    "fig, ax = plt.subplots(figsize=(5, 3.54))\n",
    "ax.hist(perm_variance, bins=11, rwidth=0.9,facecolor='gainsboro')\n",
    "ax.axvline(x = observed_variance, color='black', lw=1)\n",
    "ax.text(58, 180, 'Observed\\nvariance')\n",
    "ax.set_xlabel('Variance')\n",
    "ax.set_ylabel('Frequency')\n",
    "\n",
    "plt.tight_layout()\n",
    "plt.show()"
   ]
  },
  {
   "cell_type": "markdown",
   "metadata": {
    "slideshow": {
     "slide_type": "slide"
    }
   },
   "source": [
    "#### Pragmatic (data product) practioner and statistical tests! \n",
    "\n",
    "> Conduct A/A tests"
   ]
  },
  {
   "cell_type": "markdown",
   "metadata": {
    "slideshow": {
     "slide_type": "subslide"
    }
   },
   "source": [
    "> Be careful about assumptions of causality\n",
    "> - Anecdotes\n",
    ">    * Microsoft Office's advanced features/attrition experiment\n",
    ">         * Two teams conducted separate observational studies of two advanced features for Microsoft Office. Each concluded that the new feature it was assessing reduced attrition.\n",
    ">    * Yahoo's experiment on whether the <a href=\"https://papers.ssrn.com/sol3/papers.cfm?abstract_id=2080235\">display of ads for a brand increase searches for the brand name or related keywords</a>\n",
    ">         * Importance of control."
   ]
  },
  {
   "cell_type": "markdown",
   "metadata": {
    "slideshow": {
     "slide_type": "subslide"
    }
   },
   "source": [
    "> Complex experiment designs and chance of bugs in experiment design/data collection"
   ]
  },
  {
   "cell_type": "markdown",
   "metadata": {
    "slideshow": {
     "slide_type": "subslide"
    }
   },
   "source": [
    "> Sometime's understanding the \"why?\" is useful, but sometimes, you may have to just go with whatever \"floats your boat\"! \n",
    "> - Scurvy versus Bing's design color"
   ]
  },
  {
   "cell_type": "markdown",
   "metadata": {
    "slideshow": {
     "slide_type": "slide"
    }
   },
   "source": [
    "# Suggested additional readings and references\n",
    "\n",
    "> <a href=\"https://www.kdd.org/kdd2016/papers/files/adf0853-dengA.pdf\">Data-Driven Metric Development for Online Controlled Experiments: Seven Lessons Learned</a> by Deng & Shi at KDD 2016\n",
    "\n",
    "\n",
    "> <a href=\"https://hbr.org/2017/09/the-surprising-power-of-online-experiments\">The Surprising Power of Online Experiments</a> by Ron Kohavi and Stefan Thomke, Harvard Business Review\n",
    "\n",
    "\n",
    "> A <a href=\"https://machinelearningmastery.com/statistical-hypothesis-tests-in-python-cheat-sheet/ \">compilation of numerous statistical tests</a> with Python code snippets (Good collection of Python statistical test APIs. However, the content has not been vetted for correctness by me. Apply your own caution, particularly regarding the suggested interpretation of the tests.) "
   ]
  },
  {
   "cell_type": "markdown",
   "metadata": {
    "slideshow": {
     "slide_type": "slide"
    }
   },
   "source": [
    "<img src=\"pics/HippoThesisTasting.png\" alt=\"Hippo Thesis Tasting!\" width=\"500\"/>"
   ]
  },
  {
   "cell_type": "code",
   "execution_count": 25,
   "metadata": {
    "slideshow": {
     "slide_type": "skip"
    }
   },
   "outputs": [
    {
     "name": "stdout",
     "output_type": "stream",
     "text": [
      "4.445833981123393\n",
      "4.4\n"
     ]
    }
   ],
   "source": [
    "#### solution  for the 'toy' exercise on weighted statistics\n",
    "# Weighted mean and median using state populations as weights, to determine the national figures \n",
    "print(np.average(state_df['Murder.Rate'], weights=state_df['Population']))\n",
    "print(wquantiles.median(state_df['Murder.Rate'], weights=state_df['Population']))  \n",
    "# wquantiles provides weighted quantiles\n",
    "# You could use your own custom code instead as well"
   ]
  }
 ],
 "metadata": {
  "kernelspec": {
   "display_name": "Python 3",
   "language": "python",
   "name": "python3"
  },
  "language_info": {
   "codemirror_mode": {
    "name": "ipython",
    "version": 3
   },
   "file_extension": ".py",
   "mimetype": "text/x-python",
   "name": "python",
   "nbconvert_exporter": "python",
   "pygments_lexer": "ipython3",
   "version": "3.8.5"
  }
 },
 "nbformat": 4,
 "nbformat_minor": 4
}
