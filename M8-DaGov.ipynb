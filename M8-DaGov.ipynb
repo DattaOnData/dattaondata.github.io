{
 "cells": [
  {
   "cell_type": "markdown",
   "metadata": {
    "slideshow": {
     "slide_type": "slide"
    }
   },
   "source": [
    "###### Data Privacy Enhancing Techniques\n",
    "<br><br>\n",
    "<div style=\"background-color:rgba(128, 128, 0, 0.1); text-align:left; vertical-align: middle; padding:20px 0;\">\n",
    "<p style=\"font-size:134%;color:Deep Teal;\">SC 4125: Developing Data Products</p>\n",
    "    <p style=\"font-size:100%;color:Olive;\">Module-8: Data Governance/Privacy Issues</p><br>\n",
    "\n",
    "    \n",
    "<br> \n",
    "by <a href=\"https://personal.ntu.edu.sg/anwitaman/\" style=\"font-size:100%;color:Deep Teal;\">Anwitaman DATTA</a><br>\n",
    "School of Computer Science and Engineering, NTU Singapore.        \n",
    "</div>"
   ]
  },
  {
   "cell_type": "markdown",
   "metadata": {
    "slideshow": {
     "slide_type": "slide"
    }
   },
   "source": [
    "#### Teaching material\n",
    "- <a href=\"M8-DaGov.pdf\">.pdf</a> deck of slides (complements the html slides)\n",
    "- <a href=\"M8-DaGov.slides.html\">.html</a> deck of slides\n",
    "- <a href=\"M8-DaGov.ipynb\">.ipynb</a> Jupyter notebook"
   ]
  },
  {
   "cell_type": "markdown",
   "metadata": {
    "slideshow": {
     "slide_type": "slide"
    }
   },
   "source": [
    "### Disclaimer/Caveat emptor\n",
    "\n",
    "- Non-systematic and non-exhaustive review\n",
    "- Illustrative approaches are not necessarily the most efficient or elegant, let alone unique\n",
    "- This Jupyter notebook is accompanied by a deck of slides discussing Data Governance in general, as well as specific privacy enhancing techniques."
   ]
  },
  {
   "cell_type": "markdown",
   "metadata": {
    "slideshow": {
     "slide_type": "subslide"
    }
   },
   "source": [
    "### Acknowledgement\n",
    "\n",
    "> This module is adapted from workshop <a href=\"https://github.com/kiprotect/data-privacy-for-data-scientists\">training material</a> created by <span style=\"color:SteelBlue\">Andreas Dewes</span> and <span style=\"color:SteelBlue\">Katherine Jarmul</span> from Kiprotect, which they have made available under MIT License. Here's an accompanying talk on <a href=\"https://www.youtube.com/watch?v=i-embbaJX_A\">Data Science Meets Data Protection</a>. \n",
    ">\n",
    ">If anyone reuses the material in the current format as readapted and provided here, please still also attribute the original creators of the content.\n",
    ">\n",
    "> If there are any attribution omissions to be rectified, or should anything in the material need to be changed or redacted, the copyright owners are requested to contact me at anwitaman@ntu.edu.sg  "
   ]
  },
  {
   "cell_type": "markdown",
   "metadata": {
    "slideshow": {
     "slide_type": "slide"
    }
   },
   "source": [
    "# <span style=\"color:olivedrab\">k-Anonymity</span>"
   ]
  },
  {
   "cell_type": "markdown",
   "metadata": {
    "slideshow": {
     "slide_type": "fragment"
    }
   },
   "source": [
    "External data (voter registration information) can be used to deanonymyze |  2-Anonymyzed patient data\n",
    ":-------------------------:|:-------------------------:\n",
    "<img src=\"pics/CorrelatableDataTable.png\" alt=\"bigpic\" width=\"300\"/>  |  <img src=\"pics/2Anonym.png\" alt=\"Sampling\" width=\"300\"/>\n",
    "Example from <a href=\"http://pages.cs.wisc.edu/~lefevre/MultiDim.pdf\">Mondrian Multidimensional K-Anonymity</a> by LeFevre et al"
   ]
  },
  {
   "cell_type": "code",
   "execution_count": 1,
   "metadata": {
    "slideshow": {
     "slide_type": "subslide"
    }
   },
   "outputs": [],
   "source": [
    "# this is a list of the column names in our dataset (the file doesn't contain headers)\n",
    "names = (\n",
    "    'age',\n",
    "    'workclass', #Private, Self-emp-not-inc, Self-emp-inc, Federal-gov, Local-gov, State-gov, Without-pay, Never-worked.\n",
    "    'fnlwgt', # final weight. In other words, this is the number of people the census believes the entry represents.\n",
    "    'education',\n",
    "    'education-num',\n",
    "    'marital-status',\n",
    "    'occupation',\n",
    "    'relationship',\n",
    "    'race',\n",
    "    'sex',\n",
    "    'capital-gain',\n",
    "    'capital-loss',\n",
    "    'hours-per-week',\n",
    "    'native-country',\n",
    "    'income',\n",
    ")"
   ]
  },
  {
   "cell_type": "code",
   "execution_count": 2,
   "metadata": {
    "slideshow": {
     "slide_type": "subslide"
    }
   },
   "outputs": [],
   "source": [
    "# some fields are categorical and thus they need to be treated accordingly\n",
    "# note that integers are used to represent some of the categorical data\n",
    "categorical = set((\n",
    "    'workclass',\n",
    "    'education',\n",
    "    'marital-status',\n",
    "    'occupation',\n",
    "    'relationship',\n",
    "    'sex',\n",
    "    'native-country',\n",
    "    'race',\n",
    "    'income',\n",
    "))"
   ]
  },
  {
   "cell_type": "code",
   "execution_count": 3,
   "metadata": {
    "slideshow": {
     "slide_type": "subslide"
    }
   },
   "outputs": [
    {
     "name": "stdout",
     "output_type": "stream",
     "text": [
      "(48842, 15)\n"
     ]
    },
    {
     "data": {
      "text/html": [
       "<div>\n",
       "<style scoped>\n",
       "    .dataframe tbody tr th:only-of-type {\n",
       "        vertical-align: middle;\n",
       "    }\n",
       "\n",
       "    .dataframe tbody tr th {\n",
       "        vertical-align: top;\n",
       "    }\n",
       "\n",
       "    .dataframe thead th {\n",
       "        text-align: right;\n",
       "    }\n",
       "</style>\n",
       "<table border=\"1\" class=\"dataframe\">\n",
       "  <thead>\n",
       "    <tr style=\"text-align: right;\">\n",
       "      <th></th>\n",
       "      <th>age</th>\n",
       "      <th>workclass</th>\n",
       "      <th>fnlwgt</th>\n",
       "      <th>education</th>\n",
       "      <th>education-num</th>\n",
       "      <th>marital-status</th>\n",
       "      <th>occupation</th>\n",
       "      <th>relationship</th>\n",
       "      <th>race</th>\n",
       "      <th>sex</th>\n",
       "      <th>capital-gain</th>\n",
       "      <th>capital-loss</th>\n",
       "      <th>hours-per-week</th>\n",
       "      <th>native-country</th>\n",
       "      <th>income</th>\n",
       "    </tr>\n",
       "  </thead>\n",
       "  <tbody>\n",
       "    <tr>\n",
       "      <th>38515</th>\n",
       "      <td>37</td>\n",
       "      <td>Private</td>\n",
       "      <td>285637</td>\n",
       "      <td>HS-grad</td>\n",
       "      <td>9</td>\n",
       "      <td>Never-married</td>\n",
       "      <td>Transport-moving</td>\n",
       "      <td>Not-in-family</td>\n",
       "      <td>Black</td>\n",
       "      <td>Male</td>\n",
       "      <td>0</td>\n",
       "      <td>0</td>\n",
       "      <td>50</td>\n",
       "      <td>United-States</td>\n",
       "      <td>&lt;=50k</td>\n",
       "    </tr>\n",
       "    <tr>\n",
       "      <th>19744</th>\n",
       "      <td>57</td>\n",
       "      <td>Private</td>\n",
       "      <td>29375</td>\n",
       "      <td>HS-grad</td>\n",
       "      <td>9</td>\n",
       "      <td>Separated</td>\n",
       "      <td>Sales</td>\n",
       "      <td>Not-in-family</td>\n",
       "      <td>Amer-Indian-Eskimo</td>\n",
       "      <td>Female</td>\n",
       "      <td>0</td>\n",
       "      <td>0</td>\n",
       "      <td>35</td>\n",
       "      <td>United-States</td>\n",
       "      <td>&lt;=50k</td>\n",
       "    </tr>\n",
       "    <tr>\n",
       "      <th>9584</th>\n",
       "      <td>19</td>\n",
       "      <td>Private</td>\n",
       "      <td>201743</td>\n",
       "      <td>Some-college</td>\n",
       "      <td>10</td>\n",
       "      <td>Never-married</td>\n",
       "      <td>Other-service</td>\n",
       "      <td>Own-child</td>\n",
       "      <td>White</td>\n",
       "      <td>Female</td>\n",
       "      <td>0</td>\n",
       "      <td>0</td>\n",
       "      <td>26</td>\n",
       "      <td>United-States</td>\n",
       "      <td>&lt;=50k</td>\n",
       "    </tr>\n",
       "    <tr>\n",
       "      <th>18273</th>\n",
       "      <td>23</td>\n",
       "      <td>State-gov</td>\n",
       "      <td>35633</td>\n",
       "      <td>Some-college</td>\n",
       "      <td>10</td>\n",
       "      <td>Never-married</td>\n",
       "      <td>Other-service</td>\n",
       "      <td>Not-in-family</td>\n",
       "      <td>White</td>\n",
       "      <td>Male</td>\n",
       "      <td>0</td>\n",
       "      <td>0</td>\n",
       "      <td>50</td>\n",
       "      <td>United-States</td>\n",
       "      <td>&lt;=50k</td>\n",
       "    </tr>\n",
       "    <tr>\n",
       "      <th>14838</th>\n",
       "      <td>32</td>\n",
       "      <td>Self-emp-inc</td>\n",
       "      <td>161153</td>\n",
       "      <td>HS-grad</td>\n",
       "      <td>9</td>\n",
       "      <td>Married-civ-spouse</td>\n",
       "      <td>Farming-fishing</td>\n",
       "      <td>Husband</td>\n",
       "      <td>White</td>\n",
       "      <td>Male</td>\n",
       "      <td>0</td>\n",
       "      <td>1902</td>\n",
       "      <td>55</td>\n",
       "      <td>United-States</td>\n",
       "      <td>&gt;50k</td>\n",
       "    </tr>\n",
       "    <tr>\n",
       "      <th>16585</th>\n",
       "      <td>44</td>\n",
       "      <td>Private</td>\n",
       "      <td>192381</td>\n",
       "      <td>Bachelors</td>\n",
       "      <td>13</td>\n",
       "      <td>Married-civ-spouse</td>\n",
       "      <td>Prof-specialty</td>\n",
       "      <td>Husband</td>\n",
       "      <td>White</td>\n",
       "      <td>Male</td>\n",
       "      <td>0</td>\n",
       "      <td>1848</td>\n",
       "      <td>40</td>\n",
       "      <td>United-States</td>\n",
       "      <td>&gt;50k</td>\n",
       "    </tr>\n",
       "    <tr>\n",
       "      <th>22570</th>\n",
       "      <td>43</td>\n",
       "      <td>Self-emp-inc</td>\n",
       "      <td>602513</td>\n",
       "      <td>Masters</td>\n",
       "      <td>14</td>\n",
       "      <td>Married-civ-spouse</td>\n",
       "      <td>Exec-managerial</td>\n",
       "      <td>Husband</td>\n",
       "      <td>White</td>\n",
       "      <td>Male</td>\n",
       "      <td>0</td>\n",
       "      <td>0</td>\n",
       "      <td>50</td>\n",
       "      <td>United-States</td>\n",
       "      <td>&gt;50k</td>\n",
       "    </tr>\n",
       "    <tr>\n",
       "      <th>25297</th>\n",
       "      <td>69</td>\n",
       "      <td>Federal-gov</td>\n",
       "      <td>143849</td>\n",
       "      <td>11th</td>\n",
       "      <td>7</td>\n",
       "      <td>Widowed</td>\n",
       "      <td>Adm-clerical</td>\n",
       "      <td>Not-in-family</td>\n",
       "      <td>White</td>\n",
       "      <td>Female</td>\n",
       "      <td>0</td>\n",
       "      <td>0</td>\n",
       "      <td>20</td>\n",
       "      <td>United-States</td>\n",
       "      <td>&lt;=50k</td>\n",
       "    </tr>\n",
       "    <tr>\n",
       "      <th>39942</th>\n",
       "      <td>35</td>\n",
       "      <td>Private</td>\n",
       "      <td>351772</td>\n",
       "      <td>Some-college</td>\n",
       "      <td>10</td>\n",
       "      <td>Married-civ-spouse</td>\n",
       "      <td>Sales</td>\n",
       "      <td>Husband</td>\n",
       "      <td>White</td>\n",
       "      <td>Male</td>\n",
       "      <td>0</td>\n",
       "      <td>0</td>\n",
       "      <td>60</td>\n",
       "      <td>United-States</td>\n",
       "      <td>&gt;50k</td>\n",
       "    </tr>\n",
       "    <tr>\n",
       "      <th>4431</th>\n",
       "      <td>21</td>\n",
       "      <td>Private</td>\n",
       "      <td>174503</td>\n",
       "      <td>HS-grad</td>\n",
       "      <td>9</td>\n",
       "      <td>Never-married</td>\n",
       "      <td>Adm-clerical</td>\n",
       "      <td>Not-in-family</td>\n",
       "      <td>White</td>\n",
       "      <td>Female</td>\n",
       "      <td>0</td>\n",
       "      <td>0</td>\n",
       "      <td>30</td>\n",
       "      <td>United-States</td>\n",
       "      <td>&lt;=50k</td>\n",
       "    </tr>\n",
       "  </tbody>\n",
       "</table>\n",
       "</div>"
      ],
      "text/plain": [
       "       age     workclass  fnlwgt     education  education-num  \\\n",
       "38515   37       Private  285637       HS-grad              9   \n",
       "19744   57       Private   29375       HS-grad              9   \n",
       "9584    19       Private  201743  Some-college             10   \n",
       "18273   23     State-gov   35633  Some-college             10   \n",
       "14838   32  Self-emp-inc  161153       HS-grad              9   \n",
       "16585   44       Private  192381     Bachelors             13   \n",
       "22570   43  Self-emp-inc  602513       Masters             14   \n",
       "25297   69   Federal-gov  143849          11th              7   \n",
       "39942   35       Private  351772  Some-college             10   \n",
       "4431    21       Private  174503       HS-grad              9   \n",
       "\n",
       "           marital-status        occupation   relationship  \\\n",
       "38515       Never-married  Transport-moving  Not-in-family   \n",
       "19744           Separated             Sales  Not-in-family   \n",
       "9584        Never-married     Other-service      Own-child   \n",
       "18273       Never-married     Other-service  Not-in-family   \n",
       "14838  Married-civ-spouse   Farming-fishing        Husband   \n",
       "16585  Married-civ-spouse    Prof-specialty        Husband   \n",
       "22570  Married-civ-spouse   Exec-managerial        Husband   \n",
       "25297             Widowed      Adm-clerical  Not-in-family   \n",
       "39942  Married-civ-spouse             Sales        Husband   \n",
       "4431        Never-married      Adm-clerical  Not-in-family   \n",
       "\n",
       "                     race     sex  capital-gain  capital-loss  hours-per-week  \\\n",
       "38515               Black    Male             0             0              50   \n",
       "19744  Amer-Indian-Eskimo  Female             0             0              35   \n",
       "9584                White  Female             0             0              26   \n",
       "18273               White    Male             0             0              50   \n",
       "14838               White    Male             0          1902              55   \n",
       "16585               White    Male             0          1848              40   \n",
       "22570               White    Male             0             0              50   \n",
       "25297               White  Female             0             0              20   \n",
       "39942               White    Male             0             0              60   \n",
       "4431                White  Female             0             0              30   \n",
       "\n",
       "      native-country income  \n",
       "38515  United-States  <=50k  \n",
       "19744  United-States  <=50k  \n",
       "9584   United-States  <=50k  \n",
       "18273  United-States  <=50k  \n",
       "14838  United-States   >50k  \n",
       "16585  United-States   >50k  \n",
       "22570  United-States   >50k  \n",
       "25297  United-States  <=50k  \n",
       "39942  United-States   >50k  \n",
       "4431   United-States  <=50k  "
      ]
     },
     "execution_count": 3,
     "metadata": {},
     "output_type": "execute_result"
    }
   ],
   "source": [
    "import pandas as pd\n",
    "datapath ='data/kiprotectdata/' # change this to adjust relative path\n",
    "df = pd.read_csv(datapath+\"adult.all.txt\", sep=\", \", header=None, names=names, index_col=False, engine='python')\n",
    "for name in categorical:\n",
    "    df[name] = df[name].astype('category')\n",
    "print(df.shape)\n",
    "df.sample(10)"
   ]
  },
  {
   "cell_type": "markdown",
   "metadata": {
    "slideshow": {
     "slide_type": "slide"
    }
   },
   "source": [
    "### Greedy heuristic"
   ]
  },
  {
   "cell_type": "markdown",
   "metadata": {
    "slideshow": {
     "slide_type": "subslide"
    }
   },
   "source": [
    "#### Helper function: spans of columns of a dataframe\n",
    "\n",
    "> We first need a function that returns the spans (max-min for numerical columns, number of different values for categorical columns) of all columns for a partition of a dataframe."
   ]
  },
  {
   "cell_type": "code",
   "execution_count": 4,
   "metadata": {
    "slideshow": {
     "slide_type": "fragment"
    }
   },
   "outputs": [],
   "source": [
    "def get_spans(df, partition, scale=None):\n",
    "    \"\"\"\n",
    "    :param        df: the dataframe for which to calculate the spans\n",
    "    :param partition: the partition for which to calculate the spans\n",
    "    :param     scale: if given, the spans of each column will be divided\n",
    "                      by the value in `scale` for that column\n",
    "    :        returns: The spans of all columns in the partition\n",
    "    \"\"\"    \n",
    "    spans = {}\n",
    "    for column in df.columns:\n",
    "        if column in categorical:\n",
    "            span = len(df[column][partition].unique())\n",
    "        else:\n",
    "            span = df[column][partition].max()-df[column][partition].min()\n",
    "        if scale is not None:\n",
    "            span = span/scale[column]\n",
    "        spans[column] = span\n",
    "    return spans"
   ]
  },
  {
   "cell_type": "code",
   "execution_count": 5,
   "metadata": {
    "slideshow": {
     "slide_type": "subslide"
    }
   },
   "outputs": [
    {
     "data": {
      "text/plain": [
       "{'age': 73,\n",
       " 'workclass': 9,\n",
       " 'fnlwgt': 1478115,\n",
       " 'education': 16,\n",
       " 'education-num': 15,\n",
       " 'marital-status': 7,\n",
       " 'occupation': 15,\n",
       " 'relationship': 6,\n",
       " 'race': 5,\n",
       " 'sex': 2,\n",
       " 'capital-gain': 99999,\n",
       " 'capital-loss': 4356,\n",
       " 'hours-per-week': 98,\n",
       " 'native-country': 42,\n",
       " 'income': 2}"
      ]
     },
     "execution_count": 5,
     "metadata": {},
     "output_type": "execute_result"
    }
   ],
   "source": [
    "full_spans = get_spans(df, df.index)\n",
    "full_spans"
   ]
  },
  {
   "cell_type": "markdown",
   "metadata": {
    "slideshow": {
     "slide_type": "subslide"
    }
   },
   "source": [
    "#### Helper function: split a dataframe in two partitions based on a `column`\n",
    "\n",
    "> partition the dataframe, returning two partitions such that\n",
    "> - all rows with values of a chosen/indicated column `column` below the median are in one partition \n",
    "> - all rows with values above or equal to the median are in the other\n",
    ">     - for categorical data, divide them into two disjoint sets of (roughly) equal number of categories"
   ]
  },
  {
   "cell_type": "code",
   "execution_count": 6,
   "metadata": {
    "slideshow": {
     "slide_type": "fragment"
    }
   },
   "outputs": [],
   "source": [
    "def split(df, partition, column):\n",
    "    \"\"\"\n",
    "    :param        df: The dataframe to split\n",
    "    :param partition: The partition to split\n",
    "    :param    column: The column along which to split\n",
    "    :        returns: A tuple containing a split of the original partition\n",
    "    \"\"\"\n",
    "    dfp = df[column][partition]\n",
    "    if column in categorical:\n",
    "        values = dfp.unique()\n",
    "        lv = set(values[:len(values)//2])\n",
    "        rv = set(values[len(values)//2:])\n",
    "        return dfp.index[dfp.isin(lv)], dfp.index[dfp.isin(rv)]\n",
    "    else:        \n",
    "        median = dfp.median()\n",
    "        dfl = dfp.index[dfp < median]\n",
    "        dfr = dfp.index[dfp >= median]\n",
    "        return (dfl, dfr)"
   ]
  },
  {
   "cell_type": "markdown",
   "metadata": {
    "slideshow": {
     "slide_type": "subslide"
    }
   },
   "source": [
    "#### Helper function: Determines if a specific partition has at least k entrees"
   ]
  },
  {
   "cell_type": "code",
   "execution_count": 7,
   "metadata": {
    "slideshow": {
     "slide_type": "fragment"
    }
   },
   "outputs": [],
   "source": [
    "def is_k_anonymous(df, partition, sensitive_column, k=5):\n",
    "    \"\"\"\n",
    "    :param               df: The dataframe on which to check the partition.\n",
    "    :param        partition: The partition of the dataframe to check.\n",
    "    :param sensitive_column: The name of the sensitive column\n",
    "    :param                k: The desired k\n",
    "    :returns               : True if the partition is valid according to our k-anonymity criteria, False otherwise.\n",
    "    \"\"\"\n",
    "    if len(partition) < k:\n",
    "        return False\n",
    "    return True"
   ]
  },
  {
   "cell_type": "markdown",
   "metadata": {
    "slideshow": {
     "slide_type": "subslide"
    }
   },
   "source": [
    "### Greedy partitioning"
   ]
  },
  {
   "cell_type": "code",
   "execution_count": 8,
   "metadata": {
    "slideshow": {
     "slide_type": "fragment"
    }
   },
   "outputs": [],
   "source": [
    "def partition_dataset(df, feature_columns, sensitive_column, scale, is_valid):\n",
    "    \"\"\"\n",
    "    :param               df: The dataframe to be partitioned.\n",
    "    :param  feature_columns: A list of column names along which to partition the dataset.\n",
    "    :param sensitive_column: The name of the sensitive column (to be passed on to the `is_valid` function)\n",
    "    :param            scale: The column spans as generated before.\n",
    "    :param         is_valid: A function that takes a dataframe and a partition and returns True if the partition is valid.\n",
    "    :returns               : A list of valid partitions that cover the entire dataframe.\n",
    "    \"\"\"\n",
    "    finished_partitions = []\n",
    "    partitions = [df.index]\n",
    "    while partitions:\n",
    "        partition = partitions.pop(0)\n",
    "        spans = get_spans(df[feature_columns], partition, scale)\n",
    "        for column, span in sorted(spans.items(), key=lambda x:-x[1]):\n",
    "            #we try to split this partition along a given column\n",
    "            lp, rp = split(df, partition, column)\n",
    "            if not is_valid(df, lp, sensitive_column) or not is_valid(df, rp, sensitive_column):\n",
    "                continue\n",
    "            # the split is valid, we put the new partitions on the list and continue\n",
    "            partitions.extend((lp, rp))\n",
    "            break\n",
    "        else:\n",
    "            # no split was possible, we add the partition to the finished partitions\n",
    "            finished_partitions.append(partition)\n",
    "    return finished_partitions"
   ]
  },
  {
   "cell_type": "code",
   "execution_count": 9,
   "metadata": {
    "slideshow": {
     "slide_type": "subslide"
    }
   },
   "outputs": [
    {
     "name": "stdout",
     "output_type": "stream",
     "text": [
      "460\n"
     ]
    }
   ],
   "source": [
    "# we apply the partitioning method to two columns of the dataset, using \"income\" as the sensitive attribute\n",
    "feature_columns = ['age', 'education-num']\n",
    "sensitive_column = 'income'\n",
    "finished_partitions = partition_dataset(df, feature_columns, sensitive_column, full_spans, is_k_anonymous)\n",
    "print(len(finished_partitions))"
   ]
  },
  {
   "cell_type": "markdown",
   "metadata": {
    "slideshow": {
     "slide_type": "subslide"
    }
   },
   "source": [
    "#### Visualizing the partitioning achieved"
   ]
  },
  {
   "cell_type": "code",
   "execution_count": 10,
   "metadata": {
    "scrolled": false,
    "slideshow": {
     "slide_type": "fragment"
    }
   },
   "outputs": [
    {
     "data": {
      "image/png": "[encoded data removed]",
      "text/plain": [
       "<Figure size 432x288 with 1 Axes>"
      ]
     },
     "metadata": {
      "needs_background": "light"
     },
     "output_type": "display_data"
    }
   ],
   "source": [
    "import matplotlib.pyplot as plt\n",
    "import matplotlib.patches as patches\n",
    "part_sizes=[len(x) for x in finished_partitions]\n",
    "plt.hist(part_sizes,bins=200,log=True)\n",
    "plt.ylabel('# of partitions (log)')\n",
    "plt.xlabel('size of partition');"
   ]
  },
  {
   "cell_type": "code",
   "execution_count": 11,
   "metadata": {
    "slideshow": {
     "slide_type": "skip"
    }
   },
   "outputs": [],
   "source": [
    "# supporting functions and pre-computations for plotting 2D-partitions \n",
    "\n",
    "def build_indexes(df):\n",
    "    indexes = {}\n",
    "    for column in categorical:\n",
    "        values = sorted(df[column].unique())\n",
    "        indexes[column] = { x : y for x, y in zip(values, range(len(values)))}\n",
    "    return indexes\n",
    "\n",
    "def get_coords(df, column, partition, indexes, offset=0.1):\n",
    "    if column in categorical:\n",
    "        sv = df[column][partition].sort_values()\n",
    "        l, r = indexes[column][sv[sv.index[0]]], indexes[column][sv[sv.index[-1]]]+1.0\n",
    "    else:\n",
    "        sv = df[column][partition].sort_values()\n",
    "        next_value = sv[sv.index[-1]]\n",
    "        larger_values = df[df[column] > next_value][column]\n",
    "        if len(larger_values) > 0:\n",
    "            next_value = larger_values.min()\n",
    "        l = sv[sv.index[0]]\n",
    "        r = next_value\n",
    "    # we add some offset to make the partitions more easily visible\n",
    "    l -= offset\n",
    "    r += offset\n",
    "    return l, r\n",
    "\n",
    "def get_partition_rects(df, partitions, column_x, column_y, indexes, offsets=[0.1, 0.1]):\n",
    "    rects = []\n",
    "    for partition in partitions:\n",
    "        xl, xr = get_coords(df, column_x, partition, indexes, offset=offsets[0])\n",
    "        yl, yr = get_coords(df, column_y, partition, indexes, offset=offsets[1])\n",
    "        rects.append(((xl, yl),(xr, yr)))\n",
    "    return rects\n",
    "\n",
    "def get_bounds(df, column, indexes, offset=1.0):\n",
    "    if column in categorical:\n",
    "        return 0-offset, len(indexes[column])+offset\n",
    "    return df[column].min()-offset, df[column].max()+offset\n",
    "\n",
    "def plot_rects(df, ax, rects, column_x, column_y, edgecolor='grey', facecolor='none'):\n",
    "    for (xl, yl),(xr, yr) in rects:\n",
    "        ax.add_patch(patches.Rectangle((xl,yl),xr-xl,yr-yl,linewidth=1,edgecolor=edgecolor,facecolor=facecolor, alpha=0.5))\n",
    "    ax.set_xlim(*get_bounds(df, column_x, indexes))\n",
    "    ax.set_ylim(*get_bounds(df, column_y, indexes))\n",
    "    ax.set_xlabel(column_x)\n",
    "    ax.set_ylabel(column_y)\n",
    "    \n",
    "indexes = build_indexes(df)\n",
    "column_x, column_y = feature_columns[:2]\n",
    "rects = get_partition_rects(df, finished_partitions, column_x, column_y, indexes, offsets=[0.0, 0.0])"
   ]
  },
  {
   "cell_type": "code",
   "execution_count": 12,
   "metadata": {
    "slideshow": {
     "slide_type": "subslide"
    }
   },
   "outputs": [
    {
     "data": {
      "text/plain": [
       "<matplotlib.collections.PathCollection at 0x1cd73578340>"
      ]
     },
     "execution_count": 12,
     "metadata": {},
     "output_type": "execute_result"
    },
    {
     "data": {
      "image/png": "[encoded data removed]",
      "text/plain": [
       "<Figure size 1080x576 with 1 Axes>"
      ]
     },
     "metadata": {
      "needs_background": "light"
     },
     "output_type": "display_data"
    }
   ],
   "source": [
    "# Details of plotting function plot_rects has been skipped in the slide: Check the Jupyter notebook\n",
    "plt.figure(figsize=(15,8))\n",
    "ax = plt.subplot()\n",
    "plot_rects(df, ax, rects, column_x, column_y, facecolor='r')\n",
    "# we can also plot the datapoints themselves\n",
    "plt.scatter(df[column_x], df[column_y])"
   ]
  },
  {
   "cell_type": "markdown",
   "metadata": {
    "slideshow": {
     "slide_type": "slide"
    }
   },
   "source": [
    "### Generating the k-anonymous dataset\n",
    "\n",
    "> So far we have identified the partition boundaries, along which to group the data items.\n",
    "> * We need to aggregate data within the partitions, to create the k-anonymous dataset."
   ]
  },
  {
   "cell_type": "code",
   "execution_count": 13,
   "metadata": {
    "slideshow": {
     "slide_type": "fragment"
    }
   },
   "outputs": [],
   "source": [
    "def agg_categorical_column(series):\n",
    "    return [','.join(set(series))]\n",
    "\n",
    "def agg_numerical_column(series):\n",
    "    return [series.mean()]"
   ]
  },
  {
   "cell_type": "code",
   "execution_count": 14,
   "metadata": {
    "slideshow": {
     "slide_type": "subslide"
    }
   },
   "outputs": [],
   "source": [
    "# Caution: I have tested it with other feature_columns choices and the code is brittle and it breaks.\n",
    "# It serves the pedagogical purpose, but you may have to fix/reimplement for general purpose use.\n",
    "def build_anonymized_dataset(df, partitions, feature_columns, sensitive_column, max_partitions=None):\n",
    "    aggregations = {}\n",
    "    for column in feature_columns:\n",
    "        if column in categorical:\n",
    "            aggregations[column] = agg_categorical_column\n",
    "        else:\n",
    "            aggregations[column] = agg_numerical_column        \n",
    "    rows = []\n",
    "    for i, partition in enumerate(partitions):\n",
    "        #if i % 100 == 1:\n",
    "        #    print(\"Finished {} partitions...\".format(i))\n",
    "        if max_partitions is not None and i > max_partitions:\n",
    "            break\n",
    "        grouped_columns = df.loc[partition].agg(aggregations, squeeze=False)\n",
    "        sensitive_counts = df.loc[partition].groupby(sensitive_column).agg({sensitive_column : 'count'})\n",
    "        values = grouped_columns.iloc[0].to_dict()\n",
    "        for sensitive_value, count in sensitive_counts[sensitive_column].items():\n",
    "            if count == 0:\n",
    "                continue\n",
    "            values.update({\n",
    "                sensitive_column : sensitive_value,\n",
    "                'count' : count,\n",
    "            })\n",
    "            rows.append(values.copy())\n",
    "       \n",
    "    return pd.DataFrame(rows)"
   ]
  },
  {
   "cell_type": "code",
   "execution_count": 15,
   "metadata": {
    "slideshow": {
     "slide_type": "subslide"
    }
   },
   "outputs": [
    {
     "data": {
      "text/html": [
       "<div>\n",
       "<style scoped>\n",
       "    .dataframe tbody tr th:only-of-type {\n",
       "        vertical-align: middle;\n",
       "    }\n",
       "\n",
       "    .dataframe tbody tr th {\n",
       "        vertical-align: top;\n",
       "    }\n",
       "\n",
       "    .dataframe thead th {\n",
       "        text-align: right;\n",
       "    }\n",
       "</style>\n",
       "<table border=\"1\" class=\"dataframe\">\n",
       "  <thead>\n",
       "    <tr style=\"text-align: right;\">\n",
       "      <th></th>\n",
       "      <th>age</th>\n",
       "      <th>education-num</th>\n",
       "      <th>income</th>\n",
       "      <th>count</th>\n",
       "    </tr>\n",
       "  </thead>\n",
       "  <tbody>\n",
       "    <tr>\n",
       "      <th>605</th>\n",
       "      <td>17.0</td>\n",
       "      <td>4.000000</td>\n",
       "      <td>&lt;=50k</td>\n",
       "      <td>5</td>\n",
       "    </tr>\n",
       "    <tr>\n",
       "      <th>110</th>\n",
       "      <td>17.0</td>\n",
       "      <td>5.000000</td>\n",
       "      <td>&lt;=50k</td>\n",
       "      <td>36</td>\n",
       "    </tr>\n",
       "    <tr>\n",
       "      <th>111</th>\n",
       "      <td>17.0</td>\n",
       "      <td>6.000000</td>\n",
       "      <td>&lt;=50k</td>\n",
       "      <td>198</td>\n",
       "    </tr>\n",
       "    <tr>\n",
       "      <th>0</th>\n",
       "      <td>17.0</td>\n",
       "      <td>7.200599</td>\n",
       "      <td>&lt;=50k</td>\n",
       "      <td>334</td>\n",
       "    </tr>\n",
       "    <tr>\n",
       "      <th>120</th>\n",
       "      <td>17.0</td>\n",
       "      <td>9.000000</td>\n",
       "      <td>&lt;=50k</td>\n",
       "      <td>14</td>\n",
       "    </tr>\n",
       "    <tr>\n",
       "      <th>...</th>\n",
       "      <td>...</td>\n",
       "      <td>...</td>\n",
       "      <td>...</td>\n",
       "      <td>...</td>\n",
       "    </tr>\n",
       "    <tr>\n",
       "      <th>726</th>\n",
       "      <td>90.0</td>\n",
       "      <td>9.000000</td>\n",
       "      <td>&gt;50k</td>\n",
       "      <td>4</td>\n",
       "    </tr>\n",
       "    <tr>\n",
       "      <th>736</th>\n",
       "      <td>90.0</td>\n",
       "      <td>10.545455</td>\n",
       "      <td>&lt;=50k</td>\n",
       "      <td>9</td>\n",
       "    </tr>\n",
       "    <tr>\n",
       "      <th>737</th>\n",
       "      <td>90.0</td>\n",
       "      <td>10.545455</td>\n",
       "      <td>&gt;50k</td>\n",
       "      <td>2</td>\n",
       "    </tr>\n",
       "    <tr>\n",
       "      <th>772</th>\n",
       "      <td>90.0</td>\n",
       "      <td>14.000000</td>\n",
       "      <td>&lt;=50k</td>\n",
       "      <td>2</td>\n",
       "    </tr>\n",
       "    <tr>\n",
       "      <th>773</th>\n",
       "      <td>90.0</td>\n",
       "      <td>14.000000</td>\n",
       "      <td>&gt;50k</td>\n",
       "      <td>3</td>\n",
       "    </tr>\n",
       "  </tbody>\n",
       "</table>\n",
       "<p>776 rows × 4 columns</p>\n",
       "</div>"
      ],
      "text/plain": [
       "      age  education-num income  count\n",
       "605  17.0       4.000000  <=50k      5\n",
       "110  17.0       5.000000  <=50k     36\n",
       "111  17.0       6.000000  <=50k    198\n",
       "0    17.0       7.200599  <=50k    334\n",
       "120  17.0       9.000000  <=50k     14\n",
       "..    ...            ...    ...    ...\n",
       "726  90.0       9.000000   >50k      4\n",
       "736  90.0      10.545455  <=50k      9\n",
       "737  90.0      10.545455   >50k      2\n",
       "772  90.0      14.000000  <=50k      2\n",
       "773  90.0      14.000000   >50k      3\n",
       "\n",
       "[776 rows x 4 columns]"
      ]
     },
     "execution_count": 15,
     "metadata": {},
     "output_type": "execute_result"
    }
   ],
   "source": [
    "# we sort the resulting dataframe using the feature columns and the sensitive attribute\n",
    "dfn=build_anonymized_dataset(df, finished_partitions, feature_columns, sensitive_column)\\\n",
    "      .sort_values(feature_columns+[sensitive_column])\n",
    "dfn"
   ]
  },
  {
   "cell_type": "markdown",
   "metadata": {
    "slideshow": {
     "slide_type": "slide"
    }
   },
   "source": [
    "#### Ungraded task \n",
    "\n",
    "<b>Ungraded Task 8.1.i</b>: Generate k-anonymous, l-diverse dataset. \n",
    "\n",
    "Hint: You need minor modification to how/when partitioning is done.\n",
    "\n",
    "<b>Ungraded Task 8.1.ii</b>: For a dataset of your choice, train a ML model (of your choice) with the raw data versus the k-anonymyzed data and compare their performances (you may use default parameter choices, or try to optimize for each case). \n",
    "\n",
    "Note: When using k-anonymyzed data to train, the test data could still be the way the original \"raw\" data was. "
   ]
  },
  {
   "cell_type": "markdown",
   "metadata": {
    "slideshow": {
     "slide_type": "fragment"
    }
   },
   "source": [
    "<b>Ungraded Task 8.2</b>: Generate differentially private data from the census dataset, using the same set of features and sensitive columns. Benchmark the performance of models trained with different parameter choices, comparing with the model built using the original (non-noisy) data. \n",
    "\n",
    "Hint: There are only two categories for the sensitive (income) data."
   ]
  },
  {
   "cell_type": "markdown",
   "metadata": {
    "slideshow": {
     "slide_type": "slide"
    }
   },
   "source": [
    "![anon](pics/anon.png)"
   ]
  }
 ],
 "metadata": {
  "celltoolbar": "Slideshow",
  "kernelspec": {
   "display_name": "Python 3",
   "language": "python",
   "name": "python3"
  },
  "language_info": {
   "codemirror_mode": {
    "name": "ipython",
    "version": 3
   },
   "file_extension": ".py",
   "mimetype": "text/x-python",
   "name": "python",
   "nbconvert_exporter": "python",
   "pygments_lexer": "ipython3",
   "version": "3.8.5"
  }
 },
 "nbformat": 4,
 "nbformat_minor": 4
}
