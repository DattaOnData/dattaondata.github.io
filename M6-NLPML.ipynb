{
 "cells": [
  {
   "cell_type": "markdown",
   "metadata": {
    "slideshow": {
     "slide_type": "slide"
    }
   },
   "source": [
    "###### Natural Language Processing & Machine Learning\n",
    "<br><br>\n",
    "<div style=\"background-color:rgba(128, 128, 0, 0.1); text-align:left; vertical-align: middle; padding:20px 0;\">\n",
    "<p style=\"font-size:134%;color:Deep Teal;\">SC 4125: Developing Data Products</p>\n",
    "    <p style=\"font-size:100%;color:Olive;\">Module-6: Statistical tools for natural language processing and machine learning</p><br>\n",
    "\n",
    "    \n",
    "<br> \n",
    "by <a href=\"https://personal.ntu.edu.sg/anwitaman/\" style=\"font-size:100%;color:Deep Teal;\">Anwitaman DATTA</a><br>\n",
    "School of Computer Science and Engineering, NTU Singapore.        \n",
    "</div>"
   ]
  },
  {
   "cell_type": "markdown",
   "metadata": {
    "slideshow": {
     "slide_type": "slide"
    }
   },
   "source": [
    "#### Teaching material\n",
    "- <a href=\"M6-NLPML.slides.html\">.html</a> deck of slides\n",
    "- <a href=\"M6-NLPML.ipynb\">.ipynb</a> Jupyter notebook"
   ]
  },
  {
   "cell_type": "markdown",
   "metadata": {
    "slideshow": {
     "slide_type": "slide"
    }
   },
   "source": [
    "### Disclaimer/Caveat emptor\n",
    "\n",
    "- Non-systematic and non-exhaustive review\n",
    "- Illustrative approaches are not necessarily the most efficient or elegant, let alone unique"
   ]
  },
  {
   "cell_type": "markdown",
   "metadata": {
    "slideshow": {
     "slide_type": "subslide"
    }
   },
   "source": [
    "### Acknowledgement & Disclaimer\n",
    "\n",
    "> This module is based on some original fragments of codes mixed with code snippets from many different sources (books, blogs, git repos, documentations, videos, ...). The narrative in the module is also influenced from the many sources consulted. They have been referenced in-place in a best effort manner. Links to several third-party videos and reading references have also been provided.\n",
    "\n",
    "> If there are any attribution omissions to be rectified, or should anything in the material need to be changed or redacted, the copyright owners are requested to contact me at anwitaman@ntu.edu.sg  "
   ]
  },
  {
   "cell_type": "markdown",
   "metadata": {
    "slideshow": {
     "slide_type": "slide"
    }
   },
   "source": [
    "# <span style=\"color:olivedrab\">Elementary concepts</span>"
   ]
  },
  {
   "cell_type": "code",
   "execution_count": 1,
   "metadata": {
    "slideshow": {
     "slide_type": "skip"
    }
   },
   "outputs": [],
   "source": [
    "from IPython.display import HTML"
   ]
  },
  {
   "cell_type": "code",
   "execution_count": 2,
   "metadata": {
    "slideshow": {
     "slide_type": "subslide"
    }
   },
   "outputs": [],
   "source": [
    "import nltk\n",
    "#nltk.download(\"book\") \n",
    "# We may use some of the existing corpora for some of our examples\n",
    "# see more about nltk's corpora at https://www.nltk.org/book/ch02.html \n",
    "#from nltk.book import * ## Not used finally\n",
    "\n",
    "#########\n",
    "\n",
    "import spacy\n",
    "nlp = spacy.load(\"en_core_web_sm\")\n",
    "#!python -m spacy download en_core_web_sm\n",
    "# see more about spaCy models at https://spacy.io/models"
   ]
  },
  {
   "cell_type": "markdown",
   "metadata": {
    "slideshow": {
     "slide_type": "subslide"
    }
   },
   "source": [
    "### Making a first sense: What comprises the data?\n",
    "\n",
    "> Encoding: e.g. <a href=\"https://en.wikipedia.org/wiki/UTF-8\">UTF-8</a><br>\n",
    "> - ♞ to F6 \n",
    "> - Smöoy Frozen Yogurt\n",
    "\n",
    "> Cleaning the data\n",
    "> - e.g., using <span style=\"color:SteelBlue\">RegEx</span>: We studied this in one of the early modules  "
   ]
  },
  {
   "cell_type": "markdown",
   "metadata": {
    "slideshow": {
     "slide_type": "subslide"
    }
   },
   "source": [
    "<b>Tokenization:</b> Granularity - Word, Sentence\n",
    "\n",
    "<br>\n",
    " <center>\n",
    " <img alt=\"Neo4j book cover\" src=\"pics/tokenization-spacy.svg\" width=\"500\">\n",
    " <br>Image source: <a href=\"https://spacy.io/usage/spacy-101\">Spacy.io</a> \n",
    " </center> \n"
   ]
  },
  {
   "cell_type": "code",
   "execution_count": 3,
   "metadata": {
    "slideshow": {
     "slide_type": "subslide"
    }
   },
   "outputs": [],
   "source": [
    "NYT_Headline = \"F.D.A. Panel Recommends Booster for Many Moderna Vaccine Recipients. Those eligible for the extra shot would include adults over 65 and others at high risk — the same groups now eligible for a Pfizer-BioNTech boost. By Sharon LaFraniere and Noah Weiland, Oct. 14, 2021\"\n",
    "\n",
    "EE1 =\"An alarming problem looms once more: Iran is rapidly advancing its nuclear programme; Israel is threatening military action against it; and America is seeking a diplomatic solution. Anton La Guardia, The Economist’s diplomatic editor, wrote about the international crisis this poses. Al-Monitor, a publication that covers the Middle East, has been monitoring the negotiations to revive a nuclear deal from 2015. It makes for a fiendish dilemma that the former French president, Nicolas Sarkozy, encapsulated thus: `an Iranian bomb or the bombing of Iran'. Iran doesn't yet have a nuclear weapon. But the situation is in many ways worse than in the past. The country is closer than ever to being able to make a nuke. One expert, David Albright, puts the `breakout time'—the time needed to make one bomb’s worth of highly enriched uranium—at just one month. Mr Albright’s book is one of the most detailed accounts of the Iranian programme, drawing on years of inspections by the International Atomic Energy Agency and a trove of Iranian documents obtained by Israeli intelligence. Another problem is that the credibility of American diplomacy has been damaged by Donald Trump’s repudiation of the nuclear deal. His successor, Joe Biden, is trying to revive it but Iran doesn’t seem to be interested. Robert Malley, America's special envoy on Iran, discusses the impasse in a recent interview. Iran claims it seeks nuclear energy only for civilian purposes. The trouble is that the technology used to make low-enriched uranium fuel for nuclear power stations is also used to make highly-enriched uranium for weapons. Whatever its ultimate aim, Iran’s regime attaches great national pride to its mastery of nuclear technology: “our moon shot” is how one Iranian official put it, according to “The Back Channel”, a memoir by William Burns, the head of the CIA who, as a diplomat, helped negotiate the nuclear deal.\""
   ]
  },
  {
   "cell_type": "code",
   "execution_count": 4,
   "metadata": {
    "slideshow": {
     "slide_type": "subslide"
    }
   },
   "outputs": [
    {
     "name": "stdout",
     "output_type": "stream",
     "text": [
      "['An', 'alarming', 'problem', 'looms', 'once', 'more:', 'Iran', 'is', 'rapidly', 'advancing', 'its', 'nuclear', 'programme;', 'Israel', 'is', 'threatening', 'military', 'action', 'against', 'it;', 'and', 'America', 'is', 'seeking', 'a', 'diplomatic', 'solution.', 'Anton', 'La', 'Guardia,', 'The', 'Economist’s', 'diplomatic', 'editor,', 'wrote', 'about', 'the', 'international', 'crisis', 'this', 'poses.', 'Al-Monitor,', 'a', 'publication', 'that', 'covers', 'the', 'Middle', 'East,', 'has', 'been', 'monitoring', 'the', 'negotiations', 'to', 'revive', 'a', 'nuclear', 'deal', 'from', '2015.', 'It', 'makes', 'for', 'a', 'fiendish', 'dilemma', 'that', 'the', 'former', 'French', 'president,', 'Nicolas', 'Sarkozy,', 'encapsulated', 'thus:', '`an', 'Iranian', 'bomb', 'or', 'the', 'bombing', 'of', \"Iran'.\", 'Iran', \"doesn't\", 'yet', 'have', 'a', 'nuclear', 'weapon.', 'But', 'the', 'situation', 'is', 'in', 'many', 'ways', 'worse', 'than', 'in', 'the', 'past.', 'The', 'country', 'is', 'closer', 'than', 'ever', 'to', 'being', 'able', 'to', 'make', 'a', 'nuke.', 'One', 'expert,', 'David', 'Albright,', 'puts', 'the', '`breakout', \"time'—the\", 'time', 'needed', 'to', 'make', 'one', 'bomb’s', 'worth', 'of', 'highly', 'enriched', 'uranium—at', 'just', 'one', 'month.', 'Mr', 'Albright’s', 'book', 'is', 'one', 'of', 'the', 'most', 'detailed', 'accounts', 'of', 'the', 'Iranian', 'programme,', 'drawing', 'on', 'years', 'of', 'inspections', 'by', 'the', 'International', 'Atomic', 'Energy', 'Agency', 'and', 'a', 'trove', 'of', 'Iranian', 'documents', 'obtained', 'by', 'Israeli', 'intelligence.', 'Another', 'problem', 'is', 'that', 'the', 'credibility', 'of', 'American', 'diplomacy', 'has', 'been', 'damaged', 'by', 'Donald', 'Trump’s', 'repudiation', 'of', 'the', 'nuclear', 'deal.', 'His', 'successor,', 'Joe', 'Biden,', 'is', 'trying', 'to', 'revive', 'it', 'but', 'Iran', 'doesn’t', 'seem', 'to', 'be', 'interested.', 'Robert', 'Malley,', \"America's\", 'special', 'envoy', 'on', 'Iran,', 'discusses', 'the', 'impasse', 'in', 'a', 'recent', 'interview.', 'Iran', 'claims', 'it', 'seeks', 'nuclear', 'energy', 'only', 'for', 'civilian', 'purposes.', 'The', 'trouble', 'is', 'that', 'the', 'technology', 'used', 'to', 'make', 'low-enriched', 'uranium', 'fuel', 'for', 'nuclear', 'power', 'stations', 'is', 'also', 'used', 'to', 'make', 'highly-enriched', 'uranium', 'for', 'weapons.', 'Whatever', 'its', 'ultimate', 'aim,', 'Iran’s', 'regime', 'attaches', 'great', 'national', 'pride', 'to', 'its', 'mastery', 'of', 'nuclear', 'technology:', '“our', 'moon', 'shot”', 'is', 'how', 'one', 'Iranian', 'official', 'put', 'it,', 'according', 'to', '“The', 'Back', 'Channel”,', 'a', 'memoir', 'by', 'William', 'Burns,', 'the', 'head', 'of', 'the', 'CIA', 'who,', 'as', 'a', 'diplomat,', 'helped', 'negotiate', 'the', 'nuclear', 'deal.']\n"
     ]
    }
   ],
   "source": [
    "# Word tokenization\n",
    "# Just split by space?\n",
    "print(EE1.split())"
   ]
  },
  {
   "cell_type": "code",
   "execution_count": 5,
   "metadata": {
    "scrolled": true,
    "slideshow": {
     "slide_type": "subslide"
    }
   },
   "outputs": [
    {
     "name": "stdout",
     "output_type": "stream",
     "text": [
      "['An', 'alarming', 'problem', 'looms', 'once', 'more', ':', 'Iran', 'is', 'rapidly', 'advancing', 'its', 'nuclear', 'programme', ';', 'Israel', 'is', 'threatening', 'military', 'action', 'against', 'it', ';', 'and', 'America', 'is', 'seeking', 'a', 'diplomatic', 'solution', '.', 'Anton', 'La', 'Guardia', ',', 'The', 'Economist', '’', 's', 'diplomatic', 'editor', ',', 'wrote', 'about', 'the', 'international', 'crisis', 'this', 'poses', '.', 'Al-Monitor', ',', 'a', 'publication', 'that', 'covers', 'the', 'Middle', 'East', ',', 'has', 'been', 'monitoring', 'the', 'negotiations', 'to', 'revive', 'a', 'nuclear', 'deal', 'from', '2015', '.', 'It', 'makes', 'for', 'a', 'fiendish', 'dilemma', 'that', 'the', 'former', 'French', 'president', ',', 'Nicolas', 'Sarkozy', ',', 'encapsulated', 'thus', ':', '`', 'an', 'Iranian', 'bomb', 'or', 'the', 'bombing', 'of', 'Iran', \"'\", '.', 'Iran', 'does', \"n't\", 'yet', 'have', 'a', 'nuclear', 'weapon', '.', 'But', 'the', 'situation', 'is', 'in', 'many', 'ways', 'worse', 'than', 'in', 'the', 'past', '.', 'The', 'country', 'is', 'closer', 'than', 'ever', 'to', 'being', 'able', 'to', 'make', 'a', 'nuke', '.', 'One', 'expert', ',', 'David', 'Albright', ',', 'puts', 'the', '`', 'breakout', \"time'—the\", 'time', 'needed', 'to', 'make', 'one', 'bomb', '’', 's', 'worth', 'of', 'highly', 'enriched', 'uranium—at', 'just', 'one', 'month', '.', 'Mr', 'Albright', '’', 's', 'book', 'is', 'one', 'of', 'the', 'most', 'detailed', 'accounts', 'of', 'the', 'Iranian', 'programme', ',', 'drawing', 'on', 'years', 'of', 'inspections', 'by', 'the', 'International', 'Atomic', 'Energy', 'Agency', 'and', 'a', 'trove', 'of', 'Iranian', 'documents', 'obtained', 'by', 'Israeli', 'intelligence', '.', 'Another', 'problem', 'is', 'that', 'the', 'credibility', 'of', 'American', 'diplomacy', 'has', 'been', 'damaged', 'by', 'Donald', 'Trump', '’', 's', 'repudiation', 'of', 'the', 'nuclear', 'deal', '.', 'His', 'successor', ',', 'Joe', 'Biden', ',', 'is', 'trying', 'to', 'revive', 'it', 'but', 'Iran', 'doesn', '’', 't', 'seem', 'to', 'be', 'interested', '.', 'Robert', 'Malley', ',', 'America', \"'s\", 'special', 'envoy', 'on', 'Iran', ',', 'discusses', 'the', 'impasse', 'in', 'a', 'recent', 'interview', '.', 'Iran', 'claims', 'it', 'seeks', 'nuclear', 'energy', 'only', 'for', 'civilian', 'purposes', '.', 'The', 'trouble', 'is', 'that', 'the', 'technology', 'used', 'to', 'make', 'low-enriched', 'uranium', 'fuel', 'for', 'nuclear', 'power', 'stations', 'is', 'also', 'used', 'to', 'make', 'highly-enriched', 'uranium', 'for', 'weapons', '.', 'Whatever', 'its', 'ultimate', 'aim', ',', 'Iran', '’', 's', 'regime', 'attaches', 'great', 'national', 'pride', 'to', 'its', 'mastery', 'of', 'nuclear', 'technology', ':', '“', 'our', 'moon', 'shot', '”', 'is', 'how', 'one', 'Iranian', 'official', 'put', 'it', ',', 'according', 'to', '“', 'The', 'Back', 'Channel', '”', ',', 'a', 'memoir', 'by', 'William', 'Burns', ',', 'the', 'head', 'of', 'the', 'CIA', 'who', ',', 'as', 'a', 'diplomat', ',', 'helped', 'negotiate', 'the', 'nuclear', 'deal', '.']\n"
     ]
    }
   ],
   "source": [
    "# word tokenization using nltk\n",
    "print(nltk.word_tokenize(EE1))"
   ]
  },
  {
   "cell_type": "code",
   "execution_count": 6,
   "metadata": {
    "slideshow": {
     "slide_type": "subslide"
    }
   },
   "outputs": [
    {
     "name": "stdout",
     "output_type": "stream",
     "text": [
      "[An, alarming, problem, looms, once, more, :, Iran, is, rapidly, advancing, its, nuclear, programme, ;, Israel, is, threatening, military, action, against, it, ;, and, America, is, seeking, a, diplomatic, solution, ., Anton, La, Guardia, ,, The, Economist, ’s, diplomatic, editor, ,, wrote, about, the, international, crisis, this, poses, ., Al, -, Monitor, ,, a, publication, that, covers, the, Middle, East, ,, has, been, monitoring, the, negotiations, to, revive, a, nuclear, deal, from, 2015, ., It, makes, for, a, fiendish, dilemma, that, the, former, French, president, ,, Nicolas, Sarkozy, ,, encapsulated, thus, :, `, an, Iranian, bomb, or, the, bombing, of, Iran, ', ., Iran, does, n't, yet, have, a, nuclear, weapon, ., But, the, situation, is, in, many, ways, worse, than, in, the, past, ., The, country, is, closer, than, ever, to, being, able, to, make, a, nuke, ., One, expert, ,, David, Albright, ,, puts, the, `, breakout, time'—the, time, needed, to, make, one, bomb, ’s, worth, of, highly, enriched, uranium, —, at, just, one, month, ., Mr, Albright, ’s, book, is, one, of, the, most, detailed, accounts, of, the, Iranian, programme, ,, drawing, on, years, of, inspections, by, the, International, Atomic, Energy, Agency, and, a, trove, of, Iranian, documents, obtained, by, Israeli, intelligence, ., Another, problem, is, that, the, credibility, of, American, diplomacy, has, been, damaged, by, Donald, Trump, ’s, repudiation, of, the, nuclear, deal, ., His, successor, ,, Joe, Biden, ,, is, trying, to, revive, it, but, Iran, does, n’t, seem, to, be, interested, ., Robert, Malley, ,, America, 's, special, envoy, on, Iran, ,, discusses, the, impasse, in, a, recent, interview, ., Iran, claims, it, seeks, nuclear, energy, only, for, civilian, purposes, ., The, trouble, is, that, the, technology, used, to, make, low, -, enriched, uranium, fuel, for, nuclear, power, stations, is, also, used, to, make, highly, -, enriched, uranium, for, weapons, ., Whatever, its, ultimate, aim, ,, Iran, ’s, regime, attaches, great, national, pride, to, its, mastery, of, nuclear, technology, :, “, our, moon, shot, ”, is, how, one, Iranian, official, put, it, ,, according, to, “, The, Back, Channel, ”, ,, a, memoir, by, William, Burns, ,, the, head, of, the, CIA, who, ,, as, a, diplomat, ,, helped, negotiate, the, nuclear, deal, .]\n"
     ]
    }
   ],
   "source": [
    "# word tokenization using spaCy\n",
    "docEE = nlp(EE1) \n",
    "# This simple step creates a Doc object which has lot of information, some of which we will use subsequently \n",
    "print([token for token in docEE])"
   ]
  },
  {
   "cell_type": "code",
   "execution_count": 7,
   "metadata": {
    "scrolled": false,
    "slideshow": {
     "slide_type": "subslide"
    }
   },
   "outputs": [
    {
     "data": {
      "text/plain": [
       "['An alarming problem looms once more: Iran is rapidly advancing its nuclear programme; Israel is threatening military action against it; and America is seeking a diplomatic solution.',\n",
       " 'Anton La Guardia, The Economist’s diplomatic editor, wrote about the international crisis this poses.',\n",
       " 'Al-Monitor, a publication that covers the Middle East, has been monitoring the negotiations to revive a nuclear deal from 2015.',\n",
       " \"It makes for a fiendish dilemma that the former French president, Nicolas Sarkozy, encapsulated thus: `an Iranian bomb or the bombing of Iran'.\",\n",
       " \"Iran doesn't yet have a nuclear weapon.\",\n",
       " 'But the situation is in many ways worse than in the past.',\n",
       " 'The country is closer than ever to being able to make a nuke.',\n",
       " \"One expert, David Albright, puts the `breakout time'—the time needed to make one bomb’s worth of highly enriched uranium—at just one month.\",\n",
       " 'Mr Albright’s book is one of the most detailed accounts of the Iranian programme, drawing on years of inspections by the International Atomic Energy Agency and a trove of Iranian documents obtained by Israeli intelligence.',\n",
       " 'Another problem is that the credibility of American diplomacy has been damaged by Donald Trump’s repudiation of the nuclear deal.',\n",
       " 'His successor, Joe Biden, is trying to revive it but Iran doesn’t seem to be interested.',\n",
       " \"Robert Malley, America's special envoy on Iran, discusses the impasse in a recent interview.\",\n",
       " 'Iran claims it seeks nuclear energy only for civilian purposes.',\n",
       " 'The trouble is that the technology used to make low-enriched uranium fuel for nuclear power stations is also used to make highly-enriched uranium for weapons.',\n",
       " 'Whatever its ultimate aim, Iran’s regime attaches great national pride to its mastery of nuclear technology: “our moon shot” is how one Iranian official put it, according to “The Back Channel”, a memoir by William Burns, the head of the CIA who, as a diplomat, helped negotiate the nuclear deal.']"
      ]
     },
     "execution_count": 7,
     "metadata": {},
     "output_type": "execute_result"
    }
   ],
   "source": [
    "# Sentence tokenization using nltk\n",
    "nltk.sent_tokenize(EE1)"
   ]
  },
  {
   "cell_type": "code",
   "execution_count": 8,
   "metadata": {
    "slideshow": {
     "slide_type": "subslide"
    }
   },
   "outputs": [
    {
     "data": {
      "text/plain": [
       "[An alarming problem looms once more: Iran is rapidly advancing its nuclear programme; Israel is threatening military action against it; and America is seeking a diplomatic solution.,\n",
       " Anton La Guardia, The Economist’s diplomatic editor, wrote about the international crisis this poses.,\n",
       " Al-Monitor, a publication that covers the Middle East, has been monitoring the negotiations to revive a nuclear deal from 2015.,\n",
       " It makes for a fiendish dilemma that the former French president, Nicolas Sarkozy, encapsulated thus: `an Iranian bomb or the bombing of Iran'.,\n",
       " Iran doesn't yet have a nuclear weapon.,\n",
       " But the situation is in many ways worse than in the past.,\n",
       " The country is closer than ever to being able to make a nuke.,\n",
       " One expert, David Albright, puts the `breakout time'—the time needed to make one bomb’s worth of highly enriched uranium—at just one month.,\n",
       " Mr Albright’s book is one of the most detailed accounts of the Iranian programme, drawing on years of inspections by the International Atomic Energy Agency and a trove of Iranian documents obtained by Israeli intelligence.,\n",
       " Another problem is that the credibility of American diplomacy has been damaged by Donald Trump’s repudiation of the nuclear deal.,\n",
       " His successor, Joe Biden, is trying to revive it,\n",
       " but Iran doesn’t seem to be interested.,\n",
       " Robert Malley, America's special envoy on Iran, discusses the impasse in a recent interview.,\n",
       " Iran claims it seeks nuclear energy only for civilian purposes.,\n",
       " The trouble is that the technology used to make low-enriched uranium fuel for nuclear power stations is also used to make highly-enriched uranium for weapons.,\n",
       " Whatever its ultimate aim, Iran’s regime attaches great national pride to its mastery of nuclear technology: “our moon shot” is how one Iranian official put it, according to “The Back Channel”, a memoir by William Burns, the head of the CIA who, as a diplomat, helped negotiate the nuclear deal.]"
      ]
     },
     "execution_count": 8,
     "metadata": {},
     "output_type": "execute_result"
    }
   ],
   "source": [
    "# Sentence tokenization using spaCy\n",
    "[x for x in docEE.sents]"
   ]
  },
  {
   "cell_type": "code",
   "execution_count": 9,
   "metadata": {
    "slideshow": {
     "slide_type": "subslide"
    }
   },
   "outputs": [
    {
     "name": "stdout",
     "output_type": "stream",
     "text": [
      "['F.D.A.', 'Panel Recommends Booster for Many Moderna Vaccine Recipients.', 'Those eligible for the extra shot would include adults over 65 and others at high risk — the same groups now eligible for a Pfizer-BioNTech boost.', 'By Sharon LaFraniere and Noah Weiland, Oct. 14, 2021']\n",
      "\n",
      "[F.D.A. Panel Recommends Booster for Many Moderna Vaccine Recipients., Those eligible for the extra shot would include adults over 65 and others at high risk — the same groups now eligible for a Pfizer-BioNTech boost., By Sharon LaFraniere and Noah Weiland, Oct. 14, 2021]\n"
     ]
    }
   ],
   "source": [
    "# Sentence tokenization: Further example\n",
    "# With the NYT headline example, the nltk model thinks F.D.A. is a sentence of its own!\n",
    "# This example is NOT to be used to conclude one toolkit's superiority over other. \n",
    "# More rigorous/exhaustive experiments are needed for that, and each excels for some or other tasks.\n",
    "# The only point I want to make with this example is the potential limitations in general of these black-box tools!\n",
    "\n",
    "print(nltk.sent_tokenize(NYT_Headline)) # nltk \n",
    "print()\n",
    "docNYT = nlp(NYT_Headline) # spaCy \n",
    "print([x for x in docNYT.sents])"
   ]
  },
  {
   "cell_type": "markdown",
   "metadata": {
    "slideshow": {
     "slide_type": "slide"
    }
   },
   "source": [
    "> <b>Normalization:</b> Map text to a canonical representation. \n",
    "> - Examples:\n",
    ">    * b4, Before, befor, before\n",
    ">    * US, U.S.A., USA, United States, United States of America, ...    \n",
    ">    * 5th of November, 5 Nov., November 5, ...\n",
    ">    * synonyms: Pfizer–BioNTech COVID-19 vaccine, Comirnaty, BNT162b2, ... \n"
   ]
  },
  {
   "cell_type": "markdown",
   "metadata": {
    "slideshow": {
     "slide_type": "subslide"
    }
   },
   "source": [
    "> <b>Normalization:</b> Map text to a canonical representation. \n",
    "> - Some standard tools: \n",
    ">    * <b>Stemming:</b> usually refers to a crude heuristic process that chops off the ends of words in the hope of achieving this goal correctly most of the time, and often includes the removal of derivational affixes. \n",
    ">    * <b>Lemmatization:</b> usually refers to doing things properly with the use of a vocabulary and morphological analysis of words, normally aiming to remove inflectional endings only and to return the base or dictionary form of a word, which is known as the lemma.\n",
    ">        * Definitions from <a href=\"https://nlp.stanford.edu/IR-book/html/htmledition/stemming-and-lemmatization-1.html\">Introduction to Information Retrieval\n",
    " by Manning et al.</a> "
   ]
  },
  {
   "cell_type": "code",
   "execution_count": 10,
   "metadata": {
    "slideshow": {
     "slide_type": "subslide"
    }
   },
   "outputs": [],
   "source": [
    "# Stemming and Lemmatization example with a list of words\n",
    "input_list = \"resting restful restless being is was am goodness goods\"\n",
    "words_list = input_list.lower().split(' ')"
   ]
  },
  {
   "cell_type": "code",
   "execution_count": 11,
   "metadata": {
    "slideshow": {
     "slide_type": "subslide"
    }
   },
   "outputs": [
    {
     "name": "stdout",
     "output_type": "stream",
     "text": [
      "NLTK PorterStemmer ['rest', 'rest', 'restless', 'be', 'is', 'wa', 'am', 'good', 'good']\n",
      "NLTK SnowStemmer ['rest', 'rest', 'restless', 'be', 'is', 'was', 'am', 'good', 'good']\n"
     ]
    }
   ],
   "source": [
    "# nltk includes multiple stemming algorithms, e.g., Porter, Snowball, ...\n",
    "## see more at https://www.nltk.org/api/nltk.stem.html\n",
    "porter = nltk.PorterStemmer()\n",
    "print(\"NLTK PorterStemmer\", [porter.stem(t) for t in words_list])\n",
    "##\n",
    "snowball = nltk.SnowballStemmer(\"english\")\n",
    "print(\"NLTK SnowStemmer\", [snowball.stem(t) for t in words_list])"
   ]
  },
  {
   "cell_type": "code",
   "execution_count": 12,
   "metadata": {
    "slideshow": {
     "slide_type": "fragment"
    }
   },
   "outputs": [
    {
     "name": "stdout",
     "output_type": "stream",
     "text": [
      "NLTK Wordnet Lemmatizer ['resting', 'restful', 'restless', 'being', 'is', 'wa', 'am', 'goodness', 'good']\n"
     ]
    }
   ],
   "source": [
    "# Wordnet based lemmatizer in nltk\n",
    "WNlemma = nltk.WordNetLemmatizer()\n",
    "print(\"NLTK Wordnet Lemmatizer\", [WNlemma.lemmatize(x) for x in words_list])"
   ]
  },
  {
   "cell_type": "code",
   "execution_count": 13,
   "metadata": {
    "slideshow": {
     "slide_type": "subslide"
    }
   },
   "outputs": [
    {
     "name": "stdout",
     "output_type": "stream",
     "text": [
      "[(10960894369163974213, 'rest'), (12859622076218287646, 'restful'), (15810880026682126118, 'restless'), (3899131925553995529, 'being'), (10382539506755952630, 'be'), (10382539506755952630, 'be'), (10382539506755952630, 'be'), (13871556783787251893, 'goodness'), (5711639017775284443, 'good')]\n"
     ]
    }
   ],
   "source": [
    "# spaCy also returns hash of a lemma if you want e.g., convenient for aggregating, Map-Reduce, etc)\n",
    "list_variations=nlp(input_list)\n",
    "print([(x.lemma, x.lemma_) for x in list_variations])"
   ]
  },
  {
   "cell_type": "markdown",
   "metadata": {
    "slideshow": {
     "slide_type": "slide"
    }
   },
   "source": [
    "<b>Ungraded task 6.1:</b> Write a function which takes as input text, and returns a list of lemmatized tokens with stopwords and punctuations filtered out. \n",
    "\n",
    "Example output: ['alarming', 'problem', 'loom', 'Iran', ...]"
   ]
  },
  {
   "cell_type": "markdown",
   "metadata": {
    "slideshow": {
     "slide_type": "slide"
    }
   },
   "source": [
    "### Making sense of sentence structure: Part-of-speech (POS) tagging\n",
    "\n",
    "> Note: Need to be careful about which kinds of normalizations are carried out in earlier stages, since some of those have destructive effects on the semantics essential for making sense of the sentence, e.g., US versus us.\n",
    "\n",
    "\n",
    "> May need to detect/determine the language before this step (since the grammar rules are language dependent)."
   ]
  },
  {
   "cell_type": "code",
   "execution_count": 14,
   "metadata": {
    "slideshow": {
     "slide_type": "subslide"
    }
   },
   "outputs": [
    {
     "name": "stdout",
     "output_type": "stream",
     "text": [
      "F.D.A. Panel Recommends Booster for Many Moderna Vaccine Recipients. Those eligible for the extra shot would include adults over 65 and others at high risk — the same groups now eligible for a Pfizer-BioNTech boost. By Sharon LaFraniere and Noah Weiland, Oct. 14, 2021\n",
      "\n",
      "[('F.D.A', 'NNP'), ('.', '.'), ('Panel', 'NNP'), ('Recommends', 'VBZ'), ('Booster', 'NNP'), ('for', 'IN'), ('Many', 'NNP'), ('Moderna', 'NNP'), ('Vaccine', 'NNP'), ('Recipients', 'NNP'), ('.', '.'), ('Those', 'DT'), ('eligible', 'JJ'), ('for', 'IN'), ('the', 'DT'), ('extra', 'JJ'), ('shot', 'NN'), ('would', 'MD'), ('include', 'VB'), ('adults', 'NNS'), ('over', 'IN'), ('65', 'CD'), ('and', 'CC'), ('others', 'NNS'), ('at', 'IN'), ('high', 'JJ'), ('risk', 'NN'), ('—', 'VBP'), ('the', 'DT'), ('same', 'JJ'), ('groups', 'NNS'), ('now', 'RB'), ('eligible', 'VBP'), ('for', 'IN'), ('a', 'DT'), ('Pfizer-BioNTech', 'JJ'), ('boost', 'NN'), ('.', '.'), ('By', 'IN'), ('Sharon', 'NNP'), ('LaFraniere', 'NNP'), ('and', 'CC'), ('Noah', 'NNP'), ('Weiland', 'NNP'), (',', ','), ('Oct.', 'NNP'), ('14', 'CD'), (',', ','), ('2021', 'CD')]\n"
     ]
    }
   ],
   "source": [
    "print(NYT_Headline +\"\\n\")\n",
    "NYT_postags=nltk.pos_tag(nltk.word_tokenize(NYT_Headline))\n",
    "print(NYT_postags)"
   ]
  },
  {
   "cell_type": "code",
   "execution_count": 15,
   "metadata": {
    "slideshow": {
     "slide_type": "subslide"
    }
   },
   "outputs": [
    {
     "name": "stdout",
     "output_type": "stream",
     "text": [
      "NNP: noun, proper, singular\n",
      "    Motown Venneboerger Czestochwa Ranzer Conchita Trumplane Christos\n",
      "    Oceanside Escobar Kreisler Sawyer Cougar Yvette Ervin ODI Darryl CTCA\n",
      "    Shannon A.K.C. Meltex Liverpool ...\n"
     ]
    }
   ],
   "source": [
    "nltk.help.upenn_tagset(NYT_postags[0][1])\n",
    "# For full list, use nltk.help.upenn_tagset()"
   ]
  },
  {
   "cell_type": "code",
   "execution_count": 16,
   "metadata": {
    "scrolled": true,
    "slideshow": {
     "slide_type": "subslide"
    }
   },
   "outputs": [
    {
     "data": {
      "text/plain": [
       "[('F.D.A.', 'F.D.A.', 'PROPN', 'NNP'),\n",
       " ('Panel', 'Panel', 'PROPN', 'NNP'),\n",
       " ('Recommends', 'recommend', 'VERB', 'VBZ'),\n",
       " ('Booster', 'Booster', 'PROPN', 'NNP'),\n",
       " ('for', 'for', 'ADP', 'IN'),\n",
       " ('Many', 'many', 'ADJ', 'JJ'),\n",
       " ('Moderna', 'Moderna', 'PROPN', 'NNP'),\n",
       " ('Vaccine', 'Vaccine', 'PROPN', 'NNP'),\n",
       " ('Recipients', 'Recipients', 'PROPN', 'NNP'),\n",
       " ('.', '.', 'PUNCT', '.'),\n",
       " ('Those', 'those', 'DET', 'DT'),\n",
       " ('eligible', 'eligible', 'ADJ', 'JJ'),\n",
       " ('for', 'for', 'ADP', 'IN'),\n",
       " ('the', 'the', 'DET', 'DT'),\n",
       " ('extra', 'extra', 'ADJ', 'JJ'),\n",
       " ('shot', 'shot', 'NOUN', 'NN'),\n",
       " ('would', 'would', 'AUX', 'MD'),\n",
       " ('include', 'include', 'VERB', 'VB'),\n",
       " ('adults', 'adult', 'NOUN', 'NNS'),\n",
       " ('over', 'over', 'ADP', 'IN'),\n",
       " ('65', '65', 'NUM', 'CD'),\n",
       " ('and', 'and', 'CCONJ', 'CC'),\n",
       " ('others', 'other', 'NOUN', 'NNS'),\n",
       " ('at', 'at', 'ADP', 'IN'),\n",
       " ('high', 'high', 'ADJ', 'JJ'),\n",
       " ('risk', 'risk', 'NOUN', 'NN'),\n",
       " ('—', '—', 'PUNCT', ':'),\n",
       " ('the', 'the', 'DET', 'DT'),\n",
       " ('same', 'same', 'ADJ', 'JJ'),\n",
       " ('groups', 'group', 'NOUN', 'NNS'),\n",
       " ('now', 'now', 'ADV', 'RB'),\n",
       " ('eligible', 'eligible', 'ADJ', 'JJ'),\n",
       " ('for', 'for', 'ADP', 'IN'),\n",
       " ('a', 'a', 'DET', 'DT'),\n",
       " ('Pfizer', 'Pfizer', 'PROPN', 'NNP'),\n",
       " ('-', '-', 'PUNCT', 'HYPH'),\n",
       " ('BioNTech', 'BioNTech', 'PROPN', 'NNP'),\n",
       " ('boost', 'boost', 'NOUN', 'NN'),\n",
       " ('.', '.', 'PUNCT', '.'),\n",
       " ('By', 'by', 'ADP', 'IN'),\n",
       " ('Sharon', 'Sharon', 'PROPN', 'NNP'),\n",
       " ('LaFraniere', 'LaFraniere', 'PROPN', 'NNP'),\n",
       " ('and', 'and', 'CCONJ', 'CC'),\n",
       " ('Noah', 'Noah', 'PROPN', 'NNP'),\n",
       " ('Weiland', 'Weiland', 'PROPN', 'NNP'),\n",
       " (',', ',', 'PUNCT', ','),\n",
       " ('Oct.', 'Oct.', 'PROPN', 'NNP'),\n",
       " ('14', '14', 'NUM', 'CD'),\n",
       " (',', ',', 'PUNCT', ','),\n",
       " ('2021', '2021', 'NUM', 'CD')]"
      ]
     },
     "execution_count": 16,
     "metadata": {},
     "output_type": "execute_result"
    }
   ],
   "source": [
    "# with spaCy\n",
    "[(token.text, token.lemma_, token.pos_, token.tag_) for token in docNYT]"
   ]
  },
  {
   "cell_type": "markdown",
   "metadata": {
    "slideshow": {
     "slide_type": "slide"
    }
   },
   "source": [
    "### Caution: Ambiguities"
   ]
  },
  {
   "cell_type": "code",
   "execution_count": 17,
   "metadata": {
    "slideshow": {
     "slide_type": "subslide"
    }
   },
   "outputs": [
    {
     "name": "stdout",
     "output_type": "stream",
     "text": [
      "nltk: No verb!\n",
      "[('British', 'JJ'), ('Left', 'NNP'), ('Waffles', 'NNP'), ('on', 'IN'), ('Falkland', 'NNP'), ('Islands', 'NNP')]\n",
      "\n",
      "spaCy: The second meaning!\n",
      "[('British', 'NNP'), ('Left', 'VBD'), ('Waffles', 'NNP'), ('on', 'IN'), ('Falkland', 'NNP'), ('Islands', 'NNPS')]\n"
     ]
    }
   ],
   "source": [
    "# POS taggers typically round up the usual suspects (i.e., looks at the most common usage of words)\n",
    "\n",
    "guardian_headline=\"British Left Waffles on Falkland Islands\"\n",
    "# What does it mean?\n",
    "# To waffle: to speak or write at length in a vague or trivial manner, fail to make up one's mind.\n",
    "# The British party of the left rambles indecisively about Falkland Island policy.\n",
    "# The British forces left behind waffles (the pastry) on the Falkland Islands.\n",
    "\n",
    "print('nltk: No verb!')\n",
    "print(nltk.pos_tag(nltk.word_tokenize(guardian_headline)))\n",
    "print()\n",
    "print('spaCy: The second meaning!')\n",
    "docG=nlp(guardian_headline)\n",
    "print([(token.text, token.tag_) for token in docG])\n"
   ]
  },
  {
   "cell_type": "markdown",
   "metadata": {
    "slideshow": {
     "slide_type": "slide"
    }
   },
   "source": [
    "# <span style=\"color:olivedrab\">Classification & topic modeling<span>"
   ]
  },
  {
   "cell_type": "markdown",
   "metadata": {
    "slideshow": {
     "slide_type": "fragment"
    }
   },
   "source": [
    "### Classification and topic modeling \n",
    "\n",
    "> Features \n",
    "> - words, word sequences, numbers, dates, which normalizations to do/not do, capitalization, POS, grammatical structure \n",
    ">\n",
    "> See <a href=\"https://archive.ics.uci.edu/ml/machine-learning-databases/spambase/\">an example of features used for spam detection</a> \n"
   ]
  },
  {
   "cell_type": "markdown",
   "metadata": {
    "slideshow": {
     "slide_type": "subslide"
    }
   },
   "source": [
    "#### Classification/Sentiment Analysis\n",
    "\n",
    "> We will use an IMDB reviews dataset from Kaggle for exploring a simple (only two classes, using balanced data) example of classification\n",
    "> https://www.kaggle.com/lakshmi25npathi/imdb-dataset-of-50k-movie-reviews"
   ]
  },
  {
   "cell_type": "code",
   "execution_count": 18,
   "metadata": {
    "slideshow": {
     "slide_type": "subslide"
    }
   },
   "outputs": [
    {
     "name": "stdout",
     "output_type": "stream",
     "text": [
      "positive    25000\n",
      "negative    25000\n",
      "Name: sentiment, dtype: int64\n",
      "                                                  review  sentiment\n",
      "8134   That's the worst film I saw since a long time....          0\n",
      "5960   I remember this bomb coming out in the early 8...          0\n",
      "19706  Okay, I'll admit it--I am a goof-ball and I oc...          1\n",
      "12826  This film lingered and lingered at a small mov...          1\n",
      "39656  Two things haunt you throughout L'intrus (The ...          1\n"
     ]
    }
   ],
   "source": [
    "import pandas as pd\n",
    "import numpy as np\n",
    "imdb_df = pd.read_csv('data/IMDBPolarDataset.csv')\n",
    "# Data from https://www.kaggle.com/lakshmi25npathi/imdb-dataset-of-50k-movie-reviews\n",
    "print(imdb_df['sentiment'].value_counts())\n",
    "#print()\n",
    "#print(imdb_df.sample(3))\n",
    "#print()\n",
    "imdb_df['sentiment'] = np.where(imdb_df['sentiment'] == 'positive', 1, 0)\n",
    "print(imdb_df.sample(5))\n",
    "imdb_df=imdb_df.sample(frac=0.2, random_state=0)  \n",
    "# For scalability, it may make sense to use a smaller sample of data for the whole ML pipeline\n",
    "# You may have to experiment with the sample size to find a good balance"
   ]
  },
  {
   "cell_type": "markdown",
   "metadata": {
    "slideshow": {
     "slide_type": "slide"
    }
   },
   "source": [
    "### Train and test  \n",
    "- Cross-validation\n",
    "    * Discussed in greater detail later in the module"
   ]
  },
  {
   "cell_type": "code",
   "execution_count": 19,
   "metadata": {
    "slideshow": {
     "slide_type": "fragment"
    }
   },
   "outputs": [],
   "source": [
    "from sklearn.model_selection import train_test_split\n",
    "\n",
    "# Split data into training and test sets\n",
    "X_train, X_test, y_train, y_test = train_test_split(imdb_df['review'], \n",
    "                                                    imdb_df['sentiment'], \n",
    "                                                    random_state=0,test_size=0.2)"
   ]
  },
  {
   "cell_type": "markdown",
   "metadata": {
    "slideshow": {
     "slide_type": "slide"
    }
   },
   "source": [
    "#### detour: CountVectorizer\n",
    "> Need to represent the information (features) in a manner that the ML algorithm can \"consume\""
   ]
  },
  {
   "cell_type": "code",
   "execution_count": 20,
   "metadata": {
    "slideshow": {
     "slide_type": "subslide"
    }
   },
   "outputs": [
    {
     "name": "stdout",
     "output_type": "stream",
     "text": [
      "['and' 'document' 'first' 'fourth' 'is' 'not' 'one' 'second' 'the' 'this']\n",
      "[[0 1 1 0 1 0 0 0 1 1]\n",
      " [0 2 0 0 1 0 0 1 1 1]\n",
      " [1 0 0 1 1 1 1 0 1 1]\n",
      " [0 1 1 0 1 0 0 0 1 1]]\n",
      "(4, 10)\n"
     ]
    }
   ],
   "source": [
    "# detour \n",
    "## Example code from https://scikit-learn.org/stable/modules/generated/sklearn.feature_extraction.text.CountVectorizer.html\n",
    "\n",
    "from sklearn.feature_extraction.text import CountVectorizer\n",
    "corpus = [\n",
    "    'This is the first document.',\n",
    "    'This document is the second document.',\n",
    "    'And this is not the fourth one.',\n",
    "    'Is this the first document?',\n",
    "]\n",
    "vectorizer = CountVectorizer()\n",
    "X = vectorizer.fit_transform(corpus)\n",
    "print(vectorizer.get_feature_names_out())\n",
    "print(X.toarray())\n",
    "print(X.toarray().shape)"
   ]
  },
  {
   "cell_type": "code",
   "execution_count": 21,
   "metadata": {
    "slideshow": {
     "slide_type": "subslide"
    }
   },
   "outputs": [
    {
     "name": "stdout",
     "output_type": "stream",
     "text": [
      "['document' 'fourth' 'second']\n",
      "[[1 0 0]\n",
      " [2 0 1]\n",
      " [0 1 0]\n",
      " [1 0 0]]\n",
      "(4, 3)\n"
     ]
    }
   ],
   "source": [
    "# if you want to exclude stop words\n",
    "## be careful for what you ask for: e.g., we lost 'not'\n",
    "vectorizerWSW = CountVectorizer(stop_words='english')\n",
    "X_WSW = vectorizerWSW.fit_transform(corpus)\n",
    "print(vectorizerWSW.get_feature_names_out())\n",
    "print(X_WSW.toarray())\n",
    "print(X_WSW.toarray().shape)"
   ]
  },
  {
   "cell_type": "code",
   "execution_count": 22,
   "metadata": {
    "slideshow": {
     "slide_type": "subslide"
    }
   },
   "outputs": [],
   "source": [
    "# if you want to customize your stopwords, you may want to start with the default, and see what you want to add/remove\n",
    "from sklearn.feature_extraction import text \n",
    "#print(sorted(list(text.ENGLISH_STOP_WORDS)))\n",
    "set_to_remove={\"no\",\"nor\",\"not\",\"none\",\"nooooo!\"}\n",
    "new_set=text.ENGLISH_STOP_WORDS - set_to_remove"
   ]
  },
  {
   "cell_type": "code",
   "execution_count": 23,
   "metadata": {
    "slideshow": {
     "slide_type": "subslide"
    }
   },
   "outputs": [
    {
     "name": "stdout",
     "output_type": "stream",
     "text": [
      "['document' 'fourth' 'not' 'second']\n",
      "[[1 0 0 0]\n",
      " [2 0 0 1]\n",
      " [0 1 1 0]\n",
      " [1 0 0 0]]\n",
      "(4, 4)\n"
     ]
    }
   ],
   "source": [
    "## you can provide your own customized list\n",
    "vectorizerWSW = CountVectorizer(stop_words=new_set)\n",
    "X_WSW = vectorizerWSW.fit_transform(corpus)\n",
    "print(vectorizerWSW.get_feature_names_out())\n",
    "print(X_WSW.toarray())\n",
    "print(X_WSW.toarray().shape)"
   ]
  },
  {
   "cell_type": "code",
   "execution_count": 24,
   "metadata": {
    "slideshow": {
     "slide_type": "subslide"
    }
   },
   "outputs": [
    {
     "name": "stdout",
     "output_type": "stream",
     "text": [
      "['document' 'document second' 'fourth' 'not' 'not fourth' 'second'\n",
      " 'second document']\n",
      "[[1 0 0 0 0 0 0]\n",
      " [2 1 0 0 0 1 1]\n",
      " [0 0 1 1 1 0 0]\n",
      " [1 0 0 0 0 0 0]]\n"
     ]
    }
   ],
   "source": [
    "# if you want n-grams\n",
    "vectorizer2 = CountVectorizer(analyzer='word', ngram_range=(1, 2), stop_words=new_set)\n",
    "# you can use 'char' and ‘char_wb’ options for analyzer for character (and respectively, characters restricted to word boundaries) based n-grams\n",
    "X2 = vectorizer2.fit_transform(corpus)\n",
    "print(vectorizer2.get_feature_names_out())\n",
    "print(X2.toarray())"
   ]
  },
  {
   "cell_type": "markdown",
   "metadata": {
    "slideshow": {
     "slide_type": "slide"
    }
   },
   "source": [
    "### Back to the IMDB data"
   ]
  },
  {
   "cell_type": "code",
   "execution_count": 25,
   "metadata": {
    "slideshow": {
     "slide_type": "subslide"
    }
   },
   "outputs": [
    {
     "name": "stdout",
     "output_type": "stream",
     "text": [
      "Number of tokens: 47536\n",
      "Runtime for vectorization fitting for Model 1: 1.4932281970977783 seconds\n",
      "Number of tokens: 660629\n",
      "Runtime for vectorization fitting for Model 2: 7.169947862625122 seconds\n",
      "Number of tokens: 30295\n",
      "Runtime for vectorization fitting for Model 1: 7.134037256240845 seconds\n"
     ]
    }
   ],
   "source": [
    "import time\n",
    "start = time.time()\n",
    "cv = CountVectorizer().fit(X_train)\n",
    "# Other vectorizers are possible, e.g., TF-IDf \n",
    "print(f\"Number of tokens: {len(cv.get_feature_names_out())}\")\n",
    "end = time.time()\n",
    "print(f\"Runtime for vectorization fitting for Model 1: {end - start} seconds\")\n",
    "# Using words and word bi-grams \n",
    "start = time.time()\n",
    "cv2 = CountVectorizer(analyzer='word', ngram_range=(1, 2)).fit(X_train)\n",
    "print(f\"Number of tokens: {len(cv2.get_feature_names_out())}\")\n",
    "end = time.time()\n",
    "print(f\"Runtime for vectorization fitting for Model 2: {end - start} seconds\")\n",
    "# Remove tokens that don't appear in at least 5 reviews, or if it appears in more than 50% of the reviews. \n",
    "# Use upto word tri-grams.\n",
    "start = time.time()\n",
    "cv3 = CountVectorizer(min_df=5, max_df=0.5, ngram_range=(1, 3), stop_words=new_set).fit(X_train)\n",
    "print(f\"Number of tokens: {len(cv3.get_feature_names_out())}\")\n",
    "end = time.time()\n",
    "print(f\"Runtime for vectorization fitting for Model 1: {end - start} seconds\")"
   ]
  },
  {
   "cell_type": "code",
   "execution_count": 26,
   "metadata": {
    "slideshow": {
     "slide_type": "subslide"
    }
   },
   "outputs": [
    {
     "name": "stdout",
     "output_type": "stream",
     "text": [
      "Runtime for transforming training data for Model 1: 2.2858214378356934 seconds\n",
      "Runtime for transforming training data for Model 2: 5.156646728515625 seconds\n",
      "Runtime for transforming training data for Model 3: 3.6959545612335205 seconds\n"
     ]
    }
   ],
   "source": [
    "start = time.time()\n",
    "X_train_vec = cv.transform(X_train)\n",
    "end = time.time()\n",
    "print(f\"Runtime for transforming training data for Model 1: {end - start} seconds\")\n",
    "#\n",
    "start = time.time()\n",
    "X_train_vec2 = cv2.transform(X_train)\n",
    "end = time.time()\n",
    "print(f\"Runtime for transforming training data for Model 2: {end - start} seconds\")\n",
    "#\n",
    "start = time.time()\n",
    "X_train_vec3 = cv3.transform(X_train)\n",
    "end = time.time()\n",
    "print(f\"Runtime for transforming training data for Model 3: {end - start} seconds\")"
   ]
  },
  {
   "cell_type": "markdown",
   "metadata": {
    "slideshow": {
     "slide_type": "slide"
    }
   },
   "source": [
    "#### Detour: Logistic Regression"
   ]
  },
  {
   "cell_type": "code",
   "execution_count": 90,
   "metadata": {
    "slideshow": {
     "slide_type": "fragment"
    }
   },
   "outputs": [
    {
     "name": "stdout",
     "output_type": "stream",
     "text": [
      "Third party content:\n"
     ]
    },
    {
     "data": {
      "text/html": [
       "<iframe width=\"550\" height=\"300\" src=\"https://www.youtube.com/embed/yIYKR4sgzI8\" title=\"Support Vector Machines\" frameborder=\"0\" allow=\"accelerometer; autoplay; clipboard-write; encrypted-media; gyroscope; picture-in-picture\" allowfullscreen></iframe>"
      ],
      "text/plain": [
       "<IPython.core.display.HTML object>"
      ]
     },
     "execution_count": 90,
     "metadata": {},
     "output_type": "execute_result"
    }
   ],
   "source": [
    "from sklearn.linear_model import LogisticRegression \n",
    "print(\"Third party content:\")\n",
    "# The StatQuest channel has many nice, easy to understand at an intuitive level videos. \n",
    "# Check them up for a quick introduction/brush-up of the underlying ideas (without the mathematical details)\n",
    "HTML('<iframe width=\"550\" height=\"300\" src=\"https://www.youtube.com/embed/yIYKR4sgzI8\" title=\"Support Vector Machines\" frameborder=\"0\" allow=\"accelerometer; autoplay; clipboard-write; encrypted-media; gyroscope; picture-in-picture\" allowfullscreen></iframe>')"
   ]
  },
  {
   "cell_type": "code",
   "execution_count": 28,
   "metadata": {
    "slideshow": {
     "slide_type": "subslide"
    }
   },
   "outputs": [
    {
     "name": "stdout",
     "output_type": "stream",
     "text": [
      "Runtime for training Model 1: 9.124244213104248 seconds\n",
      "Runtime for training Model 2: 56.488693714141846 seconds\n",
      "Runtime for training Model 3: 1.4204068183898926 seconds\n"
     ]
    }
   ],
   "source": [
    "# Train the models \n",
    "start = time.time()\n",
    "model1 = LogisticRegression(max_iter=1000)\n",
    "model1.fit(X_train_vec, y_train)\n",
    "end = time.time()\n",
    "print(f\"Runtime for training Model 1: {end - start} seconds\")\n",
    "###\n",
    "start = time.time()\n",
    "model2 = LogisticRegression(max_iter=1000)\n",
    "model2.fit(X_train_vec2, y_train)\n",
    "end = time.time()\n",
    "print(f\"Runtime for training Model 2: {end - start} seconds\")\n",
    "###\n",
    "start = time.time()\n",
    "model3 = LogisticRegression(max_iter=1000)\n",
    "model3.fit(X_train_vec3, y_train)\n",
    "end = time.time()\n",
    "print(f\"Runtime for training Model 3: {end - start} seconds\")"
   ]
  },
  {
   "cell_type": "markdown",
   "metadata": {
    "slideshow": {
     "slide_type": "subslide"
    }
   },
   "source": [
    "#### Detour: Accuracy, Confusion Matrix and ROC/AUC"
   ]
  },
  {
   "cell_type": "code",
   "execution_count": 91,
   "metadata": {
    "slideshow": {
     "slide_type": "fragment"
    }
   },
   "outputs": [
    {
     "name": "stdout",
     "output_type": "stream",
     "text": [
      "Third party content on : AUC (Area Under The Curve) / ROC (Receiver Operating Characteristics)\n"
     ]
    },
    {
     "data": {
      "text/html": [
       "<iframe width=\"550\" height=\"300\" src=\"https://www.youtube.com/embed/4jRBRDbJemM\" title=\"ROC/AUC\" frameborder=\"0\" allow=\"accelerometer; autoplay; clipboard-write; encrypted-media; gyroscope; picture-in-picture\" allowfullscreen></iframe>"
      ],
      "text/plain": [
       "<IPython.core.display.HTML object>"
      ]
     },
     "execution_count": 91,
     "metadata": {},
     "output_type": "execute_result"
    }
   ],
   "source": [
    "print(\"Third party content on : AUC (Area Under The Curve) / ROC (Receiver Operating Characteristics)\")\n",
    "HTML('<iframe width=\"550\" height=\"300\" src=\"https://www.youtube.com/embed/4jRBRDbJemM\" title=\"ROC/AUC\" frameborder=\"0\" allow=\"accelerometer; autoplay; clipboard-write; encrypted-media; gyroscope; picture-in-picture\" allowfullscreen></iframe>')"
   ]
  },
  {
   "cell_type": "code",
   "execution_count": 30,
   "metadata": {
    "slideshow": {
     "slide_type": "subslide"
    }
   },
   "outputs": [],
   "source": [
    "from sklearn.metrics import accuracy_score\n",
    "from sklearn.metrics import roc_auc_score\n",
    "from sklearn.metrics import confusion_matrix \n",
    "from sklearn.metrics import ConfusionMatrixDisplay\n",
    "from sklearn.metrics import f1_score\n",
    "import matplotlib as mpl \n",
    "#import matplotlib.cm as cm \n",
    "import matplotlib.pyplot as plt \n",
    "#import itertools"
   ]
  },
  {
   "cell_type": "code",
   "execution_count": 31,
   "metadata": {
    "scrolled": true,
    "slideshow": {
     "slide_type": "subslide"
    }
   },
   "outputs": [
    {
     "name": "stdout",
     "output_type": "stream",
     "text": [
      "AUC (model with words):  0.8600351134074928\n",
      "Accuracy (model with words):  0.859\n",
      "Runtime for predicting with Model 1: 0.661902904510498 seconds\n"
     ]
    },
    {
     "data": {
      "text/plain": [
       "<sklearn.metrics._plot.confusion_matrix.ConfusionMatrixDisplay at 0x235ea5c1fd0>"
      ]
     },
     "execution_count": 31,
     "metadata": {},
     "output_type": "execute_result"
    },
    {
     "data": {
      "image/png": "[encoded data removed]",
      "text/plain": [
       "<Figure size 432x288 with 2 Axes>"
      ]
     },
     "metadata": {
      "needs_background": "light"
     },
     "output_type": "display_data"
    }
   ],
   "source": [
    "# Predict the transformed test documents\n",
    "start = time.time()\n",
    "predictions1 = model1.predict(cv.transform(X_test))\n",
    "print('AUC (model with words): ', roc_auc_score(y_test, predictions1))\n",
    "print(\"Accuracy (model with words): \", accuracy_score(y_test, predictions1))\n",
    "end = time.time()\n",
    "print(f\"Runtime for predicting with Model 1: {end - start} seconds\")\n",
    "ConfusionMatrixDisplay.from_predictions(y_test,predictions1,normalize=\"true\",cmap=plt.cm.Blues)\n",
    "# Absolute numbers can be used by removing attribute normalize=\"true\""
   ]
  },
  {
   "cell_type": "code",
   "execution_count": 32,
   "metadata": {},
   "outputs": [
    {
     "data": {
      "text/plain": [
       "<sklearn.metrics._plot.confusion_matrix.ConfusionMatrixDisplay at 0x235ef6b6220>"
      ]
     },
     "execution_count": 32,
     "metadata": {},
     "output_type": "execute_result"
    },
    {
     "data": {
      "image/png": "[encoded data removed]",
      "text/plain": [
       "<Figure size 288x288 with 2 Axes>"
      ]
     },
     "metadata": {
      "needs_background": "light"
     },
     "output_type": "display_data"
    }
   ],
   "source": [
    "# Alternative: Plotting using a precomputed confusion matrix\n",
    "cm = confusion_matrix(y_test, predictions1, labels=model1.classes_) \n",
    "# confusion_matrix can also use attribute normalize=\"true\"\n",
    "fig, ax = plt.subplots(figsize=(4,4))\n",
    "ConfusionMatrixDisplay(confusion_matrix=cm,display_labels=model1.classes_).plot(cmap=plt.cm.Blues,ax=ax) "
   ]
  },
  {
   "cell_type": "code",
   "execution_count": 33,
   "metadata": {
    "slideshow": {
     "slide_type": "subslide"
    }
   },
   "outputs": [
    {
     "name": "stdout",
     "output_type": "stream",
     "text": [
      "AUC (with word bigrams):  0.8801952770163418\n",
      "Accuracy (with word bigrams):  0.8795\n",
      "Runtime for predicting with Model 2: 2.022491455078125 seconds\n"
     ]
    },
    {
     "data": {
      "text/plain": [
       "<sklearn.metrics._plot.confusion_matrix.ConfusionMatrixDisplay at 0x235ec422fd0>"
      ]
     },
     "execution_count": 33,
     "metadata": {},
     "output_type": "execute_result"
    },
    {
     "data": {
      "image/png": "[encoded data removed]",
      "text/plain": [
       "<Figure size 432x288 with 2 Axes>"
      ]
     },
     "metadata": {
      "needs_background": "light"
     },
     "output_type": "display_data"
    }
   ],
   "source": [
    "# Using model 2 (words and word bi-grams)\n",
    "start = time.time()\n",
    "predictions2 = model2.predict(cv2.transform(X_test))\n",
    "print('AUC (with word bigrams): ', roc_auc_score(y_test, predictions2))\n",
    "print(\"Accuracy (with word bigrams): \", accuracy_score(y_test, predictions2))\n",
    "end = time.time()\n",
    "print(f\"Runtime for predicting with Model 2: {end - start} seconds\")\n",
    "ConfusionMatrixDisplay.from_predictions(y_test,predictions2,normalize=\"true\",cmap=plt.cm.Blues)"
   ]
  },
  {
   "cell_type": "code",
   "execution_count": 34,
   "metadata": {
    "slideshow": {
     "slide_type": "subslide"
    }
   },
   "outputs": [
    {
     "name": "stdout",
     "output_type": "stream",
     "text": [
      "AUC (with filtering and upto trigrams):  0.8735486675233028\n",
      "Accuracy (with filtering and upto trigrams):  0.873\n",
      "Runtime for predicting with Model 3: 1.1680829524993896 seconds\n"
     ]
    },
    {
     "data": {
      "text/plain": [
       "<sklearn.metrics._plot.confusion_matrix.ConfusionMatrixDisplay at 0x235e59a2760>"
      ]
     },
     "execution_count": 34,
     "metadata": {},
     "output_type": "execute_result"
    },
    {
     "data": {
      "image/png": "[encoded data removed]",
      "text/plain": [
       "<Figure size 432x288 with 2 Axes>"
      ]
     },
     "metadata": {
      "needs_background": "light"
     },
     "output_type": "display_data"
    }
   ],
   "source": [
    "### Using words bi/tri-grams and frequency based filtering \n",
    "start = time.time()\n",
    "predictions3 = model3.predict(cv3.transform(X_test))\n",
    "print('AUC (with filtering and upto trigrams): ', roc_auc_score(y_test, predictions3))\n",
    "print(\"Accuracy (with filtering and upto trigrams): \", accuracy_score(y_test, predictions3))\n",
    "end = time.time()\n",
    "print(f\"Runtime for predicting with Model 3: {end - start} seconds\")\n",
    "ConfusionMatrixDisplay.from_predictions(y_test,predictions3,normalize=\"true\",cmap=plt.cm.Blues)"
   ]
  },
  {
   "cell_type": "markdown",
   "metadata": {
    "slideshow": {
     "slide_type": "slide"
    }
   },
   "source": [
    "#### Some other popular/baseline models for text classification"
   ]
  },
  {
   "cell_type": "code",
   "execution_count": 92,
   "metadata": {
    "slideshow": {
     "slide_type": "fragment"
    }
   },
   "outputs": [
    {
     "name": "stdout",
     "output_type": "stream",
     "text": [
      "Third party content:\n"
     ]
    },
    {
     "data": {
      "text/html": [
       "<iframe width=\"550\" height=\"300\" src=\"https://www.youtube.com/embed/O2L2Uv9pdDA\" title=\"Naive Mayes\" frameborder=\"0\" allow=\"accelerometer; autoplay; clipboard-write; encrypted-media; gyroscope; picture-in-picture\" allowfullscreen></iframe>"
      ],
      "text/plain": [
       "<IPython.core.display.HTML object>"
      ]
     },
     "execution_count": 92,
     "metadata": {},
     "output_type": "execute_result"
    }
   ],
   "source": [
    "# from nltk.classify import SklearnClassifier\n",
    "from sklearn.naive_bayes import MultinomialNB\n",
    "print(\"Third party content:\")\n",
    "HTML('<iframe width=\"550\" height=\"300\" src=\"https://www.youtube.com/embed/O2L2Uv9pdDA\" title=\"Naive Mayes\" frameborder=\"0\" allow=\"accelerometer; autoplay; clipboard-write; encrypted-media; gyroscope; picture-in-picture\" allowfullscreen></iframe>')"
   ]
  },
  {
   "cell_type": "code",
   "execution_count": 36,
   "metadata": {
    "slideshow": {
     "slide_type": "subslide"
    }
   },
   "outputs": [
    {
     "name": "stdout",
     "output_type": "stream",
     "text": [
      "Third party content:\n"
     ]
    },
    {
     "data": {
      "text/html": [
       "<iframe width=\"550\" height=\"300\" src=\"https://www.youtube.com/embed/efR1C6CvhmE\" title=\"Support Vector Machines\" frameborder=\"0\" allow=\"accelerometer; autoplay; clipboard-write; encrypted-media; gyroscope; picture-in-picture\" allowfullscreen></iframe>"
      ],
      "text/plain": [
       "<IPython.core.display.HTML object>"
      ]
     },
     "execution_count": 36,
     "metadata": {},
     "output_type": "execute_result"
    }
   ],
   "source": [
    "from sklearn.svm import SVC\n",
    "# The following YouTube video on Suppor Verctor Machines provides a very nice high level overview\n",
    "# Even if you are familiar with SVM/SVC, you may gain some nice perspectives \n",
    "# The presenter has a sense of humor (Bam!) which is a bit weird, but as long as you like/ignore it, the technical coverage for the intuitions is nice.\n",
    "print(\"Third party content:\")\n",
    "HTML('<iframe width=\"550\" height=\"300\" src=\"https://www.youtube.com/embed/efR1C6CvhmE\" title=\"Support Vector Machines\" frameborder=\"0\" allow=\"accelerometer; autoplay; clipboard-write; encrypted-media; gyroscope; picture-in-picture\" allowfullscreen></iframe>')"
   ]
  },
  {
   "cell_type": "code",
   "execution_count": 37,
   "metadata": {
    "slideshow": {
     "slide_type": "subslide"
    }
   },
   "outputs": [
    {
     "name": "stdout",
     "output_type": "stream",
     "text": [
      "Runtime for fitting NB: 0.014167547225952148 seconds\n",
      "AUC (Naive):  0.8308722567024445\n",
      "Runtime for predicting with NB: 0.8845677375793457 seconds\n"
     ]
    }
   ],
   "source": [
    "start = time.time()\n",
    "modelNB = MultinomialNB().fit(X_train_vec,y_train)\n",
    "end = time.time()\n",
    "print(f\"Runtime for fitting NB: {end - start} seconds\")\n",
    "#\n",
    "start = time.time()\n",
    "predictionsNB = modelNB.predict(cv.transform(X_test))\n",
    "print('AUC (Naive): ', roc_auc_score(y_test, predictionsNB))\n",
    "end = time.time()\n",
    "print(f\"Runtime for predicting with NB: {end - start} seconds\")\n"
   ]
  },
  {
   "cell_type": "code",
   "execution_count": 38,
   "metadata": {
    "slideshow": {
     "slide_type": "subslide"
    }
   },
   "outputs": [
    {
     "name": "stdout",
     "output_type": "stream",
     "text": [
      "Runtime for fitting NB: 0.025911569595336914 seconds\n",
      "AUC (Naive):  0.8501495775073887\n",
      "Runtime for predicting with NB: 1.344125509262085 seconds\n"
     ]
    }
   ],
   "source": [
    "start = time.time()\n",
    "modelNB = MultinomialNB().fit(X_train_vec3,y_train)\n",
    "end = time.time()\n",
    "print(f\"Runtime for fitting NB: {end - start} seconds\")\n",
    "start = time.time()\n",
    "predictionsNB = modelNB.predict(cv3.transform(X_test))\n",
    "print('AUC (Naive): ', roc_auc_score(y_test, predictionsNB))\n",
    "end = time.time()\n",
    "print(f\"Runtime for predicting with NB: {end - start} seconds\")"
   ]
  },
  {
   "cell_type": "code",
   "execution_count": 39,
   "metadata": {
    "slideshow": {
     "slide_type": "subslide"
    }
   },
   "outputs": [
    {
     "name": "stdout",
     "output_type": "stream",
     "text": [
      "Runtime for fitting SVC: 48.139628410339355 seconds\n",
      "AUC (SVC):  0.8429310982003627\n",
      "Runtime for predicting with SVC: 9.894097089767456 seconds\n"
     ]
    }
   ],
   "source": [
    "start = time.time()\n",
    "modelSVC = SVC(kernel=\"linear\").fit(X_train_vec,y_train)\n",
    "end = time.time()\n",
    "print(f\"Runtime for fitting SVC: {end - start} seconds\")\n",
    "#\n",
    "start = time.time()\n",
    "predictionsSVC = modelSVC.predict(cv.transform(X_test))\n",
    "print('AUC (SVC): ', roc_auc_score(y_test, predictionsSVC))\n",
    "end = time.time()\n",
    "print(f\"Runtime for predicting with SVC: {end - start} seconds\")"
   ]
  },
  {
   "cell_type": "code",
   "execution_count": 40,
   "metadata": {
    "slideshow": {
     "slide_type": "subslide"
    }
   },
   "outputs": [
    {
     "name": "stdout",
     "output_type": "stream",
     "text": [
      "Runtime for fitting SVC: 39.08421754837036 seconds\n",
      "AUC (SVC):  0.8604116861746717\n",
      "Runtime for predicting with SVC: 8.268787860870361 seconds\n"
     ]
    }
   ],
   "source": [
    "start = time.time()\n",
    "modelSVC = SVC(kernel=\"linear\").fit(X_train_vec3,y_train)\n",
    "end = time.time()\n",
    "print(f\"Runtime for fitting SVC: {end - start} seconds\")\n",
    "start = time.time()\n",
    "predictionsSVC = modelSVC.predict(cv3.transform(X_test))\n",
    "print('AUC (SVC): ', roc_auc_score(y_test, predictionsSVC))\n",
    "end = time.time()\n",
    "print(f\"Runtime for predicting with SVC: {end - start} seconds\")"
   ]
  },
  {
   "cell_type": "code",
   "execution_count": 41,
   "metadata": {
    "slideshow": {
     "slide_type": "skip"
    }
   },
   "outputs": [],
   "source": [
    "#from sklearn.datasets import fetch_20newsgroups\n",
    "#newsgroups_train = fetch_20newsgroups(subset='train')\n",
    "#print(newsgroups_train.target_names)\n",
    "# print(newsgroups_train.data[10])"
   ]
  },
  {
   "cell_type": "markdown",
   "metadata": {
    "slideshow": {
     "slide_type": "slide"
    }
   },
   "source": [
    "### A few words on ... \n",
    "\n",
    "> Word embedding: Dimensionality reduction\n",
    "\n",
    "\n",
    "> Using pretrained models"
   ]
  },
  {
   "cell_type": "code",
   "execution_count": 42,
   "metadata": {
    "slideshow": {
     "slide_type": "fragment"
    }
   },
   "outputs": [],
   "source": [
    "# The following code on using embedding for vectorization is adapted from:\n",
    "# https://github.com/practical-nlp\n",
    "\n",
    "import os\n",
    "import wget\n",
    "import gzip\n",
    "import shutil\n",
    "\n",
    "gn_vec_path = \"GoogleNews-vectors-negative300.bin\"\n",
    "gn_vec_zip_path = \"GoogleNews-vectors-negative300.bin.gz\"\n",
    "if not os.path.exists(gn_vec_path):\n",
    "    if not os.path.exists(gn_vec_zip_path): \n",
    "        wget.download(\"https://s3.amazonaws.com/dl4j-distribution/GoogleNews-vectors-negative300.bin.gz\")\n",
    "    with gzip.open(gn_vec_zip_path, 'rb') as f_in:\n",
    "            with open(gn_vec_path, 'wb') as f_out:\n",
    "                shutil.copyfileobj(f_in, f_out)"
   ]
  },
  {
   "cell_type": "code",
   "execution_count": 43,
   "metadata": {
    "slideshow": {
     "slide_type": "subslide"
    }
   },
   "outputs": [
    {
     "name": "stdout",
     "output_type": "stream",
     "text": [
      "Numver of words in vocablulary:  3000000\n"
     ]
    }
   ],
   "source": [
    "from gensim.models import Word2Vec, KeyedVectors\n",
    "pretrainedpath = gn_vec_path\n",
    "w2v_model = KeyedVectors.load_word2vec_format(pretrainedpath, binary=True) #load the model\n",
    "print(\"Numver of words in vocablulary: \",len(list(w2v_model.index_to_key)))#Number of words in the vocabulary."
   ]
  },
  {
   "cell_type": "code",
   "execution_count": 44,
   "metadata": {
    "slideshow": {
     "slide_type": "fragment"
    }
   },
   "outputs": [
    {
     "name": "stdout",
     "output_type": "stream",
     "text": [
      "300\n"
     ]
    },
    {
     "data": {
      "text/plain": [
       "array([ 0.06005859, -0.07763672, -0.01135254,  0.08544922, -0.08154297,\n",
       "       -0.13671875, -0.21875   , -0.05859375, -0.06176758,  0.14257812],\n",
       "      dtype=float32)"
      ]
     },
     "execution_count": 44,
     "metadata": {},
     "output_type": "execute_result"
    }
   ],
   "source": [
    "print(len(w2v_model['Singapore']))\n",
    "w2v_model['Singapore'][:10]"
   ]
  },
  {
   "cell_type": "code",
   "execution_count": 45,
   "metadata": {
    "slideshow": {
     "slide_type": "subslide"
    }
   },
   "outputs": [
    {
     "name": "stdout",
     "output_type": "stream",
     "text": [
      "[('Hong_Kong', 0.7355004549026489), ('Malaysia', 0.7280135154724121), ('Kuala_Lumpur', 0.6947176456451416), ('Singaporean', 0.680225670337677), ('SIngapore', 0.665448784828186), (\"S'pore\", 0.6562163233757019), ('Malaysian', 0.6307142972946167), ('Inkster_Miyazato', 0.6058071851730347), ('Exchange_Ltd._S##.SG', 0.6021658778190613), ('GP_Pte_Ltd', 0.6005238890647888)]\n",
      "\n",
      "[('malaysia', 0.647721529006958), ('hong_kong', 0.6318016052246094), ('malaysian', 0.6025472283363342), ('australia', 0.597445011138916), ('uae', 0.5960760116577148), ('india', 0.5947676301002502), ('uk', 0.5883470773696899), ('chinese', 0.5872371792793274), ('usa', 0.583607017993927), ('simon', 0.5695350766181946)]\n"
     ]
    }
   ],
   "source": [
    "print(w2v_model.most_similar('Singapore'))\n",
    "print()\n",
    "print(w2v_model.most_similar('singapore'))"
   ]
  },
  {
   "cell_type": "code",
   "execution_count": 46,
   "metadata": {
    "slideshow": {
     "slide_type": "subslide"
    }
   },
   "outputs": [
    {
     "name": "stdout",
     "output_type": "stream",
     "text": [
      "0.060058594\n",
      "0.06933594\n"
     ]
    }
   ],
   "source": [
    "print(w2v_model['Singapore'][0])\n",
    "print(w2v_model['singapore'][0])"
   ]
  },
  {
   "cell_type": "code",
   "execution_count": 47,
   "metadata": {
    "slideshow": {
     "slide_type": "subslide"
    }
   },
   "outputs": [
    {
     "name": "stdout",
     "output_type": "stream",
     "text": [
      "0.546599805355072\n",
      "0.4534002\n"
     ]
    }
   ],
   "source": [
    "print(w2v_model.distance('Singapore','Japan'))\n",
    "print(w2v_model.similarity('Singapore','Japan'))"
   ]
  },
  {
   "cell_type": "code",
   "execution_count": 48,
   "metadata": {
    "slideshow": {
     "slide_type": "subslide"
    }
   },
   "outputs": [
    {
     "name": "stderr",
     "output_type": "stream",
     "text": [
      "[nltk_data] Downloading package stopwords to\n",
      "[nltk_data]     C:\\Users\\datta\\AppData\\Roaming\\nltk_data...\n",
      "[nltk_data]   Package stopwords is already up-to-date!\n"
     ]
    }
   ],
   "source": [
    "# may need to refactor the below code with other codes in this notebook\n",
    "nltk.download('stopwords')\n",
    "from nltk.tokenize import word_tokenize\n",
    "from nltk.corpus import stopwords\n",
    "from string import punctuation\n",
    "\n",
    "def preprocess_corpus(texts):\n",
    "    mystopwords = set(stopwords.words(\"english\"))\n",
    "    def remove_stops_digits(tokens):\n",
    "        #Nested function that lowercases, removes stopwords and digits from a list of tokens\n",
    "        return [token.lower() for token in tokens if token.lower() not in mystopwords and not token.isdigit()\n",
    "               and token not in punctuation]\n",
    "    #This return statement below uses the above function to process twitter tokenizer output further. \n",
    "    return [remove_stops_digits(word_tokenize(text)) for text in texts]"
   ]
  },
  {
   "cell_type": "code",
   "execution_count": 49,
   "metadata": {
    "slideshow": {
     "slide_type": "subslide"
    }
   },
   "outputs": [],
   "source": [
    "def embedding_feats(list_of_lists):\n",
    "    DIMENSION = 300 ## This is essentially coming from the embedding space \n",
    "    zero_vector = np.zeros(DIMENSION)\n",
    "    feats = []\n",
    "    for tokens in list_of_lists:\n",
    "        feat_for_this =  np.zeros(DIMENSION)\n",
    "        count_for_this = 0 + 1e-5 # to avoid divide-by-zero \n",
    "        for token in tokens:\n",
    "            if token in w2v_model:\n",
    "                feat_for_this += w2v_model[token]\n",
    "                count_for_this +=1\n",
    "        if(count_for_this!=0):\n",
    "            feats.append(feat_for_this/count_for_this) \n",
    "        else:\n",
    "            feats.append(zero_vector)\n",
    "    return feats"
   ]
  },
  {
   "cell_type": "code",
   "execution_count": 50,
   "metadata": {
    "slideshow": {
     "slide_type": "subslide"
    }
   },
   "outputs": [],
   "source": [
    "Xtrain_prepro = preprocess_corpus(X_train)\n",
    "Xtest_prepro = preprocess_corpus(X_test)\n",
    "train_vect = embedding_feats(Xtrain_prepro)\n",
    "test_vect = embedding_feats(Xtest_prepro)"
   ]
  },
  {
   "cell_type": "code",
   "execution_count": 51,
   "metadata": {
    "slideshow": {
     "slide_type": "subslide"
    }
   },
   "outputs": [
    {
     "name": "stdout",
     "output_type": "stream",
     "text": [
      "AUC (with pretrained embedding):  0.8476652989196567\n",
      "Accuracy (with pretrained embedding):  0.847\n"
     ]
    },
    {
     "data": {
      "text/plain": [
       "<sklearn.metrics._plot.confusion_matrix.ConfusionMatrixDisplay at 0x2359eaee820>"
      ]
     },
     "execution_count": 51,
     "metadata": {},
     "output_type": "execute_result"
    },
    {
     "data": {
      "image/png": "[encoded data removed]",
      "text/plain": [
       "<Figure size 432x288 with 2 Axes>"
      ]
     },
     "metadata": {
      "needs_background": "light"
     },
     "output_type": "display_data"
    }
   ],
   "source": [
    "model1.fit(train_vect, y_train) # Recall: It was the basic logistic regression model\n",
    "predictions = model1.predict(test_vect)\n",
    "print('AUC (with pretrained embedding): ', roc_auc_score(y_test, predictions))\n",
    "print(\"Accuracy (with pretrained embedding): \", accuracy_score(y_test, predictions))\n",
    "ConfusionMatrixDisplay.from_predictions(y_test,predictions,normalize=\"true\",cmap=plt.cm.Blues)"
   ]
  },
  {
   "cell_type": "markdown",
   "metadata": {
    "slideshow": {
     "slide_type": "slide"
    }
   },
   "source": [
    "### Topic modeling and document similarity"
   ]
  },
  {
   "cell_type": "code",
   "execution_count": 52,
   "metadata": {
    "slideshow": {
     "slide_type": "fragment"
    }
   },
   "outputs": [],
   "source": [
    "# A few more toy documents\n",
    "EE2 =\"Colin Powell, America’s former secretary of state and chairman of the joint chiefs of staff, died from complications related to covid-19, aged 84. He was the first black man to hold either position. George H.W. Bush appointed him as the youngest person ever to serve as America’s highest-ranking military officer in 1989. Under George W. Bush he was the county’s top diplomat from 2001 to 2005.\"\n",
    "EE3 = \"The world’s biggest streaming service disappointed Wall Street last quarter when it revealed tepid growth in subscribers. Its earnings report today should tell a different tale. The main driver of subscriptions is new content. Though scarce earlier this year because of the disruption caused by covid-19, the pipeline is filling up again. Old favourites like “Money Heist” and “Sex Education” are back with new episodes, and “Squid Game”, a dystopic South Korean thriller, has proved to be Netflix’s biggest-ever hit.\"\n",
    "doc1 = nlp(EE1) \n",
    "doc2 = nlp(EE2)\n",
    "doc3 = nlp(EE3)"
   ]
  },
  {
   "cell_type": "code",
   "execution_count": 53,
   "metadata": {
    "slideshow": {
     "slide_type": "subslide"
    }
   },
   "outputs": [
    {
     "name": "stdout",
     "output_type": "stream",
     "text": [
      "Similarity between documents 1 2 : 0.029378258437261235\n",
      "Similarity between documents 1 3 : 0.0\n",
      "Similarity between documents 2 3 : 0.024661696851234052\n"
     ]
    }
   ],
   "source": [
    "from sklearn.feature_extraction.text import TfidfVectorizer\n",
    "\n",
    "corpus = [EE1,EE2,EE3]\n",
    "vect = TfidfVectorizer(min_df=1, stop_words=\"english\")                                                                                                                                                                                                   \n",
    "tfidf = vect.fit_transform(corpus)                                                                                                                                                                                                                       \n",
    "pairwise_similarity = tfidf * tfidf.T \n",
    "\n",
    "import itertools\n",
    "for i,j in itertools.product(range(3), range(3)):\n",
    "    if i<j:\n",
    "        print(\"Similarity between documents\",i+1,j+1,\":\",pairwise_similarity[i,j])"
   ]
  },
  {
   "cell_type": "code",
   "execution_count": 54,
   "metadata": {
    "slideshow": {
     "slide_type": "skip"
    }
   },
   "outputs": [],
   "source": [
    "# Similarities using spacy/need to load word vector for more meaningful similarities\n",
    "#print(doc1.similarity(doc2))\n",
    "#print(doc1.similarity(doc3))\n",
    "#print(doc2.similarity(doc3))"
   ]
  },
  {
   "cell_type": "markdown",
   "metadata": {
    "slideshow": {
     "slide_type": "slide"
    }
   },
   "source": [
    "### LDA: Latent Dirichlet Allocation\n",
    "\n",
    "<b>Key ideas/intuitions:<b> \n",
    "1. Each document is a mix of topics (following some \"unknown\" distribution)\n",
    "   * Topics are not explicitly defined, but we have an \"estimate\" of the number of topics\n",
    "2. Each topic is a mix of words (again, following some \"unknown\" distribution) "
   ]
  },
  {
   "cell_type": "code",
   "execution_count": 93,
   "metadata": {
    "slideshow": {
     "slide_type": "subslide"
    }
   },
   "outputs": [
    {
     "name": "stdout",
     "output_type": "stream",
     "text": [
      "Third party content:\n"
     ]
    },
    {
     "data": {
      "text/html": [
       "<iframe width=\"550\" height=\"300\" src=\"https://www.youtube.com/embed/3mHy4OSyRf0\" title=\"Support Vector Machines\" frameborder=\"0\" allow=\"accelerometer; clipboard-write; encrypted-media; gyroscope; picture-in-picture\" allowfullscreen></iframe>"
      ],
      "text/plain": [
       "<IPython.core.display.HTML object>"
      ]
     },
     "execution_count": 93,
     "metadata": {},
     "output_type": "execute_result"
    }
   ],
   "source": [
    "# The following YouTube video on Latent Dirichlet allocation provides a very nice high level overview\n",
    "# Even if you are familiar with LDA and topic modeling, you may gain some nice perspectives \n",
    "print(\"Third party content:\")\n",
    "HTML('<iframe width=\"550\" height=\"300\" src=\"https://www.youtube.com/embed/3mHy4OSyRf0\" title=\"Support Vector Machines\" frameborder=\"0\" allow=\"accelerometer; clipboard-write; encrypted-media; gyroscope; picture-in-picture\" allowfullscreen></iframe>')"
   ]
  },
  {
   "cell_type": "markdown",
   "metadata": {
    "slideshow": {
     "slide_type": "subslide"
    }
   },
   "source": [
    "![LDA Big Idea.png](pics/LDA-overview.png)\n",
    "Image source: Above mentioned <a href=\"https://www.youtube.com/watch?v=3mHy4OSyRf0&t=1058s\">YouTube video</a>"
   ]
  },
  {
   "cell_type": "code",
   "execution_count": 56,
   "metadata": {
    "slideshow": {
     "slide_type": "subslide"
    }
   },
   "outputs": [
    {
     "name": "stdout",
     "output_type": "stream",
     "text": [
      "7769 total train documents\n",
      "3019 total test documents\n",
      "['training/1', 'training/10', 'training/100', 'training/1000', 'training/10000', 'training/10002', 'training/10005', 'training/10008', 'training/10011', 'training/10014']\n",
      "['MOST', 'EC', 'STATES', 'SAID', 'TO', 'BE', 'AGAINST', 'OILS', '/', 'FATS', 'TAX', 'A', 'majority', 'of', 'European', 'Community', '(', 'EC', ')', 'member', 'states', 'are', 'either', 'against', 'or', 'have', 'strong', 'reservations', 'over', 'a', 'tax', 'on', 'both', 'imported', 'and', 'domestically', '-', 'produced', 'oils', 'and', 'fats', 'proposed', 'by', 'the', 'European', 'Commission', ',', 'senior', 'diplomats', 'said', '.', 'They', 'said', 'a', 'special', 'committee', 'of', 'agricultural', 'experts', 'from', 'EC', 'member', 'states', 'had', 'voiced', 'strong', 'objections', 'over', 'the', 'measure', 'during', 'a', 'meeting', 'charged', 'with', 'preparing', 'the', 'ground', 'for', 'the', 'annual', 'EC', 'farm', 'price', '-', 'fixing', 'which', 'begins', 'next', 'Monday', '.', 'They', 'added', 'that', 'only', 'France', 'and', 'Italy', 'had', 'indicated', 'they', 'would', 'support', 'the', 'Commission', 'proposal', 'which', 'would', 'lead', 'to', 'a', 'tax', 'initially', 'of', '330', 'Ecus', 'per', 'tonne', 'during', 'the', '1987', '/', '88', 'price', 'round', '.']\n"
     ]
    }
   ],
   "source": [
    "from nltk.corpus import reuters\n",
    "documents=reuters.fileids()\n",
    "train_docs = list(filter(lambda doc: doc.startswith(\"train\"), documents));\n",
    "test_docs = list(filter(lambda doc: doc.startswith(\"test\"), documents));\n",
    "print(str(len(train_docs)) + \" total train documents\");\n",
    "print(str(len(test_docs)) + \" total test documents\");\n",
    "print(train_docs[0:10])\n",
    "print(reuters.words(train_docs[10])[0:len(reuters.words(train_docs[10]))])"
   ]
  },
  {
   "cell_type": "code",
   "execution_count": 57,
   "metadata": {
    "slideshow": {
     "slide_type": "subslide"
    }
   },
   "outputs": [],
   "source": [
    "# Some of the code fragments below on LDA for topic modeling is adapted from https://radimrehurek.com/gensim/models/ldamodel.html\n",
    "\n",
    "from gensim.corpora.dictionary import Dictionary\n",
    "from gensim.test.utils import common_corpus\n",
    "import gensim\n",
    "from gensim import corpora, models\n",
    "\n",
    "import random"
   ]
  },
  {
   "cell_type": "code",
   "execution_count": 58,
   "metadata": {
    "slideshow": {
     "slide_type": "subslide"
    }
   },
   "outputs": [
    {
     "name": "stdout",
     "output_type": "stream",
     "text": [
      "['alarming', 'problem', 'loom', 'Iran', 'rapidly', 'advance', 'nuclear', 'programme', 'Israel', 'threaten', 'military', 'action', 'America', 'seek', 'diplomatic', 'solution', 'Anton', 'La', 'Guardia', 'Economist', 'diplomatic', 'editor', 'write', 'international', 'crisis', 'pose', 'Al', 'Monitor', 'publication', 'cover', 'Middle', 'East', 'monitor', 'negotiation', 'revive', 'nuclear', 'deal', '2015', 'fiendish', 'dilemma', 'french', 'president', 'Nicolas', 'Sarkozy', 'encapsulate', 'iranian', 'bomb', 'bombing', 'Iran', 'Iran', 'nuclear', 'weapon', 'situation', 'way', 'bad', 'past', 'country', 'close', 'able', 'nuke', 'expert', 'David', 'Albright', 'breakout', \"time'—the\", 'time', 'need', 'bomb', 'worth', 'highly', 'enrich', 'uranium', '—', 'month', 'Mr', 'Albright', 'book', 'detailed', 'account', 'iranian', 'programme', 'draw', 'year', 'inspection', 'International', 'Atomic', 'Energy', 'Agency', 'trove', 'iranian', 'document', 'obtain', 'israeli', 'intelligence', 'problem', 'credibility', 'american', 'diplomacy', 'damage', 'Donald', 'Trump', 'repudiation', 'nuclear', 'deal', 'successor', 'Joe', 'Biden', 'try', 'revive', 'Iran', 'interested', 'Robert', 'Malley', 'America', 'special', 'envoy', 'Iran', 'discuss', 'impasse', 'recent', 'interview', 'Iran', 'claim', 'seek', 'nuclear', 'energy', 'civilian', 'purpose', 'trouble', 'technology', 'use', 'low', 'enriched', 'uranium', 'fuel', 'nuclear', 'power', 'station', 'use', 'highly', 'enrich', 'uranium', 'weapon', 'ultimate', 'aim', 'Iran', 'regime', 'attach', 'great', 'national', 'pride', 'mastery', 'nuclear', 'technology', 'moon', 'shoot', 'iranian', 'official', 'accord', 'Channel', 'memoir', 'William', 'Burns', 'head', 'CIA', 'diplomat', 'helped', 'negotiate', 'nuclear', 'deal']\n"
     ]
    }
   ],
   "source": [
    "# Below is a module which can be used as a possible solution for ungraded task 6.1 \n",
    "# Note: Most of the text_scrubber code is from https://towardsdatascience.com/text-normalization-with-spacy-and-nltk-1302ff430119\n",
    "# The punctuation removal module in there was inadequate to my liking, and I replaced it with something more robust\n",
    "\n",
    "def text_scrubber(text):\n",
    "    import string \n",
    "    doc = nlp(text)\n",
    "     \n",
    "# Tokenization and lemmatization \n",
    "    lemma_list = []\n",
    "    for token in doc:\n",
    "        lemma_list.append(token.lemma_)\n",
    "    \n",
    "    # Filter the stopwords\n",
    "    filtered_sentence =[] \n",
    "    for word in lemma_list:\n",
    "        lexeme = nlp.vocab[word]\n",
    "        if lexeme.is_stop == False:\n",
    "            filtered_sentence.append(word) \n",
    "    \n",
    "    # Filter the punctuations   \n",
    "    for punc in string.punctuation:\n",
    "        filtered_sentence=list(filter(lambda a: a != punc, filtered_sentence))\n",
    "    \n",
    "    return filtered_sentence\n",
    "    \n",
    "print(text_scrubber(EE1))"
   ]
  },
  {
   "cell_type": "code",
   "execution_count": 59,
   "metadata": {
    "scrolled": true,
    "slideshow": {
     "slide_type": "subslide"
    }
   },
   "outputs": [
    {
     "name": "stdout",
     "output_type": "stream",
     "text": [
      "[['CHINA', 'SOYBEAN', 'OUTPUT', 'SLIGHTLY', 'USDA', 'REPORT', 'China', 'soybean', 'crop', 'year', 'forecast', 'mln', 'tonnes', 'slightly', 'mln', 'estiamted', 'year', 'Agriculture', 'Department', 'officer', 'Peking', 'field', 'report', 'report', 'dated', 'April', 'Chinese', 'imports', 'year', 'projected', '300', '000', 'tonnes', 'unchanged', 'year', 'level', 'Exports', 'forecast', 'increase', 'mln', 'tonnes', '800', '000', 'tonnes', 'exported', 'year', 'report', 'Imports', 'soybean', 'oil', 'estimated', '200', '000', 'tonnes', 'unchanged', 'year'], ['DATA', 'MEASUREMENT', 'CORP', 'DMCB', '4TH', 'QTR', 'Shr', 'cts', 'cts', 'Net', '516', '063', '328', '468', 'Revs', 'mln', 'mln', 'NOTE', 'Shrs', 'reflect', 'stock', 'split']]\n"
     ]
    }
   ],
   "source": [
    "# Prepare the initial set of documents to be used for LDA topic modeling\n",
    "docs=[[y for y in reuters.words(x) if len(text_scrubber(y))>0 and len(y)>2] for x in random.sample(train_docs, 100)]\n",
    "print(random.sample(docs,2))"
   ]
  },
  {
   "cell_type": "code",
   "execution_count": 60,
   "metadata": {
    "slideshow": {
     "slide_type": "subslide"
    }
   },
   "outputs": [
    {
     "name": "stdout",
     "output_type": "stream",
     "text": [
      "Numer of tokens: 3176\n",
      "Some random tokens: [('discipline', 2249), ('478', 2021), ('soybeans', 846), ('IMPORT', 2405), ('housing', 635), ('metals', 1891), ('Reagan', 552), ('volatily', 1862), ('holders', 1045), ('delay', 88), ('violent', 2283), ('October', 1259), ('inquiries', 2165), ('estimation', 1575), ('member', 139), ('options', 402), ('somebody', 2593), ('Federal', 870), ('wonderful', 3157), ('Terms', 1358)]\n"
     ]
    }
   ],
   "source": [
    "dct = Dictionary(docs)\n",
    "common_corpus = [dct.doc2bow(text) for text in docs]\n",
    "lda = models.ldamodel.LdaModel(common_corpus, num_topics=20)\n",
    "print(\"Numer of tokens:\", len(dct.token2id))\n",
    "print(\"Some random tokens:\", random.sample(list(dct.token2id.items()),20))\n",
    "inv_map = {v: k for k, v in dct.token2id.items()} \n",
    "# In theory there's an id2token function, but I had problem with it"
   ]
  },
  {
   "cell_type": "code",
   "execution_count": 61,
   "metadata": {
    "slideshow": {
     "slide_type": "fragment"
    }
   },
   "outputs": [
    {
     "name": "stdout",
     "output_type": "stream",
     "text": [
      "[(1, 0.14542003), (2, 0.14289911), (4, 0.042802583), (6, 0.20522758), (8, 0.06020278), (9, 0.018474184), (10, 0.121667735), (12, 0.081962936), (13, 0.030592296), (17, 0.14429606)]\n",
      "[(0, 0.10591578), (1, 0.52794284), (2, 0.31601062)]\n",
      "[(1, 0.08655172), (8, 0.09062548), (12, 0.24896422), (13, 0.33639774), (17, 0.10311288), (19, 0.09310416)]\n"
     ]
    }
   ],
   "source": [
    "# Let's look at the topic distribution of some documents\n",
    "new_docs=[text_scrubber(EE1),text_scrubber(EE2),text_scrubber(EE3)]\n",
    "new_corpus = [dct.doc2bow(text) for text in new_docs]\n",
    "topic_prob=[lda[new_corpus[i]] for i in range(len(new_docs))] # topic probability distribution\n",
    "for x in topic_prob:\n",
    "    print(x)"
   ]
  },
  {
   "cell_type": "code",
   "execution_count": 62,
   "metadata": {
    "slideshow": {
     "slide_type": "fragment"
    }
   },
   "outputs": [
    {
     "name": "stdout",
     "output_type": "stream",
     "text": [
      "[('mln', 0.017560491), ('year', 0.013100874), ('bpd', 0.0078046345), ('1987', 0.0055634426), ('pct', 0.005427841), ('beet', 0.004666399), ('market', 0.0043878434), ('land', 0.0041444087), ('cane', 0.004132074), ('farmers', 0.0039663226)]\n"
     ]
    }
   ],
   "source": [
    "most_likely_topic=sorted(topic_prob[0], key=lambda x: x[1], reverse=True)[0][0]\n",
    "print([(inv_map[int(x[0])], x[1]) for x in lda.show_topic(most_likely_topic, topn=10)])"
   ]
  },
  {
   "cell_type": "markdown",
   "metadata": {
    "slideshow": {
     "slide_type": "subslide"
    }
   },
   "source": [
    "![LDA-simplex](pics/lda-space.png)\n",
    "Image source: Above mentioned <a href=\"https://www.youtube.com/watch?v=3mHy4OSyRf0&t=1058s\">YouTube video</a>"
   ]
  },
  {
   "cell_type": "markdown",
   "metadata": {
    "slideshow": {
     "slide_type": "subslide"
    }
   },
   "source": [
    "### Few practicalities to consider\n",
    "\n",
    "- The suitability of the training corpus\n",
    "- Correct guess, or, more pragmatically, a proper exploration of the number of topics"
   ]
  },
  {
   "cell_type": "markdown",
   "metadata": {
    "slideshow": {
     "slide_type": "slide"
    }
   },
   "source": [
    "# <span style=\"color:olivedrab\">Named entities</span> "
   ]
  },
  {
   "cell_type": "code",
   "execution_count": 63,
   "metadata": {
    "slideshow": {
     "slide_type": "fragment"
    }
   },
   "outputs": [
    {
     "name": "stdout",
     "output_type": "stream",
     "text": [
      "('Iran', 'GPE')\n",
      "('Israel', 'GPE')\n",
      "('America', 'GPE')\n",
      "('Anton La Guardia', 'PERSON')\n",
      "('Al-Monitor', 'PERSON')\n",
      "('the Middle East', 'LOC')\n",
      "('2015', 'DATE')\n",
      "('French', 'NORP')\n",
      "('Nicolas Sarkozy', 'PERSON')\n",
      "('Iranian', 'NORP')\n",
      "('Iran', 'GPE')\n",
      "('Iran', 'GPE')\n",
      "('One', 'CARDINAL')\n",
      "('David Albright', 'PERSON')\n",
      "('just one month', 'DATE')\n",
      "('Albright', 'PERSON')\n",
      "('Iranian', 'NORP')\n",
      "('years', 'DATE')\n",
      "('the International Atomic Energy Agency', 'ORG')\n",
      "('Iranian', 'NORP')\n",
      "('Israeli', 'NORP')\n",
      "('American', 'NORP')\n",
      "('Donald Trump’s', 'PERSON')\n",
      "('Joe Biden', 'PERSON')\n",
      "('Iran', 'GPE')\n",
      "('Robert Malley', 'PERSON')\n",
      "('America', 'GPE')\n",
      "('Iran', 'GPE')\n",
      "('Iran', 'GPE')\n",
      "('Iran', 'GPE')\n",
      "('one', 'CARDINAL')\n",
      "('Iranian', 'NORP')\n",
      "('The Back Channel”', 'WORK_OF_ART')\n",
      "('William Burns', 'PERSON')\n",
      "('CIA', 'ORG')\n"
     ]
    }
   ],
   "source": [
    "#doc1 = nlp(EE1)\n",
    "for ent in doc1.ents:\n",
    "    print((ent.text, ent.label_))"
   ]
  },
  {
   "cell_type": "code",
   "execution_count": 64,
   "metadata": {
    "slideshow": {
     "slide_type": "subslide"
    }
   },
   "outputs": [
    {
     "data": {
      "text/plain": [
       "'Countries, cities, states'"
      ]
     },
     "execution_count": 64,
     "metadata": {},
     "output_type": "execute_result"
    }
   ],
   "source": [
    "# label explanation\n",
    "spacy.explain(\"GPE\")"
   ]
  },
  {
   "cell_type": "code",
   "execution_count": 65,
   "metadata": {
    "slideshow": {
     "slide_type": "subslide"
    }
   },
   "outputs": [
    {
     "data": {
      "text/html": [
       "<span class=\"tex2jax_ignore\"><div class=\"entities\" style=\"line-height: 2.5; direction: ltr\">An alarming problem looms once more: \n",
       "<mark class=\"entity\" style=\"background: #feca74; padding: 0.45em 0.6em; margin: 0 0.25em; line-height: 1; border-radius: 0.35em;\">\n",
       "    Iran\n",
       "    <span style=\"font-size: 0.8em; font-weight: bold; line-height: 1; border-radius: 0.35em; vertical-align: middle; margin-left: 0.5rem\">GPE</span>\n",
       "</mark>\n",
       " is rapidly advancing its nuclear programme; \n",
       "<mark class=\"entity\" style=\"background: #feca74; padding: 0.45em 0.6em; margin: 0 0.25em; line-height: 1; border-radius: 0.35em;\">\n",
       "    Israel\n",
       "    <span style=\"font-size: 0.8em; font-weight: bold; line-height: 1; border-radius: 0.35em; vertical-align: middle; margin-left: 0.5rem\">GPE</span>\n",
       "</mark>\n",
       " is threatening military action against it; and \n",
       "<mark class=\"entity\" style=\"background: #feca74; padding: 0.45em 0.6em; margin: 0 0.25em; line-height: 1; border-radius: 0.35em;\">\n",
       "    America\n",
       "    <span style=\"font-size: 0.8em; font-weight: bold; line-height: 1; border-radius: 0.35em; vertical-align: middle; margin-left: 0.5rem\">GPE</span>\n",
       "</mark>\n",
       " is seeking a diplomatic solution. \n",
       "<mark class=\"entity\" style=\"background: #aa9cfc; padding: 0.45em 0.6em; margin: 0 0.25em; line-height: 1; border-radius: 0.35em;\">\n",
       "    Anton La Guardia\n",
       "    <span style=\"font-size: 0.8em; font-weight: bold; line-height: 1; border-radius: 0.35em; vertical-align: middle; margin-left: 0.5rem\">PERSON</span>\n",
       "</mark>\n",
       ", The Economist’s diplomatic editor, wrote about the international crisis this poses. \n",
       "<mark class=\"entity\" style=\"background: #aa9cfc; padding: 0.45em 0.6em; margin: 0 0.25em; line-height: 1; border-radius: 0.35em;\">\n",
       "    Al-Monitor\n",
       "    <span style=\"font-size: 0.8em; font-weight: bold; line-height: 1; border-radius: 0.35em; vertical-align: middle; margin-left: 0.5rem\">PERSON</span>\n",
       "</mark>\n",
       ", a publication that covers \n",
       "<mark class=\"entity\" style=\"background: #ff9561; padding: 0.45em 0.6em; margin: 0 0.25em; line-height: 1; border-radius: 0.35em;\">\n",
       "    the Middle East\n",
       "    <span style=\"font-size: 0.8em; font-weight: bold; line-height: 1; border-radius: 0.35em; vertical-align: middle; margin-left: 0.5rem\">LOC</span>\n",
       "</mark>\n",
       ", has been monitoring the negotiations to revive a nuclear deal from \n",
       "<mark class=\"entity\" style=\"background: #bfe1d9; padding: 0.45em 0.6em; margin: 0 0.25em; line-height: 1; border-radius: 0.35em;\">\n",
       "    2015\n",
       "    <span style=\"font-size: 0.8em; font-weight: bold; line-height: 1; border-radius: 0.35em; vertical-align: middle; margin-left: 0.5rem\">DATE</span>\n",
       "</mark>\n",
       ". It makes for a fiendish dilemma that the former \n",
       "<mark class=\"entity\" style=\"background: #c887fb; padding: 0.45em 0.6em; margin: 0 0.25em; line-height: 1; border-radius: 0.35em;\">\n",
       "    French\n",
       "    <span style=\"font-size: 0.8em; font-weight: bold; line-height: 1; border-radius: 0.35em; vertical-align: middle; margin-left: 0.5rem\">NORP</span>\n",
       "</mark>\n",
       " president, \n",
       "<mark class=\"entity\" style=\"background: #aa9cfc; padding: 0.45em 0.6em; margin: 0 0.25em; line-height: 1; border-radius: 0.35em;\">\n",
       "    Nicolas Sarkozy\n",
       "    <span style=\"font-size: 0.8em; font-weight: bold; line-height: 1; border-radius: 0.35em; vertical-align: middle; margin-left: 0.5rem\">PERSON</span>\n",
       "</mark>\n",
       ", encapsulated thus: `an \n",
       "<mark class=\"entity\" style=\"background: #c887fb; padding: 0.45em 0.6em; margin: 0 0.25em; line-height: 1; border-radius: 0.35em;\">\n",
       "    Iranian\n",
       "    <span style=\"font-size: 0.8em; font-weight: bold; line-height: 1; border-radius: 0.35em; vertical-align: middle; margin-left: 0.5rem\">NORP</span>\n",
       "</mark>\n",
       " bomb or the bombing of \n",
       "<mark class=\"entity\" style=\"background: #feca74; padding: 0.45em 0.6em; margin: 0 0.25em; line-height: 1; border-radius: 0.35em;\">\n",
       "    Iran\n",
       "    <span style=\"font-size: 0.8em; font-weight: bold; line-height: 1; border-radius: 0.35em; vertical-align: middle; margin-left: 0.5rem\">GPE</span>\n",
       "</mark>\n",
       "'. \n",
       "<mark class=\"entity\" style=\"background: #feca74; padding: 0.45em 0.6em; margin: 0 0.25em; line-height: 1; border-radius: 0.35em;\">\n",
       "    Iran\n",
       "    <span style=\"font-size: 0.8em; font-weight: bold; line-height: 1; border-radius: 0.35em; vertical-align: middle; margin-left: 0.5rem\">GPE</span>\n",
       "</mark>\n",
       " doesn't yet have a nuclear weapon. But the situation is in many ways worse than in the past. The country is closer than ever to being able to make a nuke. \n",
       "<mark class=\"entity\" style=\"background: #e4e7d2; padding: 0.45em 0.6em; margin: 0 0.25em; line-height: 1; border-radius: 0.35em;\">\n",
       "    One\n",
       "    <span style=\"font-size: 0.8em; font-weight: bold; line-height: 1; border-radius: 0.35em; vertical-align: middle; margin-left: 0.5rem\">CARDINAL</span>\n",
       "</mark>\n",
       " expert, \n",
       "<mark class=\"entity\" style=\"background: #aa9cfc; padding: 0.45em 0.6em; margin: 0 0.25em; line-height: 1; border-radius: 0.35em;\">\n",
       "    David Albright\n",
       "    <span style=\"font-size: 0.8em; font-weight: bold; line-height: 1; border-radius: 0.35em; vertical-align: middle; margin-left: 0.5rem\">PERSON</span>\n",
       "</mark>\n",
       ", puts the `breakout time'—the time needed to make one bomb’s worth of highly enriched uranium—at \n",
       "<mark class=\"entity\" style=\"background: #bfe1d9; padding: 0.45em 0.6em; margin: 0 0.25em; line-height: 1; border-radius: 0.35em;\">\n",
       "    just one month\n",
       "    <span style=\"font-size: 0.8em; font-weight: bold; line-height: 1; border-radius: 0.35em; vertical-align: middle; margin-left: 0.5rem\">DATE</span>\n",
       "</mark>\n",
       ". Mr \n",
       "<mark class=\"entity\" style=\"background: #aa9cfc; padding: 0.45em 0.6em; margin: 0 0.25em; line-height: 1; border-radius: 0.35em;\">\n",
       "    Albright\n",
       "    <span style=\"font-size: 0.8em; font-weight: bold; line-height: 1; border-radius: 0.35em; vertical-align: middle; margin-left: 0.5rem\">PERSON</span>\n",
       "</mark>\n",
       "’s book is one of the most detailed accounts of the \n",
       "<mark class=\"entity\" style=\"background: #c887fb; padding: 0.45em 0.6em; margin: 0 0.25em; line-height: 1; border-radius: 0.35em;\">\n",
       "    Iranian\n",
       "    <span style=\"font-size: 0.8em; font-weight: bold; line-height: 1; border-radius: 0.35em; vertical-align: middle; margin-left: 0.5rem\">NORP</span>\n",
       "</mark>\n",
       " programme, drawing on \n",
       "<mark class=\"entity\" style=\"background: #bfe1d9; padding: 0.45em 0.6em; margin: 0 0.25em; line-height: 1; border-radius: 0.35em;\">\n",
       "    years\n",
       "    <span style=\"font-size: 0.8em; font-weight: bold; line-height: 1; border-radius: 0.35em; vertical-align: middle; margin-left: 0.5rem\">DATE</span>\n",
       "</mark>\n",
       " of inspections by \n",
       "<mark class=\"entity\" style=\"background: #7aecec; padding: 0.45em 0.6em; margin: 0 0.25em; line-height: 1; border-radius: 0.35em;\">\n",
       "    the International Atomic Energy Agency\n",
       "    <span style=\"font-size: 0.8em; font-weight: bold; line-height: 1; border-radius: 0.35em; vertical-align: middle; margin-left: 0.5rem\">ORG</span>\n",
       "</mark>\n",
       " and a trove of \n",
       "<mark class=\"entity\" style=\"background: #c887fb; padding: 0.45em 0.6em; margin: 0 0.25em; line-height: 1; border-radius: 0.35em;\">\n",
       "    Iranian\n",
       "    <span style=\"font-size: 0.8em; font-weight: bold; line-height: 1; border-radius: 0.35em; vertical-align: middle; margin-left: 0.5rem\">NORP</span>\n",
       "</mark>\n",
       " documents obtained by \n",
       "<mark class=\"entity\" style=\"background: #c887fb; padding: 0.45em 0.6em; margin: 0 0.25em; line-height: 1; border-radius: 0.35em;\">\n",
       "    Israeli\n",
       "    <span style=\"font-size: 0.8em; font-weight: bold; line-height: 1; border-radius: 0.35em; vertical-align: middle; margin-left: 0.5rem\">NORP</span>\n",
       "</mark>\n",
       " intelligence. Another problem is that the credibility of \n",
       "<mark class=\"entity\" style=\"background: #c887fb; padding: 0.45em 0.6em; margin: 0 0.25em; line-height: 1; border-radius: 0.35em;\">\n",
       "    American\n",
       "    <span style=\"font-size: 0.8em; font-weight: bold; line-height: 1; border-radius: 0.35em; vertical-align: middle; margin-left: 0.5rem\">NORP</span>\n",
       "</mark>\n",
       " diplomacy has been damaged by \n",
       "<mark class=\"entity\" style=\"background: #aa9cfc; padding: 0.45em 0.6em; margin: 0 0.25em; line-height: 1; border-radius: 0.35em;\">\n",
       "    Donald Trump’s\n",
       "    <span style=\"font-size: 0.8em; font-weight: bold; line-height: 1; border-radius: 0.35em; vertical-align: middle; margin-left: 0.5rem\">PERSON</span>\n",
       "</mark>\n",
       " repudiation of the nuclear deal. His successor, \n",
       "<mark class=\"entity\" style=\"background: #aa9cfc; padding: 0.45em 0.6em; margin: 0 0.25em; line-height: 1; border-radius: 0.35em;\">\n",
       "    Joe Biden\n",
       "    <span style=\"font-size: 0.8em; font-weight: bold; line-height: 1; border-radius: 0.35em; vertical-align: middle; margin-left: 0.5rem\">PERSON</span>\n",
       "</mark>\n",
       ", is trying to revive it but \n",
       "<mark class=\"entity\" style=\"background: #feca74; padding: 0.45em 0.6em; margin: 0 0.25em; line-height: 1; border-radius: 0.35em;\">\n",
       "    Iran\n",
       "    <span style=\"font-size: 0.8em; font-weight: bold; line-height: 1; border-radius: 0.35em; vertical-align: middle; margin-left: 0.5rem\">GPE</span>\n",
       "</mark>\n",
       " doesn’t seem to be interested. \n",
       "<mark class=\"entity\" style=\"background: #aa9cfc; padding: 0.45em 0.6em; margin: 0 0.25em; line-height: 1; border-radius: 0.35em;\">\n",
       "    Robert Malley\n",
       "    <span style=\"font-size: 0.8em; font-weight: bold; line-height: 1; border-radius: 0.35em; vertical-align: middle; margin-left: 0.5rem\">PERSON</span>\n",
       "</mark>\n",
       ", \n",
       "<mark class=\"entity\" style=\"background: #feca74; padding: 0.45em 0.6em; margin: 0 0.25em; line-height: 1; border-radius: 0.35em;\">\n",
       "    America\n",
       "    <span style=\"font-size: 0.8em; font-weight: bold; line-height: 1; border-radius: 0.35em; vertical-align: middle; margin-left: 0.5rem\">GPE</span>\n",
       "</mark>\n",
       "'s special envoy on \n",
       "<mark class=\"entity\" style=\"background: #feca74; padding: 0.45em 0.6em; margin: 0 0.25em; line-height: 1; border-radius: 0.35em;\">\n",
       "    Iran\n",
       "    <span style=\"font-size: 0.8em; font-weight: bold; line-height: 1; border-radius: 0.35em; vertical-align: middle; margin-left: 0.5rem\">GPE</span>\n",
       "</mark>\n",
       ", discusses the impasse in a recent interview. \n",
       "<mark class=\"entity\" style=\"background: #feca74; padding: 0.45em 0.6em; margin: 0 0.25em; line-height: 1; border-radius: 0.35em;\">\n",
       "    Iran\n",
       "    <span style=\"font-size: 0.8em; font-weight: bold; line-height: 1; border-radius: 0.35em; vertical-align: middle; margin-left: 0.5rem\">GPE</span>\n",
       "</mark>\n",
       " claims it seeks nuclear energy only for civilian purposes. The trouble is that the technology used to make low-enriched uranium fuel for nuclear power stations is also used to make highly-enriched uranium for weapons. Whatever its ultimate aim, \n",
       "<mark class=\"entity\" style=\"background: #feca74; padding: 0.45em 0.6em; margin: 0 0.25em; line-height: 1; border-radius: 0.35em;\">\n",
       "    Iran\n",
       "    <span style=\"font-size: 0.8em; font-weight: bold; line-height: 1; border-radius: 0.35em; vertical-align: middle; margin-left: 0.5rem\">GPE</span>\n",
       "</mark>\n",
       "’s regime attaches great national pride to its mastery of nuclear technology: “our moon shot” is how \n",
       "<mark class=\"entity\" style=\"background: #e4e7d2; padding: 0.45em 0.6em; margin: 0 0.25em; line-height: 1; border-radius: 0.35em;\">\n",
       "    one\n",
       "    <span style=\"font-size: 0.8em; font-weight: bold; line-height: 1; border-radius: 0.35em; vertical-align: middle; margin-left: 0.5rem\">CARDINAL</span>\n",
       "</mark>\n",
       " \n",
       "<mark class=\"entity\" style=\"background: #c887fb; padding: 0.45em 0.6em; margin: 0 0.25em; line-height: 1; border-radius: 0.35em;\">\n",
       "    Iranian\n",
       "    <span style=\"font-size: 0.8em; font-weight: bold; line-height: 1; border-radius: 0.35em; vertical-align: middle; margin-left: 0.5rem\">NORP</span>\n",
       "</mark>\n",
       " official put it, according to “\n",
       "<mark class=\"entity\" style=\"background: #f0d0ff; padding: 0.45em 0.6em; margin: 0 0.25em; line-height: 1; border-radius: 0.35em;\">\n",
       "    The Back Channel”\n",
       "    <span style=\"font-size: 0.8em; font-weight: bold; line-height: 1; border-radius: 0.35em; vertical-align: middle; margin-left: 0.5rem\">WORK_OF_ART</span>\n",
       "</mark>\n",
       ", a memoir by \n",
       "<mark class=\"entity\" style=\"background: #aa9cfc; padding: 0.45em 0.6em; margin: 0 0.25em; line-height: 1; border-radius: 0.35em;\">\n",
       "    William Burns\n",
       "    <span style=\"font-size: 0.8em; font-weight: bold; line-height: 1; border-radius: 0.35em; vertical-align: middle; margin-left: 0.5rem\">PERSON</span>\n",
       "</mark>\n",
       ", the head of the \n",
       "<mark class=\"entity\" style=\"background: #7aecec; padding: 0.45em 0.6em; margin: 0 0.25em; line-height: 1; border-radius: 0.35em;\">\n",
       "    CIA\n",
       "    <span style=\"font-size: 0.8em; font-weight: bold; line-height: 1; border-radius: 0.35em; vertical-align: middle; margin-left: 0.5rem\">ORG</span>\n",
       "</mark>\n",
       " who, as a diplomat, helped negotiate the nuclear deal.</div></span>"
      ],
      "text/plain": [
       "<IPython.core.display.HTML object>"
      ]
     },
     "metadata": {},
     "output_type": "display_data"
    }
   ],
   "source": [
    "spacy.displacy.render(doc1, style=\"ent\")"
   ]
  },
  {
   "cell_type": "markdown",
   "metadata": {
    "slideshow": {
     "slide_type": "subslide"
    }
   },
   "source": [
    "### spaCy entities:\n",
    "\n",
    "|Entity type|      Description.|\n",
    "| --- | --- |\n",
    "|PERSON|      People, including fictional.|\n",
    "|NORP|        Nationalities or religious or political groups.|\n",
    "|FAC|         Buildings, airports, highways, bridges, etc.|\n",
    "|ORG|         Companies, agencies, institutions, etc.|\n",
    "|GPE|         Countries, cities, states.|\n",
    "|LOC|         Non-GPE locations, mountain ranges, bodies of water.|\n",
    "|PRODUCT|     Objects, vehicles, foods, etc. (Not services.)|\n",
    "|EVENT|       Named hurricanes, battles, wars, sports events, etc.|\n",
    "|WORK_OF_ART| Titles of books, songs, etc.|\n",
    "|LAW|         Named documents made into laws.|\n",
    "|LANGUAGE|    Any named language.|\n",
    "|DATE|        Absolute or relative dates or periods.|\n",
    "|TIME|        Times smaller than a day.|\n",
    "|PERCENT|     Percentage, including ”%“.|\n",
    "|MONEY|       Monetary values, including unit.|\n",
    "|QUANTITY|    Measurements, as of weight or distance.|\n",
    "|ORDINAL|     “first”, “second”, etc.|\n",
    "|CARDINAL|    Numerals that do not fall under another type.|\n",
    "\n"
   ]
  },
  {
   "cell_type": "markdown",
   "metadata": {
    "slideshow": {
     "slide_type": "subslide"
    }
   },
   "source": [
    "#### Other associated tasks\n",
    "- Relationship extraction/Entity association\n",
    "- Co-reference resolution\n",
    "- Word (sense) disambiguation"
   ]
  },
  {
   "cell_type": "markdown",
   "metadata": {
    "slideshow": {
     "slide_type": "subslide"
    }
   },
   "source": [
    "Recommended reading: <a href=\"https://www.osti.gov/servlets/purl/1630263\">Sandia report surveying Entity-Relation Extraction Tools</a> "
   ]
  },
  {
   "cell_type": "markdown",
   "metadata": {
    "slideshow": {
     "slide_type": "slide"
    }
   },
   "source": [
    "##### <b>Ungraded task 6.2</b>: \n",
    "\n",
    "Using the Kaggle <a href=\"https://www.kaggle.com/wanderfj/enron-spam?select=enron1\">spam dataset [Enron1]</a>, build a pipeline to train and classify spam emails, and benchmark the performance of your classifier.  "
   ]
  },
  {
   "cell_type": "markdown",
   "metadata": {
    "slideshow": {
     "slide_type": "slide"
    }
   },
   "source": [
    "# <span style=\"color:olivedrab\">Mulling over ML mechanics<span>"
   ]
  },
  {
   "cell_type": "markdown",
   "metadata": {
    "slideshow": {
     "slide_type": "fragment"
    }
   },
   "source": [
    "### Lifecycle of ML modeling\n",
    "\n",
    "<img src=\"pics/modelcycle.png\" alt=\"modelcycle\" width=\"600\"/>"
   ]
  },
  {
   "cell_type": "markdown",
   "metadata": {
    "slideshow": {
     "slide_type": "slide"
    }
   },
   "source": [
    "# Model training, tuning and evaluation  \n",
    "\n",
    "> How well does the model do with data not seen during fitting?\n",
    "> - for data which has already been seen, a <span style=\"color:SteelBlue\">memory based model</span> would be always \"perfect\"\n",
    "                                                        \n",
    "<img src=\"pics/traintest.png\" alt=\"bigpic\" width=\"600\"/>"
   ]
  },
  {
   "cell_type": "markdown",
   "metadata": {
    "slideshow": {
     "slide_type": "subslide"
    }
   },
   "source": [
    "### Cross validation\n",
    "Variants: \n",
    "- <span style=\"color:IndianRed\">K-fold</span>\n",
    "- Stratified: Each fold maintains proportional representation of classes\n",
    "    * <a href=\"https://scikit-learn.org/stable/modules/generated/sklearn.model_selection.StratifiedKFold.html\">sklearn.model_selection.StratifiedKFold</a>\n",
    "- Leave one out\n",
    "\n",
    "<img src=\"pics/crosstrain.png\" alt=\"bigpic\" width=\"600\"/>"
   ]
  },
  {
   "cell_type": "markdown",
   "metadata": {
    "slideshow": {
     "slide_type": "subslide"
    }
   },
   "source": [
    "#### Validation curve\n",
    "\n",
    "<img src=\"pics/validationcurve.png\" alt=\"validation curve\" width=\"400\"/>\n",
    "\n",
    "> In this plot (see <a href=\"https://scikit-learn.org/stable/auto_examples/model_selection/plot_validation_curve.html\">source</a> for details and source-code) we see the training scores and validation scores of an SVM for different values of the kernel parameter $\\gamma$, from which we can idenitfy the regions of <span style=\"color:IndianRed\">under-fitting</span> and <span style=\"color:IndianRed\">over-fitting</span>. "
   ]
  },
  {
   "cell_type": "markdown",
   "metadata": {
    "slideshow": {
     "slide_type": "subslide"
    }
   },
   "source": [
    "#### Data leakage\n",
    "\n",
    "> Leakage is essentially the introduction of information about the data mining target, which should not be legitimately available to mine from. \n",
    "> - This may lead to very good performance during the model tuning and evaluation, and yet, lead to poor performance in production environment\n",
    ">   * Recommeded reading: <a href=\"https://www.cs.umb.edu/~ding/history/470_670_fall_2011/papers/cs670_Tran_PreferredPaper_LeakingInDataMining.pdf\">Leakage in Data Mining:\n",
    "Formulation, Detection, and Avoidance by Kaufman et al.</a> "
   ]
  },
  {
   "cell_type": "markdown",
   "metadata": {
    "slideshow": {
     "slide_type": "slide"
    }
   },
   "source": [
    "#### Holdout data for evaluation\n",
    "Separate from the data used in cross-validation\n",
    "\n",
    "<img src=\"pics/holdouteval.png\" alt=\"bigpic\" width=\"600\"/>"
   ]
  },
  {
   "cell_type": "markdown",
   "metadata": {
    "slideshow": {
     "slide_type": "slide"
    }
   },
   "source": [
    "### Accuracy\n",
    "<span style=\"color:SteelBlue\">Limitations</span> of accuracy as a metric\n",
    "\n",
    "<center>\n",
    "<img src=\"pics/classifierchoices.png\" alt=\"classifier choices\" width=\"600\"><br>\n",
    "Image source: Adapted from/edited over <a href=\"http://techflare.blog/3-ways-to-do-dimensionality-reduction-techniques-in-scikit-learn/\">an example of t-SNE manifold learning for dimensionality reduction using sklearn's breast cancer dataset</a>  </center>"
   ]
  },
  {
   "cell_type": "markdown",
   "metadata": {
    "slideshow": {
     "slide_type": "slide"
    }
   },
   "source": [
    "### Confusion matrix\n",
    "Note: These confusion matrices are NOT for the breast cancer data.\n",
    "\n",
    "![Confusion matrix examples](pics/confusionmatrixexamples.png)"
   ]
  },
  {
   "cell_type": "markdown",
   "metadata": {
    "slideshow": {
     "slide_type": "subslide"
    }
   },
   "source": [
    "Image adapted from <a href=\"https://en.wikipedia.org/wiki/Precision_and_recall\">Wikipedia</a> |  False positive and negative\n",
    ":-------------------------:|:-------------------------:\n",
    "<img src=\"pics/precisionrecall1.png\" alt=\"bigpic\" width=\"500\"/>  |  <div style=\"text-align: left\"> <span style=\"color:IndianRed\">False positive:</span> An error in binary classification, where a specific classification label is assigned to a test subject, while it in fact does not belong to said class. <br>e.g., If a person is tested positive for Covid-19 infection, even if the person is in fact not infected.</div><br><br><br><br><div style=\"text-align: left\"> <span style=\"color:IndianRed\">False negative:</span> When the classifier determines that a test subject does not have a particular label, while it in fact belongs to said class. <br>e.g., If a fraudulent credit card transaction is considered legitimate and thus not prevented.</div> "
   ]
  },
  {
   "cell_type": "code",
   "execution_count": 66,
   "metadata": {
    "scrolled": true,
    "slideshow": {
     "slide_type": "subslide"
    }
   },
   "outputs": [
    {
     "data": {
      "text/plain": [
       "<sklearn.metrics._plot.confusion_matrix.ConfusionMatrixDisplay at 0x235b56064c0>"
      ]
     },
     "execution_count": 66,
     "metadata": {},
     "output_type": "execute_result"
    },
    {
     "data": {
      "image/png": "[encoded data removed]",
      "text/plain": [
       "<Figure size 720x288 with 4 Axes>"
      ]
     },
     "metadata": {
      "needs_background": "light"
     },
     "output_type": "display_data"
    }
   ],
   "source": [
    "# Example code to get the confusion matrix using ConfusionMatrixDisplay\n",
    "# Using previously used dataset and model\n",
    "predictions = model3.predict(cv3.transform(X_test))\n",
    "# We are reusing the logistic regression model with 300 dimensions embedding of features\n",
    "cm_notnorm = confusion_matrix(y_test, predictions)\n",
    "cm_norm = confusion_matrix(y_test, predictions, normalize=\"true\")\n",
    "fig, (ax1, ax2) = plt.subplots(1, 2, figsize=(10, 4))\n",
    "fig.suptitle('Confusion matrix - Absolute numbers & Normalized respectively')\n",
    "ConfusionMatrixDisplay(cm_notnorm).plot(cmap=plt.cm.Blues, ax=ax1)\n",
    "ConfusionMatrixDisplay(cm_norm).plot(cmap=plt.cm.Greys, ax=ax2)\n",
    "#ConfusionMatrixDisplay.from_predictions(y_test,predictions,normalize=\"true\",cmap=plt.cm.Greys)"
   ]
  },
  {
   "cell_type": "code",
   "execution_count": 67,
   "metadata": {
    "slideshow": {
     "slide_type": "slide"
    }
   },
   "outputs": [
    {
     "data": {
      "text/plain": [
       "array([[0.74753222, 0.25246778],\n",
       "       [0.97268901, 0.02731099],\n",
       "       [0.01440663, 0.98559337],\n",
       "       ...,\n",
       "       [0.06684778, 0.93315222],\n",
       "       [0.99675985, 0.00324015],\n",
       "       [0.94421511, 0.05578489]])"
      ]
     },
     "execution_count": 67,
     "metadata": {},
     "output_type": "execute_result"
    }
   ],
   "source": [
    "# Instead of the predictions as-is, one can obtain the probability for an individual sample to belong to a given class \n",
    "# By default, a threshold of 0.5 is used by the predict() function\n",
    "model3.predict_proba(cv3.transform(X_test))"
   ]
  },
  {
   "cell_type": "code",
   "execution_count": 68,
   "metadata": {
    "slideshow": {
     "slide_type": "fragment"
    }
   },
   "outputs": [],
   "source": [
    "# However, we can use the predict_proba() to customize the threshold\n",
    "y_pred_03 = (model3.predict_proba(cv3.transform(X_test))[:,1] >= 0.3).astype(bool)\n",
    "y_pred_07 = (model3.predict_proba(cv3.transform(X_test))[:,1] >= 0.7).astype(bool)"
   ]
  },
  {
   "cell_type": "code",
   "execution_count": 69,
   "metadata": {
    "slideshow": {
     "slide_type": "subslide"
    }
   },
   "outputs": [
    {
     "name": "stdout",
     "output_type": "stream",
     "text": [
      "Threshop 0.3\n",
      "               precision    recall  f1-score   support\n",
      "\n",
      "           0       0.92      0.79      0.85      1039\n",
      "           1       0.80      0.93      0.86       961\n",
      "\n",
      "    accuracy                           0.86      2000\n",
      "   macro avg       0.86      0.86      0.86      2000\n",
      "weighted avg       0.87      0.86      0.86      2000\n",
      "\n",
      "Threshop 0.5\n",
      "               precision    recall  f1-score   support\n",
      "\n",
      "           0       0.89      0.86      0.88      1039\n",
      "           1       0.85      0.89      0.87       961\n",
      "\n",
      "    accuracy                           0.87      2000\n",
      "   macro avg       0.87      0.87      0.87      2000\n",
      "weighted avg       0.87      0.87      0.87      2000\n",
      "\n",
      "Threshop 0.7\n",
      "               precision    recall  f1-score   support\n",
      "\n",
      "           0       0.85      0.91      0.88      1039\n",
      "           1       0.89      0.83      0.86       961\n",
      "\n",
      "    accuracy                           0.87      2000\n",
      "   macro avg       0.87      0.87      0.87      2000\n",
      "weighted avg       0.87      0.87      0.87      2000\n",
      "\n"
     ]
    }
   ],
   "source": [
    "# Classification report for customized thresholds\n",
    "from sklearn.metrics import classification_report\n",
    "print(\"Threshop 0.3\\n\", classification_report(y_test,y_pred_03))\n",
    "print(\"Threshop 0.5\\n\", classification_report(y_test,predictions))\n",
    "print(\"Threshop 0.7\\n\", classification_report(y_test,y_pred_07))"
   ]
  },
  {
   "cell_type": "code",
   "execution_count": 70,
   "metadata": {
    "slideshow": {
     "slide_type": "subslide"
    }
   },
   "outputs": [
    {
     "data": {
      "text/plain": [
       "<sklearn.metrics._plot.confusion_matrix.ConfusionMatrixDisplay at 0x235ed65d910>"
      ]
     },
     "execution_count": 70,
     "metadata": {},
     "output_type": "execute_result"
    },
    {
     "data": {
      "image/png": "[encoded data removed]",
      "text/plain": [
       "<Figure size 1008x360 with 6 Axes>"
      ]
     },
     "metadata": {
      "needs_background": "light"
     },
     "output_type": "display_data"
    }
   ],
   "source": [
    "# Confusion matrices (normalized) for customized thresholds\n",
    "cm_norm_03 = confusion_matrix(y_test, y_pred_03, normalize=\"true\")\n",
    "cm_norm_07 = confusion_matrix(y_test, y_pred_07, normalize=\"true\")\n",
    "fig, (ax1, ax2, ax3) = plt.subplots(1, 3, figsize=(14, 5))\n",
    "fig.suptitle('Normalized confusion matrix for various thresholds')\n",
    "ax1.title.set_text('Threshold 0.3')\n",
    "ax2.title.set_text('Threshold 0.5')\n",
    "ax3.title.set_text('Threshold 0.7')\n",
    "ConfusionMatrixDisplay(cm_norm_03).plot(cmap=plt.cm.Greys, ax=ax1)\n",
    "ConfusionMatrixDisplay(cm_norm).plot(cmap=plt.cm.Greys, ax=ax2)\n",
    "ConfusionMatrixDisplay(cm_norm_07).plot(cmap=plt.cm.Greys, ax=ax3)"
   ]
  },
  {
   "cell_type": "markdown",
   "metadata": {
    "slideshow": {
     "slide_type": "subslide"
    }
   },
   "source": [
    "#### On prediction probabilities\n",
    "\n",
    "- Probabilistic, e.g., Naïve Bayes \n",
    "\n",
    "- Non-probabilsitic, e.g., k-Nearest Neighbors (KNN), SVM\n",
    "    - \"probabilities\" may be inferred, e.g., based on distance from decision boundaries\n"
   ]
  },
  {
   "cell_type": "markdown",
   "metadata": {
    "slideshow": {
     "slide_type": "slide"
    }
   },
   "source": [
    "### Trade-off: Precision & Recall \n",
    "\n",
    "Relationship: Selected and relevant elements |  Precision and Recall\n",
    ":-------------------------:|:-------------------------:\n",
    "<img src=\"pics/precisionrecall1.png\" alt=\"bigpic\" width=\"300\"/>  |  <img src=\"pics/precisionrecall2.png\" alt=\"Sampling\" width=\"300\"/>\n",
    "Image adapted from https://en.wikipedia.org/wiki/Precision_and_recall"
   ]
  },
  {
   "cell_type": "markdown",
   "metadata": {
    "slideshow": {
     "slide_type": "subslide"
    }
   },
   "source": [
    "- When trying to detect malignant tumors, will you prioritize precision or recall?\n",
    "\n",
    "- When trying to detect fraudulent credit-card transactions in real-time, will you prioritize precision or recall?\n",
    "\n",
    "- When making recommendations for jobs, what will give a person a better user experience?\n",
    "    * Recall earlier discussions\n",
    "        * <a href=\"http://radar.oreilly.com/2012/07/data-jujitsu.html\">Data Jujitsu</a>"
   ]
  },
  {
   "cell_type": "markdown",
   "metadata": {
    "slideshow": {
     "slide_type": "slide"
    }
   },
   "source": [
    "### Precision recall curve"
   ]
  },
  {
   "cell_type": "code",
   "execution_count": 71,
   "metadata": {
    "slideshow": {
     "slide_type": "fragment"
    }
   },
   "outputs": [
    {
     "name": "stdout",
     "output_type": "stream",
     "text": [
      "precision: [0.4805     0.45368421 0.42444444 0.39235294 0.35875    0.32133333\n",
      " 0.28357143 0.23769231 0.18583333 0.14454545 0.108      0.08333333\n",
      " 0.05875    0.05142857 0.04166667 0.032      0.0275     0.01666667\n",
      " 0.02       0.02       1.        ] \n",
      "\n",
      " recall: [1.         0.89698231 0.7950052  0.69406868 0.59729448 0.50156087\n",
      " 0.41311134 0.32154006 0.23204995 0.16545265 0.11238293 0.0780437\n",
      " 0.04890739 0.03746098 0.02601457 0.01664932 0.01144641 0.00520291\n",
      " 0.00416233 0.00208117 0.        ]\n"
     ]
    }
   ],
   "source": [
    "# Precision recall curve\n",
    "from sklearn.metrics import precision_recall_curve\n",
    "from sklearn.metrics import PrecisionRecallDisplay\n",
    "predictions_prob=[x[0] for x in model3.predict_proba(cv3.transform(X_test))]\n",
    "precision, recall, _ = precision_recall_curve(y_test, predictions_prob)\n",
    "print(\"precision:\",precision[::100],\"\\n\\n\", \"recall:\",recall[::100])"
   ]
  },
  {
   "cell_type": "code",
   "execution_count": 72,
   "metadata": {
    "scrolled": false,
    "slideshow": {
     "slide_type": "subslide"
    }
   },
   "outputs": [
    {
     "data": {
      "text/plain": [
       "<sklearn.metrics._plot.precision_recall_curve.PrecisionRecallDisplay at 0x235ec158a00>"
      ]
     },
     "execution_count": 72,
     "metadata": {},
     "output_type": "execute_result"
    },
    {
     "data": {
      "image/png": "[encoded data removed]",
      "text/plain": [
       "<Figure size 432x288 with 1 Axes>"
      ]
     },
     "metadata": {
      "needs_background": "light"
     },
     "output_type": "display_data"
    }
   ],
   "source": [
    "PrecisionRecallDisplay.from_estimator(model3,cv3.transform(X_test),y_test)\n",
    "# What's the ideal point on/shape of the precision recall curve?"
   ]
  },
  {
   "cell_type": "markdown",
   "metadata": {
    "slideshow": {
     "slide_type": "subslide"
    }
   },
   "source": [
    "### $F$-score\n",
    "\n",
    "- Harmonic mean of precision and recall: $F_1=2 \\cdot \\frac{precision \\cdot recall}{precision + recall}$\n",
    "- If recall is considered $\\beta$ times as important as precision: $F_{\\beta} = (1+\\beta^2) \\cdot \\frac{precision \\cdot recall}{(\\beta^2 \\cdot precision) + recall}$\n",
    "\n",
    "Recall: We used it in the Network Science module, to quantify the quality of clusters"
   ]
  },
  {
   "cell_type": "code",
   "execution_count": 73,
   "metadata": {
    "slideshow": {
     "slide_type": "subslide"
    }
   },
   "outputs": [
    {
     "name": "stdout",
     "output_type": "stream",
     "text": [
      "              precision    recall  f1-score   support\n",
      "\n",
      "           0       0.89      0.86      0.88      1039\n",
      "           1       0.85      0.89      0.87       961\n",
      "\n",
      "    accuracy                           0.87      2000\n",
      "   macro avg       0.87      0.87      0.87      2000\n",
      "weighted avg       0.87      0.87      0.87      2000\n",
      "\n"
     ]
    }
   ],
   "source": [
    "print(classification_report(y_test,predictions))"
   ]
  },
  {
   "cell_type": "markdown",
   "metadata": {
    "slideshow": {
     "slide_type": "subslide"
    }
   },
   "source": [
    "#### Macro and Micro-averages\n",
    "\n",
    "\n",
    "* Macro: \n",
    "    * Metric is computed independently for each class. \n",
    "    * Each class is given equal weight when averaging. \n",
    "        * Classes with small population have disproportionate influence\n",
    "\n",
    "* Micro: Each instance is given equal weight, and the metric is computed across all samples. \n",
    "    * In the event of class-imbalance, size of classes have proportional influence\n",
    "     "
   ]
  },
  {
   "cell_type": "code",
   "execution_count": 74,
   "metadata": {
    "slideshow": {
     "slide_type": "fragment"
    }
   },
   "outputs": [
    {
     "name": "stdout",
     "output_type": "stream",
     "text": [
      "0.8729491796718687\n",
      "0.8729999999999999\n"
     ]
    }
   ],
   "source": [
    "# We are using a perfectly balanced data, so we don't expect to see much differences in this example\n",
    "# But here's how to compute the macro/micro metrics, using an average attribute.\n",
    "# Check manual for a few other choices, e.g. weighted\n",
    "print(f1_score(y_test, predictions, average='macro'))\n",
    "print(f1_score(y_test, predictions, average='micro'))"
   ]
  },
  {
   "cell_type": "markdown",
   "metadata": {
    "slideshow": {
     "slide_type": "slide"
    }
   },
   "source": [
    "### Receiver operating characteristic (ROC) & Area Under Curve (AUC)\n",
    "Etymology: Method's origins in operators of military radar receivers \n",
    "\n",
    "> The ROC curve plots the true positive rate (TPR), a.k.a., Recall or Sensitivity, along Y-axis, and the false positive rate (FPR) along X-axis, by varying decision thresholds. \n",
    "> - Determining the ROC in the multi-class case is non-trivial\n",
    "\n",
    "> ROC aides discard suboptimal models\n",
    "> ![ROC-zoomed.png](pics/ROCZoom.png)"
   ]
  },
  {
   "cell_type": "markdown",
   "metadata": {
    "slideshow": {
     "slide_type": "subslide"
    }
   },
   "source": [
    "> AUC statistic is used for model comparison\n",
    "\n",
    "<center><img src=\"pics/Roc_curve.png\" alt=\"ROC/AUC\" width=\"500\"/><br>\n",
    "Image source: <a href=\"https://en.wikipedia.org/wiki/Receiver_operating_characteristic\">Wikipedia article on ROC</a></center>"
   ]
  },
  {
   "cell_type": "code",
   "execution_count": 75,
   "metadata": {
    "slideshow": {
     "slide_type": "subslide"
    }
   },
   "outputs": [],
   "source": [
    "from sklearn.metrics import roc_curve, auc\n",
    "# following code is adapted from \n",
    "# https://scikit-learn.org/stable/auto_examples/model_selection/plot_roc.html\n",
    "y_score = model3.decision_function(cv3.transform(X_test))\n",
    "# Compute ROC curve and ROC area for each class\n",
    "fpr, tpr, _ = roc_curve(y_test, y_score)\n",
    "roc_auc = auc(fpr, tpr)"
   ]
  },
  {
   "cell_type": "code",
   "execution_count": 76,
   "metadata": {
    "slideshow": {
     "slide_type": "subslide"
    }
   },
   "outputs": [
    {
     "data": {
      "image/png": "[encoded data removed]",
      "text/plain": [
       "<Figure size 432x288 with 1 Axes>"
      ]
     },
     "metadata": {
      "needs_background": "light"
     },
     "output_type": "display_data"
    }
   ],
   "source": [
    "plt.figure()\n",
    "plt.plot(fpr, tpr, color='dodgerblue',\n",
    "         lw=4, label='AUC = %0.3f' % roc_auc)\n",
    "plt.plot([0, 1], [0, 1], color='firebrick', lw=2, linestyle='--')\n",
    "plt.xlim([0, 1.01])\n",
    "plt.ylim([0, 1.01])\n",
    "plt.xlabel('False Positive Rate')\n",
    "plt.ylabel('True Positive Rate')\n",
    "plt.title('Receiver operating characteristic')\n",
    "plt.legend(loc=\"lower right\")\n",
    "plt.show()"
   ]
  },
  {
   "cell_type": "code",
   "execution_count": 77,
   "metadata": {
    "slideshow": {
     "slide_type": "subslide"
    }
   },
   "outputs": [
    {
     "name": "stdout",
     "output_type": "stream",
     "text": [
      "['accuracy', 'adjusted_mutual_info_score', 'adjusted_rand_score', 'average_precision', 'balanced_accuracy', 'completeness_score', 'explained_variance', 'f1', 'f1_macro', 'f1_micro', 'f1_samples', 'f1_weighted', 'fowlkes_mallows_score', 'homogeneity_score', 'jaccard', 'jaccard_macro', 'jaccard_micro', 'jaccard_samples', 'jaccard_weighted', 'max_error', 'mutual_info_score', 'neg_brier_score', 'neg_log_loss', 'neg_mean_absolute_error', 'neg_mean_absolute_percentage_error', 'neg_mean_gamma_deviance', 'neg_mean_poisson_deviance', 'neg_mean_squared_error', 'neg_mean_squared_log_error', 'neg_median_absolute_error', 'neg_root_mean_squared_error', 'normalized_mutual_info_score', 'precision', 'precision_macro', 'precision_micro', 'precision_samples', 'precision_weighted', 'r2', 'rand_score', 'recall', 'recall_macro', 'recall_micro', 'recall_samples', 'recall_weighted', 'roc_auc', 'roc_auc_ovo', 'roc_auc_ovo_weighted', 'roc_auc_ovr', 'roc_auc_ovr_weighted', 'top_k_accuracy', 'v_measure_score']\n"
     ]
    }
   ],
   "source": [
    "# measures supported in sklearn\n",
    "from sklearn.metrics import SCORERS\n",
    "print(sorted(list(SCORERS.keys())))"
   ]
  },
  {
   "cell_type": "markdown",
   "metadata": {
    "slideshow": {
     "slide_type": "slide"
    }
   },
   "source": [
    "### Multi-class data\n",
    "\n",
    "\n",
    "- Some classifiers can natively support multiple classes\n",
    "    - Check more details at https://scikit-learn.org/stable/modules/multiclass.html\n",
    "- Some classifiers can only handle binary classes natively\n",
    "    - They can be re-purposed for multi-class classification.\n",
    "        * One versus Rest: N classifiers \n",
    "            * Caution: An implicit source of imbalance\n",
    "        * One versus One: ${N \\choose 2}$ classifiers\n",
    "\n",
    "One versus Rest | One versus One\n",
    ":-------------------------:|:-------------------------:\n",
    "<img src=\"pics/oneversusrest.png\" alt=\"OVR\" width=\"300\"/>  |  <img src=\"pics/oneversusone.png\" alt=\"OVO\" width=\"300\"/>"
   ]
  },
  {
   "cell_type": "code",
   "execution_count": 78,
   "metadata": {
    "slideshow": {
     "slide_type": "subslide"
    }
   },
   "outputs": [
    {
     "data": {
      "text/plain": [
       "{False: 5, True: 145}"
      ]
     },
     "execution_count": 78,
     "metadata": {},
     "output_type": "execute_result"
    }
   ],
   "source": [
    "# Scikit-learn allows to choose, e.g., SVC uses decision_function_shape{‘ovo’, ‘ovr’}, default=’ovr’\n",
    "# An alternative is to explicitly use the multiclass library \n",
    "from sklearn.multiclass import OneVsRestClassifier, OneVsOneClassifier\n",
    "from sklearn.preprocessing import StandardScaler\n",
    "from sklearn.svm import LinearSVC\n",
    "from sklearn import datasets\n",
    "iris_X, iris_y = datasets.load_iris(return_X_y=True)\n",
    "iris_X = StandardScaler().fit_transform(iris_X)\n",
    "# Caution: I have not used train/test splits in this example\n",
    "OvR=OneVsRestClassifier(LinearSVC(random_state=0)).fit(iris_X, iris_y).predict(iris_X)\n",
    "OvO=OneVsOneClassifier(LinearSVC(random_state=0)).fit(iris_X, iris_y).predict(iris_X)\n",
    "unique, counts = np.unique(OvR==OvO, return_counts=True)\n",
    "dict(zip(unique, counts))"
   ]
  },
  {
   "cell_type": "markdown",
   "metadata": {
    "slideshow": {
     "slide_type": "slide"
    }
   },
   "source": [
    "### Grid search\n",
    "Exploring the parameter space to identify good/optimal parameters\n",
    "- Parameter choices depend on the algorithm being used \n",
    "- See <a href=\"https://scikit-learn.org/stable/modules/generated/sklearn.model_selection.GridSearchCV.html\">Scikit-learn examples</a> for more details and sophisticated use cases. "
   ]
  },
  {
   "cell_type": "code",
   "execution_count": 79,
   "metadata": {
    "slideshow": {
     "slide_type": "subslide"
    }
   },
   "outputs": [
    {
     "data": {
      "text/plain": [
       "GridSearchCV(estimator=SVC(),\n",
       "             param_grid={'C': range(1, 11, 2), 'kernel': ('linear', 'rbf')})"
      ]
     },
     "execution_count": 79,
     "metadata": {},
     "output_type": "execute_result"
    }
   ],
   "source": [
    "# A very basic example of Grid search \n",
    "from sklearn.ensemble import RandomForestClassifier \n",
    "from sklearn.model_selection import GridSearchCV\n",
    "iris = datasets.load_iris()\n",
    "iris_X, iris_y = datasets.load_iris(return_X_y=True)\n",
    "parameters = {'kernel':('linear', 'rbf'), 'C':range(1,11,2)}\n",
    "# Remember: Parameter choices depend on the algorithm being used\n",
    "svc = SVC()\n",
    "clf = GridSearchCV(estimator=svc, param_grid=parameters)\n",
    "clf.fit(iris_X, iris_y)"
   ]
  },
  {
   "cell_type": "code",
   "execution_count": 80,
   "metadata": {
    "slideshow": {
     "slide_type": "subslide"
    }
   },
   "outputs": [
    {
     "name": "stdout",
     "output_type": "stream",
     "text": [
      "['mean_fit_time', 'std_fit_time', 'mean_score_time', 'std_score_time', 'param_C', 'param_kernel', 'params', 'split0_test_score', 'split1_test_score', 'split2_test_score', 'split3_test_score', 'split4_test_score', 'mean_test_score', 'std_test_score', 'rank_test_score']\n"
     ]
    }
   ],
   "source": [
    "results=clf.cv_results_\n",
    "# What all is available in the results?\n",
    "print(list(results.keys()))"
   ]
  },
  {
   "cell_type": "code",
   "execution_count": 81,
   "metadata": {
    "slideshow": {
     "slide_type": "fragment"
    }
   },
   "outputs": [
    {
     "data": {
      "text/plain": [
       "array([0.98      , 0.96666667, 0.97333333, 0.98      , 0.98      ,\n",
       "       0.98666667, 0.97333333, 0.98666667, 0.97333333, 0.98      ])"
      ]
     },
     "execution_count": 81,
     "metadata": {},
     "output_type": "execute_result"
    }
   ],
   "source": [
    "results['mean_test_score']"
   ]
  },
  {
   "cell_type": "code",
   "execution_count": 82,
   "metadata": {
    "slideshow": {
     "slide_type": "fragment"
    }
   },
   "outputs": [
    {
     "data": {
      "text/plain": [
       "array([ 3, 10,  7,  3,  3,  1,  7,  1,  7,  3])"
      ]
     },
     "execution_count": 82,
     "metadata": {},
     "output_type": "execute_result"
    }
   ],
   "source": [
    "results['rank_test_score']"
   ]
  },
  {
   "cell_type": "markdown",
   "metadata": {
    "slideshow": {
     "slide_type": "slide"
    }
   },
   "source": [
    "#### Model tuning and evaluation wrap-up\n",
    "\n",
    "- Our discussion was anchored around <span style=\"color:IndianRed\">supervised learning</span>, and for <span style=\"color:SteelBlue\">Classification</span> task in particular\n",
    "    * Metrics for <span style=\"color:SteelBlue\">Regression</span> are simpler, e.g., r2 score, mean absolute error, etc\n",
    "    * For <span style=\"color:IndianRed\">unsupervised learning</span>, e.g., <span style=\"color:SteelBlue\">Clustering</span>, some of the measures we saw here, e.g., F-score can be repurposed, if (a big IF!) the \"ground truth\" is known. \n",
    "- While many measures exist and several/all of them can be used to understand the general behaviour of the models, final evaluation and optimization may need to be <span style=\"color:SteelBlue\">use-case driven</span>.\n"
   ]
  },
  {
   "cell_type": "markdown",
   "metadata": {
    "slideshow": {
     "slide_type": "slide"
    }
   },
   "source": [
    "## Transformations\n",
    "- Revisting <span style=\"color:IndianRed\">representation</span> phase of the ML-lifecycle\n",
    "    - We have already discussed some basics: Data cleaning, removal of samples with missing values, syntactic conversion of information so that the algorithms can \"consume\" the data (e.g., CountVectorizer)  \n",
    "    - <span style=\"color:IndianRed\">Standardization:</span> Normalization, scaling, etc.\n",
    "        * See <a href=\"https://scikit-learn.org/stable/modules/classes.html#module-sklearn.preprocessing\">sklearn.preprocessing</a>\n",
    "            * <span style=\"color:SteelBlue\">StandardScaler:</span> Standardize features by removing the mean and scaling to unit variance.\n",
    "            * <span style=\"color:SteelBlue\">MinMaxScaler:</span> Transform features by scaling each feature to a given range."
   ]
  },
  {
   "cell_type": "markdown",
   "metadata": {
    "slideshow": {
     "slide_type": "subslide"
    }
   },
   "source": [
    "## Transformations\n",
    "- Revisting <span style=\"color:IndianRed\">representation</span>\n",
    "    - <span style=\"color:IndianRed\">Data embedding/dimensionality reduction:</span> Principal Component Analysis (PCA), Linear discriminant analysis (LDA), <a href=\"https://scikit-learn.org/stable/modules/manifold.html\">manifold</a>, etc.\n",
    "    \n",
    "Recommended reading: Blog <a href=\"http://techflare.blog/3-ways-to-do-dimensionality-reduction-techniques-in-scikit-learn/\">showcasing multiple dimensionality reduction techniques</a>.    "
   ]
  },
  {
   "cell_type": "markdown",
   "metadata": {
    "slideshow": {
     "slide_type": "subslide"
    }
   },
   "source": [
    "### Philosophical tangent: PCA vs LDA \n",
    "PCA |  LDA\n",
    ":-------------------------:|:-------------------------:\n",
    "<img src=\"pics/pca.png\" alt=\"bigpic\" width=\"263\"/>  |  <img src=\"pics/lda.png\" alt=\"Sampling\" width=\"300\"/>\n",
    "Image source <a href=\"https://sebastianraschka.com/faq/docs/lda-vs-pca.html\">https://sebastianraschka.com/</a>. See also <a href=\"https://scikit-learn.org/stable/auto_examples/decomposition/plot_pca_vs_lda.html\">scikit-learn PCA & LDA</a> usage example."
   ]
  },
  {
   "cell_type": "code",
   "execution_count": 83,
   "metadata": {
    "slideshow": {
     "slide_type": "subslide"
    }
   },
   "outputs": [],
   "source": [
    "# The following example of using PCA, Standardization and make_pipeline is adapted from \n",
    "# https://scikit-learn.org/stable/auto_examples/preprocessing/plot_scaling_importance.html#sphx-glr-auto-examples-preprocessing-plot-scaling-importance-py\n",
    "# It has been made available under License: BSD 3 clause by\n",
    "# Tyler Lanigan <tylerlanigan@gmail.com> and Sebastian Raschka <mail@sebastianraschka.com>\n",
    "\n",
    "from sklearn.preprocessing import StandardScaler, MinMaxScaler\n",
    "from sklearn.decomposition import PCA\n",
    "from sklearn.naive_bayes import GaussianNB\n",
    "from sklearn import metrics\n",
    "from sklearn.datasets import load_wine\n",
    "from sklearn.pipeline import make_pipeline\n",
    "RANDOM_STATE = 42\n",
    "FIG_SIZE = (10, 4)"
   ]
  },
  {
   "cell_type": "code",
   "execution_count": 84,
   "metadata": {
    "slideshow": {
     "slide_type": "subslide"
    }
   },
   "outputs": [],
   "source": [
    "features, target = load_wine(return_X_y=True)\n",
    "# 2:1 Train-Test split\n",
    "X_train_wine, X_test_wine, y_train_wine, y_test_wine = train_test_split(features, target,\n",
    "                                                    test_size=0.33,\n",
    "                                                    random_state=RANDOM_STATE) \n",
    "# Fit the raw data and predict using GNB following PCA.\n",
    "unscaled_clf = make_pipeline(PCA(n_components=2), GaussianNB())\n",
    "unscaled_clf.fit(X_train_wine, y_train_wine)\n",
    "pred_test2 = unscaled_clf.predict(X_test_wine)\n",
    "# Using PCA with 3 components\n",
    "unscaled_clf = make_pipeline(PCA(n_components=3), GaussianNB())\n",
    "unscaled_clf.fit(X_train_wine, y_train_wine)\n",
    "pred_test3 = unscaled_clf.predict(X_test_wine)"
   ]
  },
  {
   "cell_type": "code",
   "execution_count": 85,
   "metadata": {
    "slideshow": {
     "slide_type": "subslide"
    }
   },
   "outputs": [
    {
     "name": "stdout",
     "output_type": "stream",
     "text": [
      "PCA (2 components) + GNB \n",
      "               precision    recall  f1-score   support\n",
      "\n",
      "           0       0.95      1.00      0.98        20\n",
      "           1       0.78      0.75      0.77        24\n",
      "           2       0.60      0.60      0.60        15\n",
      "\n",
      "    accuracy                           0.80        59\n",
      "   macro avg       0.78      0.78      0.78        59\n",
      "weighted avg       0.79      0.80      0.79        59\n",
      "\n",
      "PCA (3 components) + GNB \n",
      "               precision    recall  f1-score   support\n",
      "\n",
      "           0       1.00      1.00      1.00        20\n",
      "           1       0.88      0.92      0.90        24\n",
      "           2       0.86      0.80      0.83        15\n",
      "\n",
      "    accuracy                           0.92        59\n",
      "   macro avg       0.91      0.91      0.91        59\n",
      "weighted avg       0.91      0.92      0.91        59\n",
      "\n"
     ]
    }
   ],
   "source": [
    "print(\"PCA (2 components) + GNB \\n\", metrics.classification_report(y_test_wine, pred_test2))\n",
    "print(\"PCA (3 components) + GNB \\n\", metrics.classification_report(y_test_wine, pred_test3))"
   ]
  },
  {
   "cell_type": "code",
   "execution_count": 86,
   "metadata": {
    "slideshow": {
     "slide_type": "subslide"
    }
   },
   "outputs": [
    {
     "name": "stdout",
     "output_type": "stream",
     "text": [
      "Standardization + PCA (2 components) + GNB \n",
      "               precision    recall  f1-score   support\n",
      "\n",
      "           0       1.00      0.95      0.97        20\n",
      "           1       0.96      1.00      0.98        24\n",
      "           2       1.00      1.00      1.00        15\n",
      "\n",
      "    accuracy                           0.98        59\n",
      "   macro avg       0.99      0.98      0.98        59\n",
      "weighted avg       0.98      0.98      0.98        59\n",
      "\n"
     ]
    }
   ],
   "source": [
    "# Fit to data and predict using a pipeline of scaling/standardization, PCA and GNB.\n",
    "std_clf = make_pipeline(StandardScaler(), PCA(n_components=2), GaussianNB())\n",
    "# try using MinMaxScaler and see what you get!\n",
    "std_clf.fit(X_train_wine, y_train_wine)\n",
    "pred_test_std = std_clf.predict(X_test_wine)\n",
    "print(\"Standardization + PCA (2 components) + GNB \\n\", metrics.classification_report(y_test_wine, pred_test_std))"
   ]
  },
  {
   "cell_type": "code",
   "execution_count": 87,
   "metadata": {
    "slideshow": {
     "slide_type": "subslide"
    }
   },
   "outputs": [
    {
     "name": "stdout",
     "output_type": "stream",
     "text": [
      "\n",
      "PC 1 without scaling:\n",
      " [ 1.77738063e-03 -8.13532033e-04  1.41672133e-04 -5.43218358e-03\n",
      "  1.96719103e-02  1.04099788e-03  1.54504422e-03 -1.15638097e-04\n",
      "  6.52261761e-04  2.26846944e-03  1.61421529e-04  7.81011292e-04\n",
      "  9.99784964e-01]\n",
      "\n",
      "PC 1 with scaling:\n",
      " [ 0.14733424 -0.25027499 -0.01252058 -0.23440896  0.15738948  0.39369045\n",
      "  0.41565632 -0.27414911  0.33265958 -0.10517746  0.29234204  0.38195327\n",
      "  0.28245765]\n"
     ]
    }
   ],
   "source": [
    "# Extract PCA from pipeline\n",
    "pca = unscaled_clf.named_steps['pca']\n",
    "pca_std = std_clf.named_steps['pca']\n",
    "\n",
    "# Show first principal components\n",
    "print('\\nPC 1 without scaling:\\n', pca.components_[0])\n",
    "print('\\nPC 1 with scaling:\\n', pca_std.components_[0])\n",
    "\n",
    "# Use PCA without and with scale on X_train data for visualization.\n",
    "X_train_transformed = pca.transform(X_train_wine)\n",
    "scaler = std_clf.named_steps['standardscaler']\n",
    "X_train_std_transformed = pca_std.transform(scaler.transform(X_train_wine))"
   ]
  },
  {
   "cell_type": "code",
   "execution_count": 88,
   "metadata": {
    "slideshow": {
     "slide_type": "subslide"
    }
   },
   "outputs": [
    {
     "data": {
      "image/png": "[encoded data removed]",
      "text/plain": [
       "<Figure size 720x288 with 2 Axes>"
      ]
     },
     "metadata": {
      "needs_background": "light"
     },
     "output_type": "display_data"
    }
   ],
   "source": [
    "fig, (ax1, ax2) = plt.subplots(ncols=2, figsize=FIG_SIZE)\n",
    "for l, c, m in zip(range(0, 3), ('blue', 'red', 'green'), ('^', 's', 'o')):\n",
    "    ax1.scatter(X_train_transformed[y_train_wine == l, 0],\n",
    "                X_train_transformed[y_train_wine == l, 1],\n",
    "                color=c, label='class %s' % l, alpha=0.5, marker=m)\n",
    "for l, c, m in zip(range(0, 3), ('blue', 'red', 'green'), ('^', 's', 'o')):\n",
    "    ax2.scatter(X_train_std_transformed[y_train_wine == l, 0],\n",
    "                X_train_std_transformed[y_train_wine == l, 1],\n",
    "                color=c, label='class %s' % l, alpha=0.5, marker=m)           \n",
    "ax1.set_title('Training dataset after PCA')\n",
    "ax2.set_title('Standardized training dataset after PCA')\n",
    "for ax in (ax1, ax2):\n",
    "    ax.set_xlabel('1st principal component')\n",
    "    ax.set_ylabel('2nd principal component')\n",
    "    ax.legend(loc='upper right')"
   ]
  },
  {
   "cell_type": "markdown",
   "metadata": {
    "slideshow": {
     "slide_type": "slide"
    }
   },
   "source": [
    "#### Ungraded task 6.3\n",
    "\n",
    "Consider the Iris dataset from sklearn. \n",
    "Build and evaluate classifiers by following the various principles discussed in this module, e.g., taking into account class imbalance (if any), difference in scales of features, number of dimensions, choice of classifier algorithms and parameters there-in. \n",
    "\n",
    "Share your code along with a summary of the classification report (and any other measures and tools, e.g. plotting the results from grid search) achieved by the \"best\" model you can train.  \n",
    "\n",
    "> To get started: <span style=\"color:SteelBlue\">from sklearn.datasets import load_iris</span>  "
   ]
  },
  {
   "cell_type": "markdown",
   "metadata": {
    "slideshow": {
     "slide_type": "slide"
    }
   },
   "source": [
    "<center><span style=\"font-size: 250%\">\n",
    "    <span style=\"color:firebrick\">That's it folks!</span><br></span>\n",
    "<img alt=\"Do electronic sheeps understand jokes?\" src=\"pics/electronicsheep2.png\" width=\"700\">\n",
    "</center>\n"
   ]
  }
 ],
 "metadata": {
  "kernelspec": {
   "display_name": "Python 3",
   "language": "python",
   "name": "python3"
  },
  "language_info": {
   "codemirror_mode": {
    "name": "ipython",
    "version": 3
   },
   "file_extension": ".py",
   "mimetype": "text/x-python",
   "name": "python",
   "nbconvert_exporter": "python",
   "pygments_lexer": "ipython3",
   "version": "3.8.5"
  }
 },
 "nbformat": 4,
 "nbformat_minor": 4
}
